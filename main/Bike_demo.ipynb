{
  "nbformat": 4,
  "nbformat_minor": 0,
  "metadata": {
    "colab": {
      "provenance": []
    },
    "kernelspec": {
      "name": "ir",
      "display_name": "R"
    },
    "language_info": {
      "name": "R"
    }
  },
  "cells": [
    {
      "cell_type": "code",
      "execution_count": 1,
      "metadata": {
        "colab": {
          "base_uri": "https://localhost:8080/"
        },
        "id": "uceVTpaUvUze",
        "outputId": "1eb3ccce-7104-4663-c182-24a9d0fc1288"
      },
      "outputs": [
        {
          "output_type": "stream",
          "name": "stderr",
          "text": [
            "Installing package into ‘/usr/local/lib/R/site-library’\n",
            "(as ‘lib’ is unspecified)\n",
            "\n",
            "Installing package into ‘/usr/local/lib/R/site-library’\n",
            "(as ‘lib’ is unspecified)\n",
            "\n",
            "also installing the dependency ‘snakecase’\n",
            "\n",
            "\n",
            "Installing package into ‘/usr/local/lib/R/site-library’\n",
            "(as ‘lib’ is unspecified)\n",
            "\n",
            "Installing package into ‘/usr/local/lib/R/site-library’\n",
            "(as ‘lib’ is unspecified)\n",
            "\n",
            "Installing package into ‘/usr/local/lib/R/site-library’\n",
            "(as ‘lib’ is unspecified)\n",
            "\n",
            "Installing package into ‘/usr/local/lib/R/site-library’\n",
            "(as ‘lib’ is unspecified)\n",
            "\n",
            "Installing package into ‘/usr/local/lib/R/site-library’\n",
            "(as ‘lib’ is unspecified)\n",
            "\n",
            "── \u001b[1mAttaching core tidyverse packages\u001b[22m ──────────────────────── tidyverse 2.0.0 ──\n",
            "\u001b[32m✔\u001b[39m \u001b[34mdplyr    \u001b[39m 1.1.4     \u001b[32m✔\u001b[39m \u001b[34mreadr    \u001b[39m 2.1.5\n",
            "\u001b[32m✔\u001b[39m \u001b[34mforcats  \u001b[39m 1.0.0     \u001b[32m✔\u001b[39m \u001b[34mstringr  \u001b[39m 1.5.1\n",
            "\u001b[32m✔\u001b[39m \u001b[34mggplot2  \u001b[39m 3.5.1     \u001b[32m✔\u001b[39m \u001b[34mtibble   \u001b[39m 3.2.1\n",
            "\u001b[32m✔\u001b[39m \u001b[34mlubridate\u001b[39m 1.9.3     \u001b[32m✔\u001b[39m \u001b[34mtidyr    \u001b[39m 1.3.1\n",
            "\u001b[32m✔\u001b[39m \u001b[34mpurrr    \u001b[39m 1.0.2     \n",
            "── \u001b[1mConflicts\u001b[22m ────────────────────────────────────────── tidyverse_conflicts() ──\n",
            "\u001b[31m✖\u001b[39m \u001b[34mdplyr\u001b[39m::\u001b[32mfilter()\u001b[39m masks \u001b[34mstats\u001b[39m::filter()\n",
            "\u001b[31m✖\u001b[39m \u001b[34mdplyr\u001b[39m::\u001b[32mlag()\u001b[39m    masks \u001b[34mstats\u001b[39m::lag()\n",
            "\u001b[36mℹ\u001b[39m Use the conflicted package (\u001b[3m\u001b[34m<http://conflicted.r-lib.org/>\u001b[39m\u001b[23m) to force all conflicts to become errors\n",
            "\n",
            "Attaching package: ‘janitor’\n",
            "\n",
            "\n",
            "The following objects are masked from ‘package:stats’:\n",
            "\n",
            "    chisq.test, fisher.test\n",
            "\n",
            "\n",
            "\n",
            "Attaching package: ‘hms’\n",
            "\n",
            "\n",
            "The following object is masked from ‘package:lubridate’:\n",
            "\n",
            "    hms\n",
            "\n",
            "\n",
            "\n",
            "Attaching package: ‘data.table’\n",
            "\n",
            "\n",
            "The following objects are masked from ‘package:lubridate’:\n",
            "\n",
            "    hour, isoweek, mday, minute, month, quarter, second, wday, week,\n",
            "    yday, year\n",
            "\n",
            "\n",
            "The following objects are masked from ‘package:dplyr’:\n",
            "\n",
            "    between, first, last\n",
            "\n",
            "\n",
            "The following object is masked from ‘package:purrr’:\n",
            "\n",
            "    transpose\n",
            "\n",
            "\n"
          ]
        }
      ],
      "source": [
        "install.packages(\"tidyverse\")\n",
        "install.packages(\"janitor\")\n",
        "install.packages(\"tidyverse\")\n",
        "install.packages(\"janitor\")\n",
        "install.packages(\"lubridate\")\n",
        "install.packages(\"hms\")\n",
        "install.packages(\"data.table\")\n",
        "library(tidyverse)\n",
        "library(janitor)\n",
        "library(lubridate)\n",
        "library(hms)\n",
        "library(data.table)"
      ]
    },
    {
      "cell_type": "code",
      "source": [
        "#load original .csv files, a years worth of data from August 2020 to July 2021\n",
        "jan01_df <- read_csv(\"/content/202401-divvy-tripdata.csv\")\n",
        "feb02_df <- read_csv(\"/content/202402-divvy-tripdata.csv\")\n",
        "mar03_df <- read_csv(\"/content/202103-divvy-tripdata.csv\")\n",
        "apr04_df <- read_csv(\"/content/202404-divvy-tripdata.csv\")\n",
        "may05_df <- read_csv(\"/content/202405-divvy-tripdata.csv\")\n",
        "jun06_df <- read_csv(\"/content/202406-divvy-tripdata.csv\")\n",
        "jul07_df <- read_csv(\"/content/202407-divvy-tripdata.csv\")\n",
        "aug08_df <- read_csv(\"/content/202408-divvy-tripdata.csv\")\n",
        "sep09_df <- read_csv(\"/content/202409-divvy-tripdata.csv\")\n",
        "oct10_df <- read_csv(\"/content/202410-divvy-tripdata.csv\")\n",
        ""
      ],
      "metadata": {
        "colab": {
          "base_uri": "https://localhost:8080/"
        },
        "id": "RX8Jp0Exw6sy",
        "outputId": "ea0a4e64-1777-4101-b7fe-f311b8d79f8e"
      },
      "execution_count": 86,
      "outputs": [
        {
          "output_type": "stream",
          "name": "stderr",
          "text": [
            "\u001b[1mRows: \u001b[22m\u001b[34m144873\u001b[39m \u001b[1mColumns: \u001b[22m\u001b[34m13\u001b[39m\n",
            "\u001b[36m──\u001b[39m \u001b[1mColumn specification\u001b[22m \u001b[36m────────────────────────────────────────────────────────\u001b[39m\n",
            "\u001b[1mDelimiter:\u001b[22m \",\"\n",
            "\u001b[31mchr\u001b[39m  (7): ride_id, rideable_type, start_station_name, start_station_id, end_...\n",
            "\u001b[32mdbl\u001b[39m  (4): start_lat, start_lng, end_lat, end_lng\n",
            "\u001b[34mdttm\u001b[39m (2): started_at, ended_at\n",
            "\n",
            "\u001b[36mℹ\u001b[39m Use `spec()` to retrieve the full column specification for this data.\n",
            "\u001b[36mℹ\u001b[39m Specify the column types or set `show_col_types = FALSE` to quiet this message.\n",
            "\u001b[1mRows: \u001b[22m\u001b[34m223164\u001b[39m \u001b[1mColumns: \u001b[22m\u001b[34m13\u001b[39m\n",
            "\u001b[36m──\u001b[39m \u001b[1mColumn specification\u001b[22m \u001b[36m────────────────────────────────────────────────────────\u001b[39m\n",
            "\u001b[1mDelimiter:\u001b[22m \",\"\n",
            "\u001b[31mchr\u001b[39m  (7): ride_id, rideable_type, start_station_name, start_station_id, end_...\n",
            "\u001b[32mdbl\u001b[39m  (4): start_lat, start_lng, end_lat, end_lng\n",
            "\u001b[34mdttm\u001b[39m (2): started_at, ended_at\n",
            "\n",
            "\u001b[36mℹ\u001b[39m Use `spec()` to retrieve the full column specification for this data.\n",
            "\u001b[36mℹ\u001b[39m Specify the column types or set `show_col_types = FALSE` to quiet this message.\n",
            "\u001b[1mRows: \u001b[22m\u001b[34m228496\u001b[39m \u001b[1mColumns: \u001b[22m\u001b[34m13\u001b[39m\n",
            "\u001b[36m──\u001b[39m \u001b[1mColumn specification\u001b[22m \u001b[36m────────────────────────────────────────────────────────\u001b[39m\n",
            "\u001b[1mDelimiter:\u001b[22m \",\"\n",
            "\u001b[31mchr\u001b[39m  (7): ride_id, rideable_type, start_station_name, start_station_id, end_...\n",
            "\u001b[32mdbl\u001b[39m  (4): start_lat, start_lng, end_lat, end_lng\n",
            "\u001b[34mdttm\u001b[39m (2): started_at, ended_at\n",
            "\n",
            "\u001b[36mℹ\u001b[39m Use `spec()` to retrieve the full column specification for this data.\n",
            "\u001b[36mℹ\u001b[39m Specify the column types or set `show_col_types = FALSE` to quiet this message.\n",
            "\u001b[1mRows: \u001b[22m\u001b[34m415025\u001b[39m \u001b[1mColumns: \u001b[22m\u001b[34m13\u001b[39m\n",
            "\u001b[36m──\u001b[39m \u001b[1mColumn specification\u001b[22m \u001b[36m────────────────────────────────────────────────────────\u001b[39m\n",
            "\u001b[1mDelimiter:\u001b[22m \",\"\n",
            "\u001b[31mchr\u001b[39m  (7): ride_id, rideable_type, start_station_name, start_station_id, end_...\n",
            "\u001b[32mdbl\u001b[39m  (4): start_lat, start_lng, end_lat, end_lng\n",
            "\u001b[34mdttm\u001b[39m (2): started_at, ended_at\n",
            "\n",
            "\u001b[36mℹ\u001b[39m Use `spec()` to retrieve the full column specification for this data.\n",
            "\u001b[36mℹ\u001b[39m Specify the column types or set `show_col_types = FALSE` to quiet this message.\n",
            "\u001b[1mRows: \u001b[22m\u001b[34m609493\u001b[39m \u001b[1mColumns: \u001b[22m\u001b[34m13\u001b[39m\n",
            "\u001b[36m──\u001b[39m \u001b[1mColumn specification\u001b[22m \u001b[36m────────────────────────────────────────────────────────\u001b[39m\n",
            "\u001b[1mDelimiter:\u001b[22m \",\"\n",
            "\u001b[31mchr\u001b[39m  (7): ride_id, rideable_type, start_station_name, start_station_id, end_...\n",
            "\u001b[32mdbl\u001b[39m  (4): start_lat, start_lng, end_lat, end_lng\n",
            "\u001b[34mdttm\u001b[39m (2): started_at, ended_at\n",
            "\n",
            "\u001b[36mℹ\u001b[39m Use `spec()` to retrieve the full column specification for this data.\n",
            "\u001b[36mℹ\u001b[39m Specify the column types or set `show_col_types = FALSE` to quiet this message.\n",
            "\u001b[1mRows: \u001b[22m\u001b[34m710721\u001b[39m \u001b[1mColumns: \u001b[22m\u001b[34m13\u001b[39m\n",
            "\u001b[36m──\u001b[39m \u001b[1mColumn specification\u001b[22m \u001b[36m────────────────────────────────────────────────────────\u001b[39m\n",
            "\u001b[1mDelimiter:\u001b[22m \",\"\n",
            "\u001b[31mchr\u001b[39m  (7): ride_id, rideable_type, start_station_name, start_station_id, end_...\n",
            "\u001b[32mdbl\u001b[39m  (4): start_lat, start_lng, end_lat, end_lng\n",
            "\u001b[34mdttm\u001b[39m (2): started_at, ended_at\n",
            "\n",
            "\u001b[36mℹ\u001b[39m Use `spec()` to retrieve the full column specification for this data.\n",
            "\u001b[36mℹ\u001b[39m Specify the column types or set `show_col_types = FALSE` to quiet this message.\n",
            "\u001b[1mRows: \u001b[22m\u001b[34m748962\u001b[39m \u001b[1mColumns: \u001b[22m\u001b[34m13\u001b[39m\n",
            "\u001b[36m──\u001b[39m \u001b[1mColumn specification\u001b[22m \u001b[36m────────────────────────────────────────────────────────\u001b[39m\n",
            "\u001b[1mDelimiter:\u001b[22m \",\"\n",
            "\u001b[31mchr\u001b[39m  (7): ride_id, rideable_type, start_station_name, start_station_id, end_...\n",
            "\u001b[32mdbl\u001b[39m  (4): start_lat, start_lng, end_lat, end_lng\n",
            "\u001b[34mdttm\u001b[39m (2): started_at, ended_at\n",
            "\n",
            "\u001b[36mℹ\u001b[39m Use `spec()` to retrieve the full column specification for this data.\n",
            "\u001b[36mℹ\u001b[39m Specify the column types or set `show_col_types = FALSE` to quiet this message.\n",
            "\u001b[1mRows: \u001b[22m\u001b[34m755639\u001b[39m \u001b[1mColumns: \u001b[22m\u001b[34m13\u001b[39m\n",
            "\u001b[36m──\u001b[39m \u001b[1mColumn specification\u001b[22m \u001b[36m────────────────────────────────────────────────────────\u001b[39m\n",
            "\u001b[1mDelimiter:\u001b[22m \",\"\n",
            "\u001b[31mchr\u001b[39m  (7): ride_id, rideable_type, start_station_name, start_station_id, end_...\n",
            "\u001b[32mdbl\u001b[39m  (4): start_lat, start_lng, end_lat, end_lng\n",
            "\u001b[34mdttm\u001b[39m (2): started_at, ended_at\n",
            "\n",
            "\u001b[36mℹ\u001b[39m Use `spec()` to retrieve the full column specification for this data.\n",
            "\u001b[36mℹ\u001b[39m Specify the column types or set `show_col_types = FALSE` to quiet this message.\n",
            "\u001b[1mRows: \u001b[22m\u001b[34m821276\u001b[39m \u001b[1mColumns: \u001b[22m\u001b[34m13\u001b[39m\n",
            "\u001b[36m──\u001b[39m \u001b[1mColumn specification\u001b[22m \u001b[36m────────────────────────────────────────────────────────\u001b[39m\n",
            "\u001b[1mDelimiter:\u001b[22m \",\"\n",
            "\u001b[31mchr\u001b[39m  (7): ride_id, rideable_type, start_station_name, start_station_id, end_...\n",
            "\u001b[32mdbl\u001b[39m  (4): start_lat, start_lng, end_lat, end_lng\n",
            "\u001b[34mdttm\u001b[39m (2): started_at, ended_at\n",
            "\n",
            "\u001b[36mℹ\u001b[39m Use `spec()` to retrieve the full column specification for this data.\n",
            "\u001b[36mℹ\u001b[39m Specify the column types or set `show_col_types = FALSE` to quiet this message.\n",
            "\u001b[1mRows: \u001b[22m\u001b[34m616281\u001b[39m \u001b[1mColumns: \u001b[22m\u001b[34m13\u001b[39m\n",
            "\u001b[36m──\u001b[39m \u001b[1mColumn specification\u001b[22m \u001b[36m────────────────────────────────────────────────────────\u001b[39m\n",
            "\u001b[1mDelimiter:\u001b[22m \",\"\n",
            "\u001b[31mchr\u001b[39m  (7): ride_id, rideable_type, start_station_name, start_station_id, end_...\n",
            "\u001b[32mdbl\u001b[39m  (4): start_lat, start_lng, end_lat, end_lng\n",
            "\u001b[34mdttm\u001b[39m (2): started_at, ended_at\n",
            "\n",
            "\u001b[36mℹ\u001b[39m Use `spec()` to retrieve the full column specification for this data.\n",
            "\u001b[36mℹ\u001b[39m Specify the column types or set `show_col_types = FALSE` to quiet this message.\n"
          ]
        }
      ]
    },
    {
      "cell_type": "code",
      "source": [
        "#merge all of the data frames into one year view\n",
        "cyclistic_df <- rbind (aug08_df, sep09_df, oct10_df, jan01_df, feb02_df, mar03_df, apr04_df, may05_df, jun06_df, jul07_df)"
      ],
      "metadata": {
        "id": "M_qc1Sxi9eJu"
      },
      "execution_count": 87,
      "outputs": []
    },
    {
      "cell_type": "code",
      "source": [
        "#remove individual month data frames to clear up space in the environment\n",
        "remove(aug08_df, sep09_df, oct10_df,jan01_df, feb02_df, mar03_df, apr04_df, may05_df, jun06_df, jul07_df)"
      ],
      "metadata": {
        "id": "uCE1EhGP9zEG"
      },
      "execution_count": 88,
      "outputs": []
    },
    {
      "cell_type": "code",
      "source": [
        "#create new data frame to contain new columns\n",
        "cyclistic_date <- cyclistic_df\n"
      ],
      "metadata": {
        "id": "OzRGuo4q98vW"
      },
      "execution_count": 90,
      "outputs": []
    },
    {
      "cell_type": "code",
      "source": [
        "head(cyclistic_df)"
      ],
      "metadata": {
        "colab": {
          "base_uri": "https://localhost:8080/",
          "height": 515
        },
        "id": "Dsg1vkUZ9_YX",
        "outputId": "38f6ac15-1a27-415c-82fd-e2d8331b5882"
      },
      "execution_count": 91,
      "outputs": [
        {
          "output_type": "display_data",
          "data": {
            "text/html": [
              "<table class=\"dataframe\">\n",
              "<caption>A tibble: 6 × 13</caption>\n",
              "<thead>\n",
              "\t<tr><th scope=col>ride_id</th><th scope=col>rideable_type</th><th scope=col>started_at</th><th scope=col>ended_at</th><th scope=col>start_station_name</th><th scope=col>start_station_id</th><th scope=col>end_station_name</th><th scope=col>end_station_id</th><th scope=col>start_lat</th><th scope=col>start_lng</th><th scope=col>end_lat</th><th scope=col>end_lng</th><th scope=col>member_casual</th></tr>\n",
              "\t<tr><th scope=col>&lt;chr&gt;</th><th scope=col>&lt;chr&gt;</th><th scope=col>&lt;dttm&gt;</th><th scope=col>&lt;dttm&gt;</th><th scope=col>&lt;chr&gt;</th><th scope=col>&lt;chr&gt;</th><th scope=col>&lt;chr&gt;</th><th scope=col>&lt;chr&gt;</th><th scope=col>&lt;dbl&gt;</th><th scope=col>&lt;dbl&gt;</th><th scope=col>&lt;dbl&gt;</th><th scope=col>&lt;dbl&gt;</th><th scope=col>&lt;chr&gt;</th></tr>\n",
              "</thead>\n",
              "<tbody>\n",
              "\t<tr><td>BAA154388A869E64</td><td>classic_bike </td><td>2024-08-02 13:35:14</td><td>2024-08-02 13:48:24</td><td><span style=white-space:pre-wrap>State St &amp; Randolph St  </span></td><td>TA1305000029</td><td><span style=white-space:pre-wrap>Wabash Ave &amp; 9th St           </span></td><td>TA1309000010</td><td>41.88462</td><td>-87.62783</td><td>41.87077</td><td>-87.62573</td><td>member</td></tr>\n",
              "\t<tr><td>8752245932EFF67A</td><td>electric_bike</td><td>2024-08-02 15:33:13</td><td>2024-08-02 15:55:23</td><td>Franklin St &amp; Monroe St </td><td>TA1309000007</td><td><span style=white-space:pre-wrap>Damen Ave &amp; Cortland St       </span></td><td><span style=white-space:pre-wrap>13133       </span></td><td>41.88032</td><td>-87.63519</td><td>41.91598</td><td>-87.67733</td><td>member</td></tr>\n",
              "\t<tr><td>44DDF9F57A9A161F</td><td>classic_bike </td><td>2024-08-16 15:44:06</td><td>2024-08-16 15:57:52</td><td>Franklin St &amp; Monroe St </td><td>TA1309000007</td><td><span style=white-space:pre-wrap>Clark St &amp; Elm St             </span></td><td>TA1307000039</td><td>41.88032</td><td>-87.63519</td><td>41.90297</td><td>-87.63128</td><td>member</td></tr>\n",
              "\t<tr><td>44AAAF069B0C78C3</td><td>electric_bike</td><td>2024-08-19 18:47:11</td><td>2024-08-19 18:56:33</td><td><span style=white-space:pre-wrap>Clark St &amp; Elm St       </span></td><td>TA1307000039</td><td><span style=white-space:pre-wrap>McClurg Ct &amp; Ohio St          </span></td><td>TA1306000029</td><td>41.90297</td><td>-87.63128</td><td>41.89259</td><td>-87.61729</td><td>member</td></tr>\n",
              "\t<tr><td>77138D500A6B7B4B</td><td>classic_bike </td><td>2024-08-03 20:34:20</td><td>2024-08-03 20:46:29</td><td>Western Ave &amp; Leland Ave</td><td>TA1307000140</td><td>Ashland Ave &amp; Belle Plaine Ave</td><td><span style=white-space:pre-wrap>13249       </span></td><td>41.96640</td><td>-87.68870</td><td>41.95606</td><td>-87.66884</td><td>casual</td></tr>\n",
              "\t<tr><td>F6F581F31A9C9BC2</td><td>electric_bike</td><td>2024-08-03 20:08:09</td><td>2024-08-03 20:44:53</td><td><span style=white-space:pre-wrap>Clark St &amp; Elm St       </span></td><td>TA1307000039</td><td><span style=white-space:pre-wrap>Stetson Ave &amp; South Water St  </span></td><td>TA1308000029</td><td>41.90297</td><td>-87.63128</td><td>41.88683</td><td>-87.62232</td><td>casual</td></tr>\n",
              "</tbody>\n",
              "</table>\n"
            ],
            "text/markdown": "\nA tibble: 6 × 13\n\n| ride_id &lt;chr&gt; | rideable_type &lt;chr&gt; | started_at &lt;dttm&gt; | ended_at &lt;dttm&gt; | start_station_name &lt;chr&gt; | start_station_id &lt;chr&gt; | end_station_name &lt;chr&gt; | end_station_id &lt;chr&gt; | start_lat &lt;dbl&gt; | start_lng &lt;dbl&gt; | end_lat &lt;dbl&gt; | end_lng &lt;dbl&gt; | member_casual &lt;chr&gt; |\n|---|---|---|---|---|---|---|---|---|---|---|---|---|\n| BAA154388A869E64 | classic_bike  | 2024-08-02 13:35:14 | 2024-08-02 13:48:24 | State St &amp; Randolph St   | TA1305000029 | Wabash Ave &amp; 9th St            | TA1309000010 | 41.88462 | -87.62783 | 41.87077 | -87.62573 | member |\n| 8752245932EFF67A | electric_bike | 2024-08-02 15:33:13 | 2024-08-02 15:55:23 | Franklin St &amp; Monroe St  | TA1309000007 | Damen Ave &amp; Cortland St        | 13133        | 41.88032 | -87.63519 | 41.91598 | -87.67733 | member |\n| 44DDF9F57A9A161F | classic_bike  | 2024-08-16 15:44:06 | 2024-08-16 15:57:52 | Franklin St &amp; Monroe St  | TA1309000007 | Clark St &amp; Elm St              | TA1307000039 | 41.88032 | -87.63519 | 41.90297 | -87.63128 | member |\n| 44AAAF069B0C78C3 | electric_bike | 2024-08-19 18:47:11 | 2024-08-19 18:56:33 | Clark St &amp; Elm St        | TA1307000039 | McClurg Ct &amp; Ohio St           | TA1306000029 | 41.90297 | -87.63128 | 41.89259 | -87.61729 | member |\n| 77138D500A6B7B4B | classic_bike  | 2024-08-03 20:34:20 | 2024-08-03 20:46:29 | Western Ave &amp; Leland Ave | TA1307000140 | Ashland Ave &amp; Belle Plaine Ave | 13249        | 41.96640 | -87.68870 | 41.95606 | -87.66884 | casual |\n| F6F581F31A9C9BC2 | electric_bike | 2024-08-03 20:08:09 | 2024-08-03 20:44:53 | Clark St &amp; Elm St        | TA1307000039 | Stetson Ave &amp; South Water St   | TA1308000029 | 41.90297 | -87.63128 | 41.88683 | -87.62232 | casual |\n\n",
            "text/latex": "A tibble: 6 × 13\n\\begin{tabular}{lllllllllllll}\n ride\\_id & rideable\\_type & started\\_at & ended\\_at & start\\_station\\_name & start\\_station\\_id & end\\_station\\_name & end\\_station\\_id & start\\_lat & start\\_lng & end\\_lat & end\\_lng & member\\_casual\\\\\n <chr> & <chr> & <dttm> & <dttm> & <chr> & <chr> & <chr> & <chr> & <dbl> & <dbl> & <dbl> & <dbl> & <chr>\\\\\n\\hline\n\t BAA154388A869E64 & classic\\_bike  & 2024-08-02 13:35:14 & 2024-08-02 13:48:24 & State St \\& Randolph St   & TA1305000029 & Wabash Ave \\& 9th St            & TA1309000010 & 41.88462 & -87.62783 & 41.87077 & -87.62573 & member\\\\\n\t 8752245932EFF67A & electric\\_bike & 2024-08-02 15:33:13 & 2024-08-02 15:55:23 & Franklin St \\& Monroe St  & TA1309000007 & Damen Ave \\& Cortland St        & 13133        & 41.88032 & -87.63519 & 41.91598 & -87.67733 & member\\\\\n\t 44DDF9F57A9A161F & classic\\_bike  & 2024-08-16 15:44:06 & 2024-08-16 15:57:52 & Franklin St \\& Monroe St  & TA1309000007 & Clark St \\& Elm St              & TA1307000039 & 41.88032 & -87.63519 & 41.90297 & -87.63128 & member\\\\\n\t 44AAAF069B0C78C3 & electric\\_bike & 2024-08-19 18:47:11 & 2024-08-19 18:56:33 & Clark St \\& Elm St        & TA1307000039 & McClurg Ct \\& Ohio St           & TA1306000029 & 41.90297 & -87.63128 & 41.89259 & -87.61729 & member\\\\\n\t 77138D500A6B7B4B & classic\\_bike  & 2024-08-03 20:34:20 & 2024-08-03 20:46:29 & Western Ave \\& Leland Ave & TA1307000140 & Ashland Ave \\& Belle Plaine Ave & 13249        & 41.96640 & -87.68870 & 41.95606 & -87.66884 & casual\\\\\n\t F6F581F31A9C9BC2 & electric\\_bike & 2024-08-03 20:08:09 & 2024-08-03 20:44:53 & Clark St \\& Elm St        & TA1307000039 & Stetson Ave \\& South Water St   & TA1308000029 & 41.90297 & -87.63128 & 41.88683 & -87.62232 & casual\\\\\n\\end{tabular}\n",
            "text/plain": [
              "  ride_id          rideable_type started_at          ended_at           \n",
              "1 BAA154388A869E64 classic_bike  2024-08-02 13:35:14 2024-08-02 13:48:24\n",
              "2 8752245932EFF67A electric_bike 2024-08-02 15:33:13 2024-08-02 15:55:23\n",
              "3 44DDF9F57A9A161F classic_bike  2024-08-16 15:44:06 2024-08-16 15:57:52\n",
              "4 44AAAF069B0C78C3 electric_bike 2024-08-19 18:47:11 2024-08-19 18:56:33\n",
              "5 77138D500A6B7B4B classic_bike  2024-08-03 20:34:20 2024-08-03 20:46:29\n",
              "6 F6F581F31A9C9BC2 electric_bike 2024-08-03 20:08:09 2024-08-03 20:44:53\n",
              "  start_station_name       start_station_id end_station_name              \n",
              "1 State St & Randolph St   TA1305000029     Wabash Ave & 9th St           \n",
              "2 Franklin St & Monroe St  TA1309000007     Damen Ave & Cortland St       \n",
              "3 Franklin St & Monroe St  TA1309000007     Clark St & Elm St             \n",
              "4 Clark St & Elm St        TA1307000039     McClurg Ct & Ohio St          \n",
              "5 Western Ave & Leland Ave TA1307000140     Ashland Ave & Belle Plaine Ave\n",
              "6 Clark St & Elm St        TA1307000039     Stetson Ave & South Water St  \n",
              "  end_station_id start_lat start_lng end_lat  end_lng   member_casual\n",
              "1 TA1309000010   41.88462  -87.62783 41.87077 -87.62573 member       \n",
              "2 13133          41.88032  -87.63519 41.91598 -87.67733 member       \n",
              "3 TA1307000039   41.88032  -87.63519 41.90297 -87.63128 member       \n",
              "4 TA1306000029   41.90297  -87.63128 41.89259 -87.61729 member       \n",
              "5 13249          41.96640  -87.68870 41.95606 -87.66884 casual       \n",
              "6 TA1308000029   41.90297  -87.63128 41.88683 -87.62232 casual       "
            ]
          },
          "metadata": {}
        }
      ]
    },
    {
      "cell_type": "code",
      "source": [
        "#calculate ride length by subtracting ended_at time from started_at time and converted it to minutes\n",
        "cyclistic_date$ride_length <- difftime(cyclistic_df$ended_at, cyclistic_df$started_at, units = \"mins\")"
      ],
      "metadata": {
        "id": "Y2-UiCYz-Ms7"
      },
      "execution_count": 92,
      "outputs": []
    },
    {
      "cell_type": "code",
      "source": [
        "#create columnds for: day of week, month, day, year, time, hour\n",
        "cyclistic_date$date <- as.Date(cyclistic_date$started_at) #default format is yyyy-mm-dd, use start date\n",
        "cyclistic_date$day_of_week <- wday(cyclistic_df$started_at) #calculate the day of the week\n",
        "cyclistic_date$day_of_week <- format(as.Date(cyclistic_date$date), \"%A\") #create column for day of week\n",
        "cyclistic_date$month <- format(as.Date(cyclistic_date$date), \"%m\")#create column for month\n",
        "cyclistic_date$day <- format(as.Date(cyclistic_date$date), \"%d\") #create column for day\n",
        "cyclistic_date$year <- format(as.Date(cyclistic_date$date), \"%Y\") #create column for year\n",
        "cyclistic_date$time <- format(as.Date(cyclistic_date$date), \"%H:%M:%S\") #format time as HH:MM:SS\n",
        "cyclistic_date$time <- as_hms((cyclistic_df$started_at)) #create new column for time\n",
        "cyclistic_date$hour <- hour(cyclistic_date$time) #create new column for hour"
      ],
      "metadata": {
        "id": "BrbFBmF3-RCt"
      },
      "execution_count": 93,
      "outputs": []
    },
    {
      "cell_type": "code",
      "source": [
        "#create column for different seasons: Spring, Summer, Fall, Winter\n",
        "cyclistic_date <-cyclistic_date %>% mutate(season =\n",
        "                                             case_when(month == \"03\" ~ \"Spring\",\n",
        "                                                       month == \"04\" ~ \"Spring\",\n",
        "                                                       month == \"05\" ~ \"Spring\",\n",
        "                                                       month == \"06\"  ~ \"Summer\",\n",
        "                                                       month == \"07\"  ~ \"Summer\",\n",
        "                                                       month == \"08\"  ~ \"Summer\",\n",
        "                                                       month == \"09\" ~ \"Fall\",\n",
        "                                                       month == \"10\" ~ \"Fall\",\n",
        "                                                       month == \"01\" ~ \"Winter\",\n",
        "                                                       month == \"02\" ~ \"Winter\")\n",
        ")"
      ],
      "metadata": {
        "id": "Ye_z36ZC-do5"
      },
      "execution_count": 94,
      "outputs": []
    },
    {
      "cell_type": "code",
      "source": [
        "#create column for different time_of_day: Night, Morning, Afternoon, Evening\n",
        "cyclistic_date <-cyclistic_date %>% mutate(time_of_day =\n",
        "                                             case_when(hour == \"0\" ~ \"Night\",\n",
        "                                                       hour == \"1\" ~ \"Night\",\n",
        "                                                       hour == \"2\" ~ \"Night\",\n",
        "                                                       hour == \"3\" ~ \"Night\",\n",
        "                                                       hour == \"4\" ~ \"Night\",\n",
        "                                                       hour == \"5\" ~ \"Night\",\n",
        "                                                       hour == \"6\" ~ \"Morning\",\n",
        "                                                       hour == \"7\" ~ \"Morning\",\n",
        "                                                       hour == \"8\" ~ \"Morning\",\n",
        "                                                       hour == \"9\" ~ \"Morning\",\n",
        "                                                       hour == \"10\" ~ \"Morning\",\n",
        "                                                       hour == \"11\" ~ \"Morning\",\n",
        "                                                       hour == \"12\" ~ \"Afternoon\",\n",
        "                                                       hour == \"13\" ~ \"Afternoon\",\n",
        "                                                       hour == \"14\" ~ \"Afternoon\",\n",
        "                                                       hour == \"15\" ~ \"Afternoon\",\n",
        "                                                       hour == \"16\" ~ \"Afternoon\",\n",
        "                                                       hour == \"17\" ~ \"Afternoon\",\n",
        "                                                       hour == \"18\" ~ \"Evening\",\n",
        "                                                       hour == \"19\" ~ \"Evening\",\n",
        "                                                       hour == \"20\" ~ \"Evening\",\n",
        "                                                       hour == \"21\" ~ \"Evening\",\n",
        "                                                       hour == \"22\" ~ \"Evening\",\n",
        "                                                       hour == \"23\" ~ \"Evening\")\n",
        ")"
      ],
      "metadata": {
        "id": "vGBZX48s-qVJ"
      },
      "execution_count": 95,
      "outputs": []
    },
    {
      "cell_type": "code",
      "source": [
        "#create a column for the month using the full month name\n",
        "cyclistic_date <-cyclistic_date %>% mutate(month =\n",
        "                                             case_when(month == \"01\" ~ \"January\",\n",
        "                                                       month == \"02\" ~ \"February\",\n",
        "                                                       month == \"03\" ~ \"March\",\n",
        "                                                       month == \"04\" ~ \"April\",\n",
        "                                                       month == \"05\" ~ \"May\",\n",
        "                                                       month == \"06\" ~ \"June\",\n",
        "                                                       month == \"07\" ~ \"July\",\n",
        "                                                       month == \"08\" ~ \"August\",\n",
        "                                                       month == \"09\" ~ \"September\",\n",
        "                                                       month == \"10\" ~ \"October\",\n",
        "\n",
        "                                                       )\n",
        ")"
      ],
      "metadata": {
        "id": "CTOUV_1VE8Ux"
      },
      "execution_count": 96,
      "outputs": []
    },
    {
      "cell_type": "code",
      "source": [
        "#clean the data\n",
        "cyclistic_date <- na.omit(cyclistic_date) #remove rows with NA values\n",
        "cyclistic_date <- distinct(cyclistic_date) #remove duplicate rows\n",
        "cyclistic_date <- cyclistic_date[!(cyclistic_date$ride_length <=0),] #remove where ride_length is 0 or negative\n",
        "cyclistic_date <- cyclistic_date %>%  #remove columns not needed: ride_id, start_station_id, end_station_id, start_lat, start_long, end_lat, end_lng\n",
        "  select(-c(ride_id, start_station_id, end_station_id,start_lat,start_lng,end_lat,end_lng))\n"
      ],
      "metadata": {
        "id": "C8S8yi9JFJJM"
      },
      "execution_count": 97,
      "outputs": []
    },
    {
      "cell_type": "code",
      "source": [
        "#view the final data\n",
        "View(cyclistic_date)"
      ],
      "metadata": {
        "colab": {
          "base_uri": "https://localhost:8080/",
          "height": 1000
        },
        "id": "QsNUyTAq-82L",
        "outputId": "5d105790-3a00-411f-a2d5-554672737dc7"
      },
      "execution_count": 99,
      "outputs": [
        {
          "output_type": "display_data",
          "data": {
            "text/plain": [
              "        rideable_type started_at          ended_at           \n",
              "1       classic_bike  2024-08-02 13:35:14 2024-08-02 13:48:24\n",
              "2       electric_bike 2024-08-02 15:33:13 2024-08-02 15:55:23\n",
              "3       classic_bike  2024-08-16 15:44:06 2024-08-16 15:57:52\n",
              "4       electric_bike 2024-08-19 18:47:11 2024-08-19 18:56:33\n",
              "5       classic_bike  2024-08-03 20:34:20 2024-08-03 20:46:29\n",
              "6       electric_bike 2024-08-03 20:08:09 2024-08-03 20:44:53\n",
              "7       classic_bike  2024-08-28 17:08:13 2024-08-28 17:34:06\n",
              "8       electric_bike 2024-08-20 16:04:33 2024-08-20 16:08:27\n",
              "9       electric_bike 2024-08-07 12:11:56 2024-08-07 12:13:38\n",
              "10      classic_bike  2024-08-29 20:41:13 2024-08-29 20:55:32\n",
              "11      classic_bike  2024-08-29 20:38:10 2024-08-29 20:40:23\n",
              "12      classic_bike  2024-08-29 20:41:36 2024-08-29 20:55:34\n",
              "13      electric_bike 2024-08-21 13:30:16 2024-08-21 15:01:38\n",
              "14      electric_bike 2024-08-08 16:57:25 2024-08-08 16:57:41\n",
              "15      classic_bike  2024-08-28 22:16:35 2024-08-28 22:41:49\n",
              "16      classic_bike  2024-08-12 19:54:53 2024-08-12 20:21:11\n",
              "17      classic_bike  2024-08-10 12:26:48 2024-08-10 13:15:47\n",
              "18      electric_bike 2024-08-10 11:59:32 2024-08-10 12:16:59\n",
              "19      classic_bike  2024-08-26 08:38:52 2024-08-26 09:03:13\n",
              "20      classic_bike  2024-08-20 08:21:06 2024-08-20 08:23:17\n",
              "21      classic_bike  2024-08-08 11:57:03 2024-08-08 11:59:33\n",
              "22      electric_bike 2024-08-22 21:32:43 2024-08-22 21:45:40\n",
              "23      electric_bike 2024-08-14 06:37:20 2024-08-14 06:43:56\n",
              "24      electric_bike 2024-08-12 08:20:22 2024-08-12 08:32:10\n",
              "25      electric_bike 2024-08-25 16:42:57 2024-08-25 16:56:15\n",
              "26      classic_bike  2024-08-29 18:46:30 2024-08-29 18:55:16\n",
              "27      electric_bike 2024-08-05 14:21:50 2024-08-05 14:24:50\n",
              "28      classic_bike  2024-08-02 22:01:01 2024-08-02 22:21:08\n",
              "29      classic_bike  2024-08-29 12:36:36 2024-08-29 12:43:10\n",
              "30      classic_bike  2024-08-29 08:07:02 2024-08-29 08:10:20\n",
              "⋮       ⋮             ⋮                   ⋮                  \n",
              "3806815 electric_bike 2024-07-20 20:42:10 2024-07-20 21:12:46\n",
              "3806816 electric_bike 2024-07-20 20:43:42 2024-07-20 21:12:01\n",
              "3806817 classic_bike  2024-07-20 10:34:50 2024-07-20 11:06:48\n",
              "3806818 classic_bike  2024-07-26 17:07:39 2024-07-26 17:39:08\n",
              "3806819 classic_bike  2024-07-08 17:10:10 2024-07-08 17:50:11\n",
              "3806820 electric_bike 2024-07-05 13:46:04 2024-07-05 13:57:57\n",
              "3806821 electric_bike 2024-07-02 13:09:26 2024-07-02 13:27:27\n",
              "3806822 classic_bike  2024-07-20 10:34:44 2024-07-20 11:06:32\n",
              "3806823 classic_bike  2024-07-20 01:20:15 2024-07-20 01:27:04\n",
              "3806824 classic_bike  2024-07-20 01:31:49 2024-07-20 01:38:02\n",
              "3806825 electric_bike 2024-07-05 13:51:18 2024-07-05 13:59:00\n",
              "3806826 electric_bike 2024-07-27 23:13:04 2024-07-28 00:24:10\n",
              "3806827 electric_bike 2024-07-30 16:20:40 2024-07-30 17:11:02\n",
              "3806828 classic_bike  2024-07-29 18:41:27 2024-07-29 18:59:59\n",
              "3806829 electric_bike 2024-07-28 22:09:18 2024-07-28 22:17:59\n",
              "3806830 electric_bike 2024-07-02 21:48:24 2024-07-02 22:13:39\n",
              "3806831 electric_bike 2024-07-28 12:42:58 2024-07-28 13:20:44\n",
              "3806832 electric_bike 2024-07-28 00:10:39 2024-07-28 00:17:51\n",
              "3806833 classic_bike  2024-07-01 15:56:06 2024-07-01 17:01:05\n",
              "3806834 electric_bike 2024-07-20 20:43:03 2024-07-20 21:12:32\n",
              "3806835 electric_bike 2024-07-28 22:09:25 2024-07-28 22:17:54\n",
              "3806836 electric_bike 2024-07-13 14:05:05 2024-07-13 14:11:40\n",
              "3806837 electric_bike 2024-07-12 13:19:34 2024-07-12 13:25:11\n",
              "3806838 classic_bike  2024-07-30 22:29:48 2024-07-30 22:39:41\n",
              "3806839 classic_bike  2024-07-19 13:55:48 2024-07-19 14:04:17\n",
              "3806840 classic_bike  2024-07-26 15:05:14 2024-07-26 15:14:31\n",
              "3806841 electric_bike 2024-07-06 15:58:16 2024-07-06 16:07:22\n",
              "3806842 classic_bike  2024-07-03 17:11:45 2024-07-03 17:57:09\n",
              "3806843 classic_bike  2024-07-03 17:09:13 2024-07-03 17:17:50\n",
              "3806844 classic_bike  2024-07-18 13:36:41 2024-07-18 13:43:55\n",
              "        start_station_name               end_station_name                 \n",
              "1       State St & Randolph St           Wabash Ave & 9th St              \n",
              "2       Franklin St & Monroe St          Damen Ave & Cortland St          \n",
              "3       Franklin St & Monroe St          Clark St & Elm St                \n",
              "4       Clark St & Elm St                McClurg Ct & Ohio St             \n",
              "5       Western Ave & Leland Ave         Ashland Ave & Belle Plaine Ave   \n",
              "6       Clark St & Elm St                Stetson Ave & South Water St     \n",
              "7       Michigan Ave & Jackson Blvd      Larrabee St & Webster Ave        \n",
              "8       Franklin St & Monroe St          Kingsbury St & Kinzie St         \n",
              "9       Michigan Ave & Jackson Blvd      Wabash Ave & Adams St            \n",
              "10      Scottsdale Park                  Scottsdale Park                  \n",
              "11      Scottsdale Park                  Scottsdale Park                  \n",
              "12      Scottsdale Park                  Scottsdale Park                  \n",
              "13      Lincoln Ave & Addison St         Lincoln Ave & Addison St         \n",
              "14      Public Rack - Chopin Park        Public Rack - Chopin Park        \n",
              "15      St. Louis Ave & Fullerton Ave    Sawyer Ave & Irving Park Rd      \n",
              "16      Dearborn Pkwy & Delaware Pl      Dearborn Pkwy & Delaware Pl      \n",
              "17      Ravenswood Ave & Irving Park Rd  Ravenswood Ave & Irving Park Rd  \n",
              "18      Lincoln Ave & Addison St         St. Louis Ave & Fullerton Ave    \n",
              "19      Indiana Ave & 26th St            Rush St & Hubbard St             \n",
              "20      Michigan Ave & Jackson Blvd      Millennium Park                  \n",
              "21      Michigan Ave & Jackson Blvd      Millennium Park                  \n",
              "22      Damen Ave & Cortland St          Milwaukee Ave & Grand Ave        \n",
              "23      Clark St & Elm St                Larrabee St & Kingsbury St       \n",
              "24      Clark St & Schreiber Ave         Clark St & Schreiber Ave         \n",
              "25      Franklin St & Monroe St          Morgan St & 18th St              \n",
              "26      Damen Ave & Cortland St          Albany Ave & Bloomingdale Ave    \n",
              "27      Franklin St & Monroe St          Franklin St & Lake St            \n",
              "28      State St & Randolph St           Morgan St & Polk St              \n",
              "29      State St & Randolph St           Franklin St & Lake St            \n",
              "30      Franklin St & Monroe St          Franklin St & Lake St            \n",
              "⋮       ⋮                                ⋮                                \n",
              "3806815 Clark St & Newport St            Ashland Ave & Blackhawk St       \n",
              "3806816 Clark St & Newport St            Ashland Ave & Blackhawk St       \n",
              "3806817 Dearborn St & Van Buren St       DuSable Lake Shore Dr & Monroe St\n",
              "3806818 Clark St & Newport St            DuSable Lake Shore Dr & Monroe St\n",
              "3806819 Damen Ave & Melrose Ave          Loomis St & Archer Ave           \n",
              "3806820 Clark St & Newport St            Southport Ave & Clark St         \n",
              "3806821 Francisco Ave & Bloomingdale Ave Clinton St & Madison St          \n",
              "3806822 Dearborn St & Van Buren St       DuSable Lake Shore Dr & Monroe St\n",
              "3806823 Dearborn St & Van Buren St       Clinton St & Madison St          \n",
              "3806824 Clark St & Newport St            Southport Ave & Clark St         \n",
              "3806825 Clark St & Newport St            Southport Ave & Clark St         \n",
              "3806826 Francisco Ave & Bloomingdale Ave Loomis St & Archer Ave           \n",
              "3806827 Francisco Ave & Bloomingdale Ave Clinton St & Madison St          \n",
              "3806828 Shields Ave & 43rd St            Wentworth Ave & 33rd St          \n",
              "3806829 Clark St & Newport St            Southport Ave & Clark St         \n",
              "3806830 Clark St & Newport St            Ashland Ave & Blackhawk St       \n",
              "3806831 Dearborn St & Van Buren St       Shore Dr & 55th St               \n",
              "3806832 Clark St & Newport St            Southport Ave & Clark St         \n",
              "3806833 Dearborn St & Van Buren St       Shore Dr & 55th St               \n",
              "3806834 Clark St & Newport St            Ashland Ave & Blackhawk St       \n",
              "3806835 Clark St & Newport St            Southport Ave & Clark St         \n",
              "3806836 Dearborn St & Van Buren St       DuSable Lake Shore Dr & Monroe St\n",
              "3806837 Dearborn St & Van Buren St       Clinton St & Madison St          \n",
              "3806838 Dearborn St & Van Buren St       Clinton St & Madison St          \n",
              "3806839 Dearborn St & Van Buren St       DuSable Lake Shore Dr & Monroe St\n",
              "3806840 Clark St & Newport St            Southport Ave & Clark St         \n",
              "3806841 Clark St & Newport St            Southport Ave & Clark St         \n",
              "3806842 Dearborn St & Van Buren St       Cornell Ave & Hyde Park Blvd     \n",
              "3806843 Dearborn St & Van Buren St       Clinton St & Madison St          \n",
              "3806844 Dearborn St & Van Buren St       Clinton St & Madison St          \n",
              "        member_casual ride_length     date       day_of_week month  day year\n",
              "1       member        13.1670500 mins 2024-08-02 Friday      August 02  2024\n",
              "2       member        22.1650000 mins 2024-08-02 Friday      August 02  2024\n",
              "3       member        13.7646000 mins 2024-08-16 Friday      August 16  2024\n",
              "4       member         9.3569000 mins 2024-08-19 Monday      August 19  2024\n",
              "5       casual        12.1457500 mins 2024-08-03 Saturday    August 03  2024\n",
              "6       casual        36.7463333 mins 2024-08-03 Saturday    August 03  2024\n",
              "7       member        25.8933167 mins 2024-08-28 Wednesday   August 28  2024\n",
              "8       member         3.8962333 mins 2024-08-20 Tuesday     August 20  2024\n",
              "9       member         1.7037000 mins 2024-08-07 Wednesday   August 07  2024\n",
              "10      casual        14.3223833 mins 2024-08-29 Thursday    August 29  2024\n",
              "11      casual         2.2293667 mins 2024-08-29 Thursday    August 29  2024\n",
              "12      casual        13.9646833 mins 2024-08-29 Thursday    August 29  2024\n",
              "13      casual        91.3715500 mins 2024-08-21 Wednesday   August 21  2024\n",
              "14      casual         0.2636667 mins 2024-08-08 Thursday    August 08  2024\n",
              "15      casual        25.2234333 mins 2024-08-28 Wednesday   August 28  2024\n",
              "16      casual        26.2985667 mins 2024-08-12 Monday      August 12  2024\n",
              "17      member        48.9737833 mins 2024-08-10 Saturday    August 10  2024\n",
              "18      member        17.4444667 mins 2024-08-10 Saturday    August 10  2024\n",
              "19      member        24.3478333 mins 2024-08-26 Monday      August 26  2024\n",
              "20      member         2.1948667 mins 2024-08-20 Tuesday     August 20  2024\n",
              "21      member         2.5047833 mins 2024-08-08 Thursday    August 08  2024\n",
              "22      member        12.9470333 mins 2024-08-22 Thursday    August 22  2024\n",
              "23      member         6.6036667 mins 2024-08-14 Wednesday   August 14  2024\n",
              "24      member        11.8023667 mins 2024-08-12 Monday      August 12  2024\n",
              "25      member        13.3040167 mins 2024-08-25 Sunday      August 25  2024\n",
              "26      member         8.7632000 mins 2024-08-29 Thursday    August 29  2024\n",
              "27      member         3.0118500 mins 2024-08-05 Monday      August 05  2024\n",
              "28      member        20.1105167 mins 2024-08-02 Friday      August 02  2024\n",
              "29      member         6.5624500 mins 2024-08-29 Thursday    August 29  2024\n",
              "30      member         3.2995000 mins 2024-08-29 Thursday    August 29  2024\n",
              "⋮       ⋮             ⋮               ⋮          ⋮           ⋮      ⋮   ⋮   \n",
              "3806815 casual        30.592300 mins  2024-07-20 Saturday    July   20  2024\n",
              "3806816 casual        28.323133 mins  2024-07-20 Saturday    July   20  2024\n",
              "3806817 casual        31.972600 mins  2024-07-20 Saturday    July   20  2024\n",
              "3806818 member        31.476717 mins  2024-07-26 Friday      July   26  2024\n",
              "3806819 member        40.016917 mins  2024-07-08 Monday      July   08  2024\n",
              "3806820 casual        11.871783 mins  2024-07-05 Friday      July   05  2024\n",
              "3806821 member        18.002450 mins  2024-07-02 Tuesday     July   02  2024\n",
              "3806822 casual        31.805200 mins  2024-07-20 Saturday    July   20  2024\n",
              "3806823 casual         6.816550 mins  2024-07-20 Saturday    July   20  2024\n",
              "3806824 casual         6.216817 mins  2024-07-20 Saturday    July   20  2024\n",
              "3806825 casual         7.696183 mins  2024-07-05 Friday      July   05  2024\n",
              "3806826 casual        71.100933 mins  2024-07-27 Saturday    July   27  2024\n",
              "3806827 casual        50.371300 mins  2024-07-30 Tuesday     July   30  2024\n",
              "3806828 member        18.543717 mins  2024-07-29 Monday      July   29  2024\n",
              "3806829 casual         8.681733 mins  2024-07-28 Sunday      July   28  2024\n",
              "3806830 casual        25.256033 mins  2024-07-02 Tuesday     July   02  2024\n",
              "3806831 casual        37.769483 mins  2024-07-28 Sunday      July   28  2024\n",
              "3806832 casual         7.204383 mins  2024-07-28 Sunday      July   28  2024\n",
              "3806833 casual        64.976517 mins  2024-07-01 Monday      July   01  2024\n",
              "3806834 casual        29.494667 mins  2024-07-20 Saturday    July   20  2024\n",
              "3806835 casual         8.479750 mins  2024-07-28 Sunday      July   28  2024\n",
              "3806836 casual         6.574867 mins  2024-07-13 Saturday    July   13  2024\n",
              "3806837 member         5.618350 mins  2024-07-12 Friday      July   12  2024\n",
              "3806838 casual         9.892233 mins  2024-07-30 Tuesday     July   30  2024\n",
              "3806839 casual         8.479567 mins  2024-07-19 Friday      July   19  2024\n",
              "3806840 casual         9.280800 mins  2024-07-26 Friday      July   26  2024\n",
              "3806841 casual         9.099350 mins  2024-07-06 Saturday    July   06  2024\n",
              "3806842 casual        45.393467 mins  2024-07-03 Wednesday   July   03  2024\n",
              "3806843 member         8.608167 mins  2024-07-03 Wednesday   July   03  2024\n",
              "3806844 member         7.230800 mins  2024-07-18 Thursday    July   18  2024\n",
              "        time         hour season time_of_day\n",
              "1       13:35:14.403 13   Summer Afternoon  \n",
              "2       15:33:13.965 15   Summer Afternoon  \n",
              "3       15:44:06.233 15   Summer Afternoon  \n",
              "4       18:47:11.855 18   Summer Evening    \n",
              "5       20:34:20.560 20   Summer Evening    \n",
              "6       20:08:09.067 20   Summer Evening    \n",
              "7       17:08:13.321 17   Summer Afternoon  \n",
              "8       16:04:33.878 16   Summer Afternoon  \n",
              "9       12:11:56.623 12   Summer Afternoon  \n",
              "10      20:41:13.067 20   Summer Evening    \n",
              "11      20:38:10.093 20   Summer Evening    \n",
              "12      20:41:36.658 20   Summer Evening    \n",
              "13      13:30:16.466 13   Summer Afternoon  \n",
              "14      16:57:25.696 16   Summer Afternoon  \n",
              "15      22:16:35.729 22   Summer Evening    \n",
              "16      19:54:53.744 19   Summer Evening    \n",
              "17      12:26:48.634 12   Summer Afternoon  \n",
              "18      11:59:32.478 11   Summer Morning    \n",
              "19      08:38:52.938  8   Summer Morning    \n",
              "20      08:21:06.237  8   Summer Morning    \n",
              "21      11:57:03.473 11   Summer Morning    \n",
              "22      21:32:43.684 21   Summer Evening    \n",
              "23      06:37:20.526  6   Summer Morning    \n",
              "24      08:20:22.197  8   Summer Morning    \n",
              "25      16:42:57.710 16   Summer Afternoon  \n",
              "26      18:46:30.722 18   Summer Evening    \n",
              "27      14:21:50.074 14   Summer Afternoon  \n",
              "28      22:01:01.410 22   Summer Evening    \n",
              "29      12:36:36.356 12   Summer Afternoon  \n",
              "30      08:07:02.925  8   Summer Morning    \n",
              "⋮       ⋮            ⋮    ⋮      ⋮          \n",
              "3806815 20:42:10.533 20   Summer Evening    \n",
              "3806816 20:43:42.456 20   Summer Evening    \n",
              "3806817 10:34:50.475 10   Summer Morning    \n",
              "3806818 17:07:39.967 17   Summer Afternoon  \n",
              "3806819 17:10:10.572 17   Summer Afternoon  \n",
              "3806820 13:46:04.812 13   Summer Afternoon  \n",
              "3806821 13:09:26.909 13   Summer Afternoon  \n",
              "3806822 10:34:44.339 10   Summer Morning    \n",
              "3806823 01:20:15.570  1   Summer Night      \n",
              "3806824 01:31:49.506  1   Summer Night      \n",
              "3806825 13:51:18.355 13   Summer Afternoon  \n",
              "3806826 23:13:04.175 23   Summer Evening    \n",
              "3806827 16:20:40.211 16   Summer Afternoon  \n",
              "3806828 18:41:27.016 18   Summer Evening    \n",
              "3806829 22:09:18.192 22   Summer Evening    \n",
              "3806830 21:48:24.453 21   Summer Evening    \n",
              "3806831 12:42:58.706 12   Summer Afternoon  \n",
              "3806832 00:10:39.233  0   Summer Night      \n",
              "3806833 15:56:06.972 15   Summer Afternoon  \n",
              "3806834 20:43:03.266 20   Summer Evening    \n",
              "3806835 22:09:25.399 22   Summer Evening    \n",
              "3806836 14:05:05.904 14   Summer Afternoon  \n",
              "3806837 13:19:34.264 13   Summer Afternoon  \n",
              "3806838 22:29:48.240 22   Summer Evening    \n",
              "3806839 13:55:48.642 13   Summer Afternoon  \n",
              "3806840 15:05:14.866 15   Summer Afternoon  \n",
              "3806841 15:58:16.058 15   Summer Afternoon  \n",
              "3806842 17:11:45.420 17   Summer Afternoon  \n",
              "3806843 17:09:13.869 17   Summer Afternoon  \n",
              "3806844 13:36:41.487 13   Summer Afternoon  "
            ],
            "text/html": [
              "<table class=\"dataframe\">\n",
              "<caption>A tibble: 3806844 × 16</caption>\n",
              "<thead>\n",
              "\t<tr><th scope=col>rideable_type</th><th scope=col>started_at</th><th scope=col>ended_at</th><th scope=col>start_station_name</th><th scope=col>end_station_name</th><th scope=col>member_casual</th><th scope=col>ride_length</th><th scope=col>date</th><th scope=col>day_of_week</th><th scope=col>month</th><th scope=col>day</th><th scope=col>year</th><th scope=col>time</th><th scope=col>hour</th><th scope=col>season</th><th scope=col>time_of_day</th></tr>\n",
              "\t<tr><th scope=col>&lt;chr&gt;</th><th scope=col>&lt;dttm&gt;</th><th scope=col>&lt;dttm&gt;</th><th scope=col>&lt;chr&gt;</th><th scope=col>&lt;chr&gt;</th><th scope=col>&lt;chr&gt;</th><th scope=col>&lt;drtn&gt;</th><th scope=col>&lt;date&gt;</th><th scope=col>&lt;chr&gt;</th><th scope=col>&lt;chr&gt;</th><th scope=col>&lt;chr&gt;</th><th scope=col>&lt;chr&gt;</th><th scope=col>&lt;time&gt;</th><th scope=col>&lt;int&gt;</th><th scope=col>&lt;chr&gt;</th><th scope=col>&lt;chr&gt;</th></tr>\n",
              "</thead>\n",
              "<tbody>\n",
              "\t<tr><td>classic_bike </td><td>2024-08-02 13:35:14</td><td>2024-08-02 13:48:24</td><td><span style=white-space:pre-wrap>State St &amp; Randolph St         </span></td><td><span style=white-space:pre-wrap>Wabash Ave &amp; 9th St            </span></td><td>member</td><td>13.1670500 mins</td><td>2024-08-02</td><td><span style=white-space:pre-wrap>Friday   </span></td><td>August</td><td>02</td><td>2024</td><td>13:35:14.403</td><td>13</td><td>Summer</td><td>Afternoon</td></tr>\n",
              "\t<tr><td>electric_bike</td><td>2024-08-02 15:33:13</td><td>2024-08-02 15:55:23</td><td><span style=white-space:pre-wrap>Franklin St &amp; Monroe St        </span></td><td><span style=white-space:pre-wrap>Damen Ave &amp; Cortland St        </span></td><td>member</td><td>22.1650000 mins</td><td>2024-08-02</td><td><span style=white-space:pre-wrap>Friday   </span></td><td>August</td><td>02</td><td>2024</td><td>15:33:13.965</td><td>15</td><td>Summer</td><td>Afternoon</td></tr>\n",
              "\t<tr><td>classic_bike </td><td>2024-08-16 15:44:06</td><td>2024-08-16 15:57:52</td><td><span style=white-space:pre-wrap>Franklin St &amp; Monroe St        </span></td><td><span style=white-space:pre-wrap>Clark St &amp; Elm St              </span></td><td>member</td><td>13.7646000 mins</td><td>2024-08-16</td><td><span style=white-space:pre-wrap>Friday   </span></td><td>August</td><td>16</td><td>2024</td><td>15:44:06.233</td><td>15</td><td>Summer</td><td>Afternoon</td></tr>\n",
              "\t<tr><td>electric_bike</td><td>2024-08-19 18:47:11</td><td>2024-08-19 18:56:33</td><td><span style=white-space:pre-wrap>Clark St &amp; Elm St              </span></td><td><span style=white-space:pre-wrap>McClurg Ct &amp; Ohio St           </span></td><td>member</td><td> 9.3569000 mins</td><td>2024-08-19</td><td><span style=white-space:pre-wrap>Monday   </span></td><td>August</td><td>19</td><td>2024</td><td>18:47:11.855</td><td>18</td><td>Summer</td><td><span style=white-space:pre-wrap>Evening  </span></td></tr>\n",
              "\t<tr><td>classic_bike </td><td>2024-08-03 20:34:20</td><td>2024-08-03 20:46:29</td><td><span style=white-space:pre-wrap>Western Ave &amp; Leland Ave       </span></td><td>Ashland Ave &amp; Belle Plaine Ave </td><td>casual</td><td>12.1457500 mins</td><td>2024-08-03</td><td>Saturday </td><td>August</td><td>03</td><td>2024</td><td>20:34:20.560</td><td>20</td><td>Summer</td><td><span style=white-space:pre-wrap>Evening  </span></td></tr>\n",
              "\t<tr><td>electric_bike</td><td>2024-08-03 20:08:09</td><td>2024-08-03 20:44:53</td><td><span style=white-space:pre-wrap>Clark St &amp; Elm St              </span></td><td><span style=white-space:pre-wrap>Stetson Ave &amp; South Water St   </span></td><td>casual</td><td>36.7463333 mins</td><td>2024-08-03</td><td>Saturday </td><td>August</td><td>03</td><td>2024</td><td>20:08:09.067</td><td>20</td><td>Summer</td><td><span style=white-space:pre-wrap>Evening  </span></td></tr>\n",
              "\t<tr><td>classic_bike </td><td>2024-08-28 17:08:13</td><td>2024-08-28 17:34:06</td><td><span style=white-space:pre-wrap>Michigan Ave &amp; Jackson Blvd    </span></td><td><span style=white-space:pre-wrap>Larrabee St &amp; Webster Ave      </span></td><td>member</td><td>25.8933167 mins</td><td>2024-08-28</td><td>Wednesday</td><td>August</td><td>28</td><td>2024</td><td>17:08:13.321</td><td>17</td><td>Summer</td><td>Afternoon</td></tr>\n",
              "\t<tr><td>electric_bike</td><td>2024-08-20 16:04:33</td><td>2024-08-20 16:08:27</td><td><span style=white-space:pre-wrap>Franklin St &amp; Monroe St        </span></td><td><span style=white-space:pre-wrap>Kingsbury St &amp; Kinzie St       </span></td><td>member</td><td> 3.8962333 mins</td><td>2024-08-20</td><td><span style=white-space:pre-wrap>Tuesday  </span></td><td>August</td><td>20</td><td>2024</td><td>16:04:33.878</td><td>16</td><td>Summer</td><td>Afternoon</td></tr>\n",
              "\t<tr><td>electric_bike</td><td>2024-08-07 12:11:56</td><td>2024-08-07 12:13:38</td><td><span style=white-space:pre-wrap>Michigan Ave &amp; Jackson Blvd    </span></td><td><span style=white-space:pre-wrap>Wabash Ave &amp; Adams St          </span></td><td>member</td><td> 1.7037000 mins</td><td>2024-08-07</td><td>Wednesday</td><td>August</td><td>07</td><td>2024</td><td>12:11:56.623</td><td>12</td><td>Summer</td><td>Afternoon</td></tr>\n",
              "\t<tr><td>classic_bike </td><td>2024-08-29 20:41:13</td><td>2024-08-29 20:55:32</td><td>Scottsdale Park                </td><td>Scottsdale Park                </td><td>casual</td><td>14.3223833 mins</td><td>2024-08-29</td><td>Thursday </td><td>August</td><td>29</td><td>2024</td><td>20:41:13.067</td><td>20</td><td>Summer</td><td>Evening  </td></tr>\n",
              "\t<tr><td>classic_bike </td><td>2024-08-29 20:38:10</td><td>2024-08-29 20:40:23</td><td>Scottsdale Park                </td><td>Scottsdale Park                </td><td>casual</td><td> 2.2293667 mins</td><td>2024-08-29</td><td>Thursday </td><td>August</td><td>29</td><td>2024</td><td>20:38:10.093</td><td>20</td><td>Summer</td><td>Evening  </td></tr>\n",
              "\t<tr><td>classic_bike </td><td>2024-08-29 20:41:36</td><td>2024-08-29 20:55:34</td><td>Scottsdale Park                </td><td>Scottsdale Park                </td><td>casual</td><td>13.9646833 mins</td><td>2024-08-29</td><td>Thursday </td><td>August</td><td>29</td><td>2024</td><td>20:41:36.658</td><td>20</td><td>Summer</td><td>Evening  </td></tr>\n",
              "\t<tr><td>electric_bike</td><td>2024-08-21 13:30:16</td><td>2024-08-21 15:01:38</td><td><span style=white-space:pre-wrap>Lincoln Ave &amp; Addison St       </span></td><td><span style=white-space:pre-wrap>Lincoln Ave &amp; Addison St       </span></td><td>casual</td><td>91.3715500 mins</td><td>2024-08-21</td><td>Wednesday</td><td>August</td><td>21</td><td>2024</td><td>13:30:16.466</td><td>13</td><td>Summer</td><td>Afternoon</td></tr>\n",
              "\t<tr><td>electric_bike</td><td>2024-08-08 16:57:25</td><td>2024-08-08 16:57:41</td><td>Public Rack - Chopin Park      </td><td>Public Rack - Chopin Park      </td><td>casual</td><td> 0.2636667 mins</td><td>2024-08-08</td><td>Thursday </td><td>August</td><td>08</td><td>2024</td><td>16:57:25.696</td><td>16</td><td>Summer</td><td>Afternoon</td></tr>\n",
              "\t<tr><td>classic_bike </td><td>2024-08-28 22:16:35</td><td>2024-08-28 22:41:49</td><td><span style=white-space:pre-wrap>St. Louis Ave &amp; Fullerton Ave  </span></td><td><span style=white-space:pre-wrap>Sawyer Ave &amp; Irving Park Rd    </span></td><td>casual</td><td>25.2234333 mins</td><td>2024-08-28</td><td>Wednesday</td><td>August</td><td>28</td><td>2024</td><td>22:16:35.729</td><td>22</td><td>Summer</td><td><span style=white-space:pre-wrap>Evening  </span></td></tr>\n",
              "\t<tr><td>classic_bike </td><td>2024-08-12 19:54:53</td><td>2024-08-12 20:21:11</td><td><span style=white-space:pre-wrap>Dearborn Pkwy &amp; Delaware Pl    </span></td><td><span style=white-space:pre-wrap>Dearborn Pkwy &amp; Delaware Pl    </span></td><td>casual</td><td>26.2985667 mins</td><td>2024-08-12</td><td><span style=white-space:pre-wrap>Monday   </span></td><td>August</td><td>12</td><td>2024</td><td>19:54:53.744</td><td>19</td><td>Summer</td><td><span style=white-space:pre-wrap>Evening  </span></td></tr>\n",
              "\t<tr><td>classic_bike </td><td>2024-08-10 12:26:48</td><td>2024-08-10 13:15:47</td><td>Ravenswood Ave &amp; Irving Park Rd</td><td>Ravenswood Ave &amp; Irving Park Rd</td><td>member</td><td>48.9737833 mins</td><td>2024-08-10</td><td>Saturday </td><td>August</td><td>10</td><td>2024</td><td>12:26:48.634</td><td>12</td><td>Summer</td><td>Afternoon</td></tr>\n",
              "\t<tr><td>electric_bike</td><td>2024-08-10 11:59:32</td><td>2024-08-10 12:16:59</td><td><span style=white-space:pre-wrap>Lincoln Ave &amp; Addison St       </span></td><td><span style=white-space:pre-wrap>St. Louis Ave &amp; Fullerton Ave  </span></td><td>member</td><td>17.4444667 mins</td><td>2024-08-10</td><td>Saturday </td><td>August</td><td>10</td><td>2024</td><td>11:59:32.478</td><td>11</td><td>Summer</td><td><span style=white-space:pre-wrap>Morning  </span></td></tr>\n",
              "\t<tr><td>classic_bike </td><td>2024-08-26 08:38:52</td><td>2024-08-26 09:03:13</td><td><span style=white-space:pre-wrap>Indiana Ave &amp; 26th St          </span></td><td><span style=white-space:pre-wrap>Rush St &amp; Hubbard St           </span></td><td>member</td><td>24.3478333 mins</td><td>2024-08-26</td><td><span style=white-space:pre-wrap>Monday   </span></td><td>August</td><td>26</td><td>2024</td><td>08:38:52.938</td><td> 8</td><td>Summer</td><td><span style=white-space:pre-wrap>Morning  </span></td></tr>\n",
              "\t<tr><td>classic_bike </td><td>2024-08-20 08:21:06</td><td>2024-08-20 08:23:17</td><td><span style=white-space:pre-wrap>Michigan Ave &amp; Jackson Blvd    </span></td><td><span style=white-space:pre-wrap>Millennium Park                </span></td><td>member</td><td> 2.1948667 mins</td><td>2024-08-20</td><td><span style=white-space:pre-wrap>Tuesday  </span></td><td>August</td><td>20</td><td>2024</td><td>08:21:06.237</td><td> 8</td><td>Summer</td><td><span style=white-space:pre-wrap>Morning  </span></td></tr>\n",
              "\t<tr><td>classic_bike </td><td>2024-08-08 11:57:03</td><td>2024-08-08 11:59:33</td><td><span style=white-space:pre-wrap>Michigan Ave &amp; Jackson Blvd    </span></td><td><span style=white-space:pre-wrap>Millennium Park                </span></td><td>member</td><td> 2.5047833 mins</td><td>2024-08-08</td><td>Thursday </td><td>August</td><td>08</td><td>2024</td><td>11:57:03.473</td><td>11</td><td>Summer</td><td><span style=white-space:pre-wrap>Morning  </span></td></tr>\n",
              "\t<tr><td>electric_bike</td><td>2024-08-22 21:32:43</td><td>2024-08-22 21:45:40</td><td><span style=white-space:pre-wrap>Damen Ave &amp; Cortland St        </span></td><td><span style=white-space:pre-wrap>Milwaukee Ave &amp; Grand Ave      </span></td><td>member</td><td>12.9470333 mins</td><td>2024-08-22</td><td>Thursday </td><td>August</td><td>22</td><td>2024</td><td>21:32:43.684</td><td>21</td><td>Summer</td><td><span style=white-space:pre-wrap>Evening  </span></td></tr>\n",
              "\t<tr><td>electric_bike</td><td>2024-08-14 06:37:20</td><td>2024-08-14 06:43:56</td><td><span style=white-space:pre-wrap>Clark St &amp; Elm St              </span></td><td><span style=white-space:pre-wrap>Larrabee St &amp; Kingsbury St     </span></td><td>member</td><td> 6.6036667 mins</td><td>2024-08-14</td><td>Wednesday</td><td>August</td><td>14</td><td>2024</td><td>06:37:20.526</td><td> 6</td><td>Summer</td><td><span style=white-space:pre-wrap>Morning  </span></td></tr>\n",
              "\t<tr><td>electric_bike</td><td>2024-08-12 08:20:22</td><td>2024-08-12 08:32:10</td><td><span style=white-space:pre-wrap>Clark St &amp; Schreiber Ave       </span></td><td><span style=white-space:pre-wrap>Clark St &amp; Schreiber Ave       </span></td><td>member</td><td>11.8023667 mins</td><td>2024-08-12</td><td><span style=white-space:pre-wrap>Monday   </span></td><td>August</td><td>12</td><td>2024</td><td>08:20:22.197</td><td> 8</td><td>Summer</td><td><span style=white-space:pre-wrap>Morning  </span></td></tr>\n",
              "\t<tr><td>electric_bike</td><td>2024-08-25 16:42:57</td><td>2024-08-25 16:56:15</td><td><span style=white-space:pre-wrap>Franklin St &amp; Monroe St        </span></td><td><span style=white-space:pre-wrap>Morgan St &amp; 18th St            </span></td><td>member</td><td>13.3040167 mins</td><td>2024-08-25</td><td><span style=white-space:pre-wrap>Sunday   </span></td><td>August</td><td>25</td><td>2024</td><td>16:42:57.710</td><td>16</td><td>Summer</td><td>Afternoon</td></tr>\n",
              "\t<tr><td>classic_bike </td><td>2024-08-29 18:46:30</td><td>2024-08-29 18:55:16</td><td><span style=white-space:pre-wrap>Damen Ave &amp; Cortland St        </span></td><td><span style=white-space:pre-wrap>Albany Ave &amp; Bloomingdale Ave  </span></td><td>member</td><td> 8.7632000 mins</td><td>2024-08-29</td><td>Thursday </td><td>August</td><td>29</td><td>2024</td><td>18:46:30.722</td><td>18</td><td>Summer</td><td><span style=white-space:pre-wrap>Evening  </span></td></tr>\n",
              "\t<tr><td>electric_bike</td><td>2024-08-05 14:21:50</td><td>2024-08-05 14:24:50</td><td><span style=white-space:pre-wrap>Franklin St &amp; Monroe St        </span></td><td><span style=white-space:pre-wrap>Franklin St &amp; Lake St          </span></td><td>member</td><td> 3.0118500 mins</td><td>2024-08-05</td><td><span style=white-space:pre-wrap>Monday   </span></td><td>August</td><td>05</td><td>2024</td><td>14:21:50.074</td><td>14</td><td>Summer</td><td>Afternoon</td></tr>\n",
              "\t<tr><td>classic_bike </td><td>2024-08-02 22:01:01</td><td>2024-08-02 22:21:08</td><td><span style=white-space:pre-wrap>State St &amp; Randolph St         </span></td><td><span style=white-space:pre-wrap>Morgan St &amp; Polk St            </span></td><td>member</td><td>20.1105167 mins</td><td>2024-08-02</td><td><span style=white-space:pre-wrap>Friday   </span></td><td>August</td><td>02</td><td>2024</td><td>22:01:01.410</td><td>22</td><td>Summer</td><td><span style=white-space:pre-wrap>Evening  </span></td></tr>\n",
              "\t<tr><td>classic_bike </td><td>2024-08-29 12:36:36</td><td>2024-08-29 12:43:10</td><td><span style=white-space:pre-wrap>State St &amp; Randolph St         </span></td><td><span style=white-space:pre-wrap>Franklin St &amp; Lake St          </span></td><td>member</td><td> 6.5624500 mins</td><td>2024-08-29</td><td>Thursday </td><td>August</td><td>29</td><td>2024</td><td>12:36:36.356</td><td>12</td><td>Summer</td><td>Afternoon</td></tr>\n",
              "\t<tr><td>classic_bike </td><td>2024-08-29 08:07:02</td><td>2024-08-29 08:10:20</td><td><span style=white-space:pre-wrap>Franklin St &amp; Monroe St        </span></td><td><span style=white-space:pre-wrap>Franklin St &amp; Lake St          </span></td><td>member</td><td> 3.2995000 mins</td><td>2024-08-29</td><td>Thursday </td><td>August</td><td>29</td><td>2024</td><td>08:07:02.925</td><td> 8</td><td>Summer</td><td><span style=white-space:pre-wrap>Morning  </span></td></tr>\n",
              "\t<tr><td>⋮</td><td>⋮</td><td>⋮</td><td>⋮</td><td>⋮</td><td>⋮</td><td>⋮</td><td>⋮</td><td>⋮</td><td>⋮</td><td>⋮</td><td>⋮</td><td>⋮</td><td>⋮</td><td>⋮</td><td>⋮</td></tr>\n",
              "\t<tr><td>electric_bike</td><td>2024-07-20 20:42:10</td><td>2024-07-20 21:12:46</td><td><span style=white-space:pre-wrap>Clark St &amp; Newport St           </span></td><td><span style=white-space:pre-wrap>Ashland Ave &amp; Blackhawk St       </span></td><td>casual</td><td>30.592300 mins</td><td>2024-07-20</td><td>Saturday </td><td>July</td><td>20</td><td>2024</td><td>20:42:10.533</td><td>20</td><td>Summer</td><td><span style=white-space:pre-wrap>Evening  </span></td></tr>\n",
              "\t<tr><td>electric_bike</td><td>2024-07-20 20:43:42</td><td>2024-07-20 21:12:01</td><td><span style=white-space:pre-wrap>Clark St &amp; Newport St           </span></td><td><span style=white-space:pre-wrap>Ashland Ave &amp; Blackhawk St       </span></td><td>casual</td><td>28.323133 mins</td><td>2024-07-20</td><td>Saturday </td><td>July</td><td>20</td><td>2024</td><td>20:43:42.456</td><td>20</td><td>Summer</td><td><span style=white-space:pre-wrap>Evening  </span></td></tr>\n",
              "\t<tr><td>classic_bike </td><td>2024-07-20 10:34:50</td><td>2024-07-20 11:06:48</td><td><span style=white-space:pre-wrap>Dearborn St &amp; Van Buren St      </span></td><td>DuSable Lake Shore Dr &amp; Monroe St</td><td>casual</td><td>31.972600 mins</td><td>2024-07-20</td><td>Saturday </td><td>July</td><td>20</td><td>2024</td><td>10:34:50.475</td><td>10</td><td>Summer</td><td><span style=white-space:pre-wrap>Morning  </span></td></tr>\n",
              "\t<tr><td>classic_bike </td><td>2024-07-26 17:07:39</td><td>2024-07-26 17:39:08</td><td><span style=white-space:pre-wrap>Clark St &amp; Newport St           </span></td><td>DuSable Lake Shore Dr &amp; Monroe St</td><td>member</td><td>31.476717 mins</td><td>2024-07-26</td><td><span style=white-space:pre-wrap>Friday   </span></td><td>July</td><td>26</td><td>2024</td><td>17:07:39.967</td><td>17</td><td>Summer</td><td>Afternoon</td></tr>\n",
              "\t<tr><td>classic_bike </td><td>2024-07-08 17:10:10</td><td>2024-07-08 17:50:11</td><td><span style=white-space:pre-wrap>Damen Ave &amp; Melrose Ave         </span></td><td><span style=white-space:pre-wrap>Loomis St &amp; Archer Ave           </span></td><td>member</td><td>40.016917 mins</td><td>2024-07-08</td><td><span style=white-space:pre-wrap>Monday   </span></td><td>July</td><td>08</td><td>2024</td><td>17:10:10.572</td><td>17</td><td>Summer</td><td>Afternoon</td></tr>\n",
              "\t<tr><td>electric_bike</td><td>2024-07-05 13:46:04</td><td>2024-07-05 13:57:57</td><td><span style=white-space:pre-wrap>Clark St &amp; Newport St           </span></td><td><span style=white-space:pre-wrap>Southport Ave &amp; Clark St         </span></td><td>casual</td><td>11.871783 mins</td><td>2024-07-05</td><td><span style=white-space:pre-wrap>Friday   </span></td><td>July</td><td>05</td><td>2024</td><td>13:46:04.812</td><td>13</td><td>Summer</td><td>Afternoon</td></tr>\n",
              "\t<tr><td>electric_bike</td><td>2024-07-02 13:09:26</td><td>2024-07-02 13:27:27</td><td>Francisco Ave &amp; Bloomingdale Ave</td><td><span style=white-space:pre-wrap>Clinton St &amp; Madison St          </span></td><td>member</td><td>18.002450 mins</td><td>2024-07-02</td><td><span style=white-space:pre-wrap>Tuesday  </span></td><td>July</td><td>02</td><td>2024</td><td>13:09:26.909</td><td>13</td><td>Summer</td><td>Afternoon</td></tr>\n",
              "\t<tr><td>classic_bike </td><td>2024-07-20 10:34:44</td><td>2024-07-20 11:06:32</td><td><span style=white-space:pre-wrap>Dearborn St &amp; Van Buren St      </span></td><td>DuSable Lake Shore Dr &amp; Monroe St</td><td>casual</td><td>31.805200 mins</td><td>2024-07-20</td><td>Saturday </td><td>July</td><td>20</td><td>2024</td><td>10:34:44.339</td><td>10</td><td>Summer</td><td><span style=white-space:pre-wrap>Morning  </span></td></tr>\n",
              "\t<tr><td>classic_bike </td><td>2024-07-20 01:20:15</td><td>2024-07-20 01:27:04</td><td><span style=white-space:pre-wrap>Dearborn St &amp; Van Buren St      </span></td><td><span style=white-space:pre-wrap>Clinton St &amp; Madison St          </span></td><td>casual</td><td> 6.816550 mins</td><td>2024-07-20</td><td>Saturday </td><td>July</td><td>20</td><td>2024</td><td>01:20:15.570</td><td> 1</td><td>Summer</td><td><span style=white-space:pre-wrap>Night    </span></td></tr>\n",
              "\t<tr><td>classic_bike </td><td>2024-07-20 01:31:49</td><td>2024-07-20 01:38:02</td><td><span style=white-space:pre-wrap>Clark St &amp; Newport St           </span></td><td><span style=white-space:pre-wrap>Southport Ave &amp; Clark St         </span></td><td>casual</td><td> 6.216817 mins</td><td>2024-07-20</td><td>Saturday </td><td>July</td><td>20</td><td>2024</td><td>01:31:49.506</td><td> 1</td><td>Summer</td><td><span style=white-space:pre-wrap>Night    </span></td></tr>\n",
              "\t<tr><td>electric_bike</td><td>2024-07-05 13:51:18</td><td>2024-07-05 13:59:00</td><td><span style=white-space:pre-wrap>Clark St &amp; Newport St           </span></td><td><span style=white-space:pre-wrap>Southport Ave &amp; Clark St         </span></td><td>casual</td><td> 7.696183 mins</td><td>2024-07-05</td><td><span style=white-space:pre-wrap>Friday   </span></td><td>July</td><td>05</td><td>2024</td><td>13:51:18.355</td><td>13</td><td>Summer</td><td>Afternoon</td></tr>\n",
              "\t<tr><td>electric_bike</td><td>2024-07-27 23:13:04</td><td>2024-07-28 00:24:10</td><td>Francisco Ave &amp; Bloomingdale Ave</td><td><span style=white-space:pre-wrap>Loomis St &amp; Archer Ave           </span></td><td>casual</td><td>71.100933 mins</td><td>2024-07-27</td><td>Saturday </td><td>July</td><td>27</td><td>2024</td><td>23:13:04.175</td><td>23</td><td>Summer</td><td><span style=white-space:pre-wrap>Evening  </span></td></tr>\n",
              "\t<tr><td>electric_bike</td><td>2024-07-30 16:20:40</td><td>2024-07-30 17:11:02</td><td>Francisco Ave &amp; Bloomingdale Ave</td><td><span style=white-space:pre-wrap>Clinton St &amp; Madison St          </span></td><td>casual</td><td>50.371300 mins</td><td>2024-07-30</td><td><span style=white-space:pre-wrap>Tuesday  </span></td><td>July</td><td>30</td><td>2024</td><td>16:20:40.211</td><td>16</td><td>Summer</td><td>Afternoon</td></tr>\n",
              "\t<tr><td>classic_bike </td><td>2024-07-29 18:41:27</td><td>2024-07-29 18:59:59</td><td><span style=white-space:pre-wrap>Shields Ave &amp; 43rd St           </span></td><td><span style=white-space:pre-wrap>Wentworth Ave &amp; 33rd St          </span></td><td>member</td><td>18.543717 mins</td><td>2024-07-29</td><td><span style=white-space:pre-wrap>Monday   </span></td><td>July</td><td>29</td><td>2024</td><td>18:41:27.016</td><td>18</td><td>Summer</td><td><span style=white-space:pre-wrap>Evening  </span></td></tr>\n",
              "\t<tr><td>electric_bike</td><td>2024-07-28 22:09:18</td><td>2024-07-28 22:17:59</td><td><span style=white-space:pre-wrap>Clark St &amp; Newport St           </span></td><td><span style=white-space:pre-wrap>Southport Ave &amp; Clark St         </span></td><td>casual</td><td> 8.681733 mins</td><td>2024-07-28</td><td><span style=white-space:pre-wrap>Sunday   </span></td><td>July</td><td>28</td><td>2024</td><td>22:09:18.192</td><td>22</td><td>Summer</td><td><span style=white-space:pre-wrap>Evening  </span></td></tr>\n",
              "\t<tr><td>electric_bike</td><td>2024-07-02 21:48:24</td><td>2024-07-02 22:13:39</td><td><span style=white-space:pre-wrap>Clark St &amp; Newport St           </span></td><td><span style=white-space:pre-wrap>Ashland Ave &amp; Blackhawk St       </span></td><td>casual</td><td>25.256033 mins</td><td>2024-07-02</td><td><span style=white-space:pre-wrap>Tuesday  </span></td><td>July</td><td>02</td><td>2024</td><td>21:48:24.453</td><td>21</td><td>Summer</td><td><span style=white-space:pre-wrap>Evening  </span></td></tr>\n",
              "\t<tr><td>electric_bike</td><td>2024-07-28 12:42:58</td><td>2024-07-28 13:20:44</td><td><span style=white-space:pre-wrap>Dearborn St &amp; Van Buren St      </span></td><td><span style=white-space:pre-wrap>Shore Dr &amp; 55th St               </span></td><td>casual</td><td>37.769483 mins</td><td>2024-07-28</td><td><span style=white-space:pre-wrap>Sunday   </span></td><td>July</td><td>28</td><td>2024</td><td>12:42:58.706</td><td>12</td><td>Summer</td><td>Afternoon</td></tr>\n",
              "\t<tr><td>electric_bike</td><td>2024-07-28 00:10:39</td><td>2024-07-28 00:17:51</td><td><span style=white-space:pre-wrap>Clark St &amp; Newport St           </span></td><td><span style=white-space:pre-wrap>Southport Ave &amp; Clark St         </span></td><td>casual</td><td> 7.204383 mins</td><td>2024-07-28</td><td><span style=white-space:pre-wrap>Sunday   </span></td><td>July</td><td>28</td><td>2024</td><td>00:10:39.233</td><td> 0</td><td>Summer</td><td><span style=white-space:pre-wrap>Night    </span></td></tr>\n",
              "\t<tr><td>classic_bike </td><td>2024-07-01 15:56:06</td><td>2024-07-01 17:01:05</td><td><span style=white-space:pre-wrap>Dearborn St &amp; Van Buren St      </span></td><td><span style=white-space:pre-wrap>Shore Dr &amp; 55th St               </span></td><td>casual</td><td>64.976517 mins</td><td>2024-07-01</td><td><span style=white-space:pre-wrap>Monday   </span></td><td>July</td><td>01</td><td>2024</td><td>15:56:06.972</td><td>15</td><td>Summer</td><td>Afternoon</td></tr>\n",
              "\t<tr><td>electric_bike</td><td>2024-07-20 20:43:03</td><td>2024-07-20 21:12:32</td><td><span style=white-space:pre-wrap>Clark St &amp; Newport St           </span></td><td><span style=white-space:pre-wrap>Ashland Ave &amp; Blackhawk St       </span></td><td>casual</td><td>29.494667 mins</td><td>2024-07-20</td><td>Saturday </td><td>July</td><td>20</td><td>2024</td><td>20:43:03.266</td><td>20</td><td>Summer</td><td><span style=white-space:pre-wrap>Evening  </span></td></tr>\n",
              "\t<tr><td>electric_bike</td><td>2024-07-28 22:09:25</td><td>2024-07-28 22:17:54</td><td><span style=white-space:pre-wrap>Clark St &amp; Newport St           </span></td><td><span style=white-space:pre-wrap>Southport Ave &amp; Clark St         </span></td><td>casual</td><td> 8.479750 mins</td><td>2024-07-28</td><td><span style=white-space:pre-wrap>Sunday   </span></td><td>July</td><td>28</td><td>2024</td><td>22:09:25.399</td><td>22</td><td>Summer</td><td><span style=white-space:pre-wrap>Evening  </span></td></tr>\n",
              "\t<tr><td>electric_bike</td><td>2024-07-13 14:05:05</td><td>2024-07-13 14:11:40</td><td><span style=white-space:pre-wrap>Dearborn St &amp; Van Buren St      </span></td><td>DuSable Lake Shore Dr &amp; Monroe St</td><td>casual</td><td> 6.574867 mins</td><td>2024-07-13</td><td>Saturday </td><td>July</td><td>13</td><td>2024</td><td>14:05:05.904</td><td>14</td><td>Summer</td><td>Afternoon</td></tr>\n",
              "\t<tr><td>electric_bike</td><td>2024-07-12 13:19:34</td><td>2024-07-12 13:25:11</td><td><span style=white-space:pre-wrap>Dearborn St &amp; Van Buren St      </span></td><td><span style=white-space:pre-wrap>Clinton St &amp; Madison St          </span></td><td>member</td><td> 5.618350 mins</td><td>2024-07-12</td><td><span style=white-space:pre-wrap>Friday   </span></td><td>July</td><td>12</td><td>2024</td><td>13:19:34.264</td><td>13</td><td>Summer</td><td>Afternoon</td></tr>\n",
              "\t<tr><td>classic_bike </td><td>2024-07-30 22:29:48</td><td>2024-07-30 22:39:41</td><td><span style=white-space:pre-wrap>Dearborn St &amp; Van Buren St      </span></td><td><span style=white-space:pre-wrap>Clinton St &amp; Madison St          </span></td><td>casual</td><td> 9.892233 mins</td><td>2024-07-30</td><td><span style=white-space:pre-wrap>Tuesday  </span></td><td>July</td><td>30</td><td>2024</td><td>22:29:48.240</td><td>22</td><td>Summer</td><td><span style=white-space:pre-wrap>Evening  </span></td></tr>\n",
              "\t<tr><td>classic_bike </td><td>2024-07-19 13:55:48</td><td>2024-07-19 14:04:17</td><td><span style=white-space:pre-wrap>Dearborn St &amp; Van Buren St      </span></td><td>DuSable Lake Shore Dr &amp; Monroe St</td><td>casual</td><td> 8.479567 mins</td><td>2024-07-19</td><td><span style=white-space:pre-wrap>Friday   </span></td><td>July</td><td>19</td><td>2024</td><td>13:55:48.642</td><td>13</td><td>Summer</td><td>Afternoon</td></tr>\n",
              "\t<tr><td>classic_bike </td><td>2024-07-26 15:05:14</td><td>2024-07-26 15:14:31</td><td><span style=white-space:pre-wrap>Clark St &amp; Newport St           </span></td><td><span style=white-space:pre-wrap>Southport Ave &amp; Clark St         </span></td><td>casual</td><td> 9.280800 mins</td><td>2024-07-26</td><td><span style=white-space:pre-wrap>Friday   </span></td><td>July</td><td>26</td><td>2024</td><td>15:05:14.866</td><td>15</td><td>Summer</td><td>Afternoon</td></tr>\n",
              "\t<tr><td>electric_bike</td><td>2024-07-06 15:58:16</td><td>2024-07-06 16:07:22</td><td><span style=white-space:pre-wrap>Clark St &amp; Newport St           </span></td><td><span style=white-space:pre-wrap>Southport Ave &amp; Clark St         </span></td><td>casual</td><td> 9.099350 mins</td><td>2024-07-06</td><td>Saturday </td><td>July</td><td>06</td><td>2024</td><td>15:58:16.058</td><td>15</td><td>Summer</td><td>Afternoon</td></tr>\n",
              "\t<tr><td>classic_bike </td><td>2024-07-03 17:11:45</td><td>2024-07-03 17:57:09</td><td><span style=white-space:pre-wrap>Dearborn St &amp; Van Buren St      </span></td><td><span style=white-space:pre-wrap>Cornell Ave &amp; Hyde Park Blvd     </span></td><td>casual</td><td>45.393467 mins</td><td>2024-07-03</td><td>Wednesday</td><td>July</td><td>03</td><td>2024</td><td>17:11:45.420</td><td>17</td><td>Summer</td><td>Afternoon</td></tr>\n",
              "\t<tr><td>classic_bike </td><td>2024-07-03 17:09:13</td><td>2024-07-03 17:17:50</td><td><span style=white-space:pre-wrap>Dearborn St &amp; Van Buren St      </span></td><td><span style=white-space:pre-wrap>Clinton St &amp; Madison St          </span></td><td>member</td><td> 8.608167 mins</td><td>2024-07-03</td><td>Wednesday</td><td>July</td><td>03</td><td>2024</td><td>17:09:13.869</td><td>17</td><td>Summer</td><td>Afternoon</td></tr>\n",
              "\t<tr><td>classic_bike </td><td>2024-07-18 13:36:41</td><td>2024-07-18 13:43:55</td><td><span style=white-space:pre-wrap>Dearborn St &amp; Van Buren St      </span></td><td><span style=white-space:pre-wrap>Clinton St &amp; Madison St          </span></td><td>member</td><td> 7.230800 mins</td><td>2024-07-18</td><td>Thursday </td><td>July</td><td>18</td><td>2024</td><td>13:36:41.487</td><td>13</td><td>Summer</td><td>Afternoon</td></tr>\n",
              "</tbody>\n",
              "</table>\n"
            ],
            "text/markdown": "\nA tibble: 3806844 × 16\n\n| rideable_type &lt;chr&gt; | started_at &lt;dttm&gt; | ended_at &lt;dttm&gt; | start_station_name &lt;chr&gt; | end_station_name &lt;chr&gt; | member_casual &lt;chr&gt; | ride_length &lt;drtn&gt; | date &lt;date&gt; | day_of_week &lt;chr&gt; | month &lt;chr&gt; | day &lt;chr&gt; | year &lt;chr&gt; | time &lt;time&gt; | hour &lt;int&gt; | season &lt;chr&gt; | time_of_day &lt;chr&gt; |\n|---|---|---|---|---|---|---|---|---|---|---|---|---|---|---|---|\n| classic_bike  | 2024-08-02 13:35:14 | 2024-08-02 13:48:24 | State St &amp; Randolph St          | Wabash Ave &amp; 9th St             | member | 13.1670500 mins | 2024-08-02 | Friday    | August | 02 | 2024 | 13:35:14.403 | 13 | Summer | Afternoon |\n| electric_bike | 2024-08-02 15:33:13 | 2024-08-02 15:55:23 | Franklin St &amp; Monroe St         | Damen Ave &amp; Cortland St         | member | 22.1650000 mins | 2024-08-02 | Friday    | August | 02 | 2024 | 15:33:13.965 | 15 | Summer | Afternoon |\n| classic_bike  | 2024-08-16 15:44:06 | 2024-08-16 15:57:52 | Franklin St &amp; Monroe St         | Clark St &amp; Elm St               | member | 13.7646000 mins | 2024-08-16 | Friday    | August | 16 | 2024 | 15:44:06.233 | 15 | Summer | Afternoon |\n| electric_bike | 2024-08-19 18:47:11 | 2024-08-19 18:56:33 | Clark St &amp; Elm St               | McClurg Ct &amp; Ohio St            | member |  9.3569000 mins | 2024-08-19 | Monday    | August | 19 | 2024 | 18:47:11.855 | 18 | Summer | Evening   |\n| classic_bike  | 2024-08-03 20:34:20 | 2024-08-03 20:46:29 | Western Ave &amp; Leland Ave        | Ashland Ave &amp; Belle Plaine Ave  | casual | 12.1457500 mins | 2024-08-03 | Saturday  | August | 03 | 2024 | 20:34:20.560 | 20 | Summer | Evening   |\n| electric_bike | 2024-08-03 20:08:09 | 2024-08-03 20:44:53 | Clark St &amp; Elm St               | Stetson Ave &amp; South Water St    | casual | 36.7463333 mins | 2024-08-03 | Saturday  | August | 03 | 2024 | 20:08:09.067 | 20 | Summer | Evening   |\n| classic_bike  | 2024-08-28 17:08:13 | 2024-08-28 17:34:06 | Michigan Ave &amp; Jackson Blvd     | Larrabee St &amp; Webster Ave       | member | 25.8933167 mins | 2024-08-28 | Wednesday | August | 28 | 2024 | 17:08:13.321 | 17 | Summer | Afternoon |\n| electric_bike | 2024-08-20 16:04:33 | 2024-08-20 16:08:27 | Franklin St &amp; Monroe St         | Kingsbury St &amp; Kinzie St        | member |  3.8962333 mins | 2024-08-20 | Tuesday   | August | 20 | 2024 | 16:04:33.878 | 16 | Summer | Afternoon |\n| electric_bike | 2024-08-07 12:11:56 | 2024-08-07 12:13:38 | Michigan Ave &amp; Jackson Blvd     | Wabash Ave &amp; Adams St           | member |  1.7037000 mins | 2024-08-07 | Wednesday | August | 07 | 2024 | 12:11:56.623 | 12 | Summer | Afternoon |\n| classic_bike  | 2024-08-29 20:41:13 | 2024-08-29 20:55:32 | Scottsdale Park                 | Scottsdale Park                 | casual | 14.3223833 mins | 2024-08-29 | Thursday  | August | 29 | 2024 | 20:41:13.067 | 20 | Summer | Evening   |\n| classic_bike  | 2024-08-29 20:38:10 | 2024-08-29 20:40:23 | Scottsdale Park                 | Scottsdale Park                 | casual |  2.2293667 mins | 2024-08-29 | Thursday  | August | 29 | 2024 | 20:38:10.093 | 20 | Summer | Evening   |\n| classic_bike  | 2024-08-29 20:41:36 | 2024-08-29 20:55:34 | Scottsdale Park                 | Scottsdale Park                 | casual | 13.9646833 mins | 2024-08-29 | Thursday  | August | 29 | 2024 | 20:41:36.658 | 20 | Summer | Evening   |\n| electric_bike | 2024-08-21 13:30:16 | 2024-08-21 15:01:38 | Lincoln Ave &amp; Addison St        | Lincoln Ave &amp; Addison St        | casual | 91.3715500 mins | 2024-08-21 | Wednesday | August | 21 | 2024 | 13:30:16.466 | 13 | Summer | Afternoon |\n| electric_bike | 2024-08-08 16:57:25 | 2024-08-08 16:57:41 | Public Rack - Chopin Park       | Public Rack - Chopin Park       | casual |  0.2636667 mins | 2024-08-08 | Thursday  | August | 08 | 2024 | 16:57:25.696 | 16 | Summer | Afternoon |\n| classic_bike  | 2024-08-28 22:16:35 | 2024-08-28 22:41:49 | St. Louis Ave &amp; Fullerton Ave   | Sawyer Ave &amp; Irving Park Rd     | casual | 25.2234333 mins | 2024-08-28 | Wednesday | August | 28 | 2024 | 22:16:35.729 | 22 | Summer | Evening   |\n| classic_bike  | 2024-08-12 19:54:53 | 2024-08-12 20:21:11 | Dearborn Pkwy &amp; Delaware Pl     | Dearborn Pkwy &amp; Delaware Pl     | casual | 26.2985667 mins | 2024-08-12 | Monday    | August | 12 | 2024 | 19:54:53.744 | 19 | Summer | Evening   |\n| classic_bike  | 2024-08-10 12:26:48 | 2024-08-10 13:15:47 | Ravenswood Ave &amp; Irving Park Rd | Ravenswood Ave &amp; Irving Park Rd | member | 48.9737833 mins | 2024-08-10 | Saturday  | August | 10 | 2024 | 12:26:48.634 | 12 | Summer | Afternoon |\n| electric_bike | 2024-08-10 11:59:32 | 2024-08-10 12:16:59 | Lincoln Ave &amp; Addison St        | St. Louis Ave &amp; Fullerton Ave   | member | 17.4444667 mins | 2024-08-10 | Saturday  | August | 10 | 2024 | 11:59:32.478 | 11 | Summer | Morning   |\n| classic_bike  | 2024-08-26 08:38:52 | 2024-08-26 09:03:13 | Indiana Ave &amp; 26th St           | Rush St &amp; Hubbard St            | member | 24.3478333 mins | 2024-08-26 | Monday    | August | 26 | 2024 | 08:38:52.938 |  8 | Summer | Morning   |\n| classic_bike  | 2024-08-20 08:21:06 | 2024-08-20 08:23:17 | Michigan Ave &amp; Jackson Blvd     | Millennium Park                 | member |  2.1948667 mins | 2024-08-20 | Tuesday   | August | 20 | 2024 | 08:21:06.237 |  8 | Summer | Morning   |\n| classic_bike  | 2024-08-08 11:57:03 | 2024-08-08 11:59:33 | Michigan Ave &amp; Jackson Blvd     | Millennium Park                 | member |  2.5047833 mins | 2024-08-08 | Thursday  | August | 08 | 2024 | 11:57:03.473 | 11 | Summer | Morning   |\n| electric_bike | 2024-08-22 21:32:43 | 2024-08-22 21:45:40 | Damen Ave &amp; Cortland St         | Milwaukee Ave &amp; Grand Ave       | member | 12.9470333 mins | 2024-08-22 | Thursday  | August | 22 | 2024 | 21:32:43.684 | 21 | Summer | Evening   |\n| electric_bike | 2024-08-14 06:37:20 | 2024-08-14 06:43:56 | Clark St &amp; Elm St               | Larrabee St &amp; Kingsbury St      | member |  6.6036667 mins | 2024-08-14 | Wednesday | August | 14 | 2024 | 06:37:20.526 |  6 | Summer | Morning   |\n| electric_bike | 2024-08-12 08:20:22 | 2024-08-12 08:32:10 | Clark St &amp; Schreiber Ave        | Clark St &amp; Schreiber Ave        | member | 11.8023667 mins | 2024-08-12 | Monday    | August | 12 | 2024 | 08:20:22.197 |  8 | Summer | Morning   |\n| electric_bike | 2024-08-25 16:42:57 | 2024-08-25 16:56:15 | Franklin St &amp; Monroe St         | Morgan St &amp; 18th St             | member | 13.3040167 mins | 2024-08-25 | Sunday    | August | 25 | 2024 | 16:42:57.710 | 16 | Summer | Afternoon |\n| classic_bike  | 2024-08-29 18:46:30 | 2024-08-29 18:55:16 | Damen Ave &amp; Cortland St         | Albany Ave &amp; Bloomingdale Ave   | member |  8.7632000 mins | 2024-08-29 | Thursday  | August | 29 | 2024 | 18:46:30.722 | 18 | Summer | Evening   |\n| electric_bike | 2024-08-05 14:21:50 | 2024-08-05 14:24:50 | Franklin St &amp; Monroe St         | Franklin St &amp; Lake St           | member |  3.0118500 mins | 2024-08-05 | Monday    | August | 05 | 2024 | 14:21:50.074 | 14 | Summer | Afternoon |\n| classic_bike  | 2024-08-02 22:01:01 | 2024-08-02 22:21:08 | State St &amp; Randolph St          | Morgan St &amp; Polk St             | member | 20.1105167 mins | 2024-08-02 | Friday    | August | 02 | 2024 | 22:01:01.410 | 22 | Summer | Evening   |\n| classic_bike  | 2024-08-29 12:36:36 | 2024-08-29 12:43:10 | State St &amp; Randolph St          | Franklin St &amp; Lake St           | member |  6.5624500 mins | 2024-08-29 | Thursday  | August | 29 | 2024 | 12:36:36.356 | 12 | Summer | Afternoon |\n| classic_bike  | 2024-08-29 08:07:02 | 2024-08-29 08:10:20 | Franklin St &amp; Monroe St         | Franklin St &amp; Lake St           | member |  3.2995000 mins | 2024-08-29 | Thursday  | August | 29 | 2024 | 08:07:02.925 |  8 | Summer | Morning   |\n| ⋮ | ⋮ | ⋮ | ⋮ | ⋮ | ⋮ | ⋮ | ⋮ | ⋮ | ⋮ | ⋮ | ⋮ | ⋮ | ⋮ | ⋮ | ⋮ |\n| electric_bike | 2024-07-20 20:42:10 | 2024-07-20 21:12:46 | Clark St &amp; Newport St            | Ashland Ave &amp; Blackhawk St        | casual | 30.592300 mins | 2024-07-20 | Saturday  | July | 20 | 2024 | 20:42:10.533 | 20 | Summer | Evening   |\n| electric_bike | 2024-07-20 20:43:42 | 2024-07-20 21:12:01 | Clark St &amp; Newport St            | Ashland Ave &amp; Blackhawk St        | casual | 28.323133 mins | 2024-07-20 | Saturday  | July | 20 | 2024 | 20:43:42.456 | 20 | Summer | Evening   |\n| classic_bike  | 2024-07-20 10:34:50 | 2024-07-20 11:06:48 | Dearborn St &amp; Van Buren St       | DuSable Lake Shore Dr &amp; Monroe St | casual | 31.972600 mins | 2024-07-20 | Saturday  | July | 20 | 2024 | 10:34:50.475 | 10 | Summer | Morning   |\n| classic_bike  | 2024-07-26 17:07:39 | 2024-07-26 17:39:08 | Clark St &amp; Newport St            | DuSable Lake Shore Dr &amp; Monroe St | member | 31.476717 mins | 2024-07-26 | Friday    | July | 26 | 2024 | 17:07:39.967 | 17 | Summer | Afternoon |\n| classic_bike  | 2024-07-08 17:10:10 | 2024-07-08 17:50:11 | Damen Ave &amp; Melrose Ave          | Loomis St &amp; Archer Ave            | member | 40.016917 mins | 2024-07-08 | Monday    | July | 08 | 2024 | 17:10:10.572 | 17 | Summer | Afternoon |\n| electric_bike | 2024-07-05 13:46:04 | 2024-07-05 13:57:57 | Clark St &amp; Newport St            | Southport Ave &amp; Clark St          | casual | 11.871783 mins | 2024-07-05 | Friday    | July | 05 | 2024 | 13:46:04.812 | 13 | Summer | Afternoon |\n| electric_bike | 2024-07-02 13:09:26 | 2024-07-02 13:27:27 | Francisco Ave &amp; Bloomingdale Ave | Clinton St &amp; Madison St           | member | 18.002450 mins | 2024-07-02 | Tuesday   | July | 02 | 2024 | 13:09:26.909 | 13 | Summer | Afternoon |\n| classic_bike  | 2024-07-20 10:34:44 | 2024-07-20 11:06:32 | Dearborn St &amp; Van Buren St       | DuSable Lake Shore Dr &amp; Monroe St | casual | 31.805200 mins | 2024-07-20 | Saturday  | July | 20 | 2024 | 10:34:44.339 | 10 | Summer | Morning   |\n| classic_bike  | 2024-07-20 01:20:15 | 2024-07-20 01:27:04 | Dearborn St &amp; Van Buren St       | Clinton St &amp; Madison St           | casual |  6.816550 mins | 2024-07-20 | Saturday  | July | 20 | 2024 | 01:20:15.570 |  1 | Summer | Night     |\n| classic_bike  | 2024-07-20 01:31:49 | 2024-07-20 01:38:02 | Clark St &amp; Newport St            | Southport Ave &amp; Clark St          | casual |  6.216817 mins | 2024-07-20 | Saturday  | July | 20 | 2024 | 01:31:49.506 |  1 | Summer | Night     |\n| electric_bike | 2024-07-05 13:51:18 | 2024-07-05 13:59:00 | Clark St &amp; Newport St            | Southport Ave &amp; Clark St          | casual |  7.696183 mins | 2024-07-05 | Friday    | July | 05 | 2024 | 13:51:18.355 | 13 | Summer | Afternoon |\n| electric_bike | 2024-07-27 23:13:04 | 2024-07-28 00:24:10 | Francisco Ave &amp; Bloomingdale Ave | Loomis St &amp; Archer Ave            | casual | 71.100933 mins | 2024-07-27 | Saturday  | July | 27 | 2024 | 23:13:04.175 | 23 | Summer | Evening   |\n| electric_bike | 2024-07-30 16:20:40 | 2024-07-30 17:11:02 | Francisco Ave &amp; Bloomingdale Ave | Clinton St &amp; Madison St           | casual | 50.371300 mins | 2024-07-30 | Tuesday   | July | 30 | 2024 | 16:20:40.211 | 16 | Summer | Afternoon |\n| classic_bike  | 2024-07-29 18:41:27 | 2024-07-29 18:59:59 | Shields Ave &amp; 43rd St            | Wentworth Ave &amp; 33rd St           | member | 18.543717 mins | 2024-07-29 | Monday    | July | 29 | 2024 | 18:41:27.016 | 18 | Summer | Evening   |\n| electric_bike | 2024-07-28 22:09:18 | 2024-07-28 22:17:59 | Clark St &amp; Newport St            | Southport Ave &amp; Clark St          | casual |  8.681733 mins | 2024-07-28 | Sunday    | July | 28 | 2024 | 22:09:18.192 | 22 | Summer | Evening   |\n| electric_bike | 2024-07-02 21:48:24 | 2024-07-02 22:13:39 | Clark St &amp; Newport St            | Ashland Ave &amp; Blackhawk St        | casual | 25.256033 mins | 2024-07-02 | Tuesday   | July | 02 | 2024 | 21:48:24.453 | 21 | Summer | Evening   |\n| electric_bike | 2024-07-28 12:42:58 | 2024-07-28 13:20:44 | Dearborn St &amp; Van Buren St       | Shore Dr &amp; 55th St                | casual | 37.769483 mins | 2024-07-28 | Sunday    | July | 28 | 2024 | 12:42:58.706 | 12 | Summer | Afternoon |\n| electric_bike | 2024-07-28 00:10:39 | 2024-07-28 00:17:51 | Clark St &amp; Newport St            | Southport Ave &amp; Clark St          | casual |  7.204383 mins | 2024-07-28 | Sunday    | July | 28 | 2024 | 00:10:39.233 |  0 | Summer | Night     |\n| classic_bike  | 2024-07-01 15:56:06 | 2024-07-01 17:01:05 | Dearborn St &amp; Van Buren St       | Shore Dr &amp; 55th St                | casual | 64.976517 mins | 2024-07-01 | Monday    | July | 01 | 2024 | 15:56:06.972 | 15 | Summer | Afternoon |\n| electric_bike | 2024-07-20 20:43:03 | 2024-07-20 21:12:32 | Clark St &amp; Newport St            | Ashland Ave &amp; Blackhawk St        | casual | 29.494667 mins | 2024-07-20 | Saturday  | July | 20 | 2024 | 20:43:03.266 | 20 | Summer | Evening   |\n| electric_bike | 2024-07-28 22:09:25 | 2024-07-28 22:17:54 | Clark St &amp; Newport St            | Southport Ave &amp; Clark St          | casual |  8.479750 mins | 2024-07-28 | Sunday    | July | 28 | 2024 | 22:09:25.399 | 22 | Summer | Evening   |\n| electric_bike | 2024-07-13 14:05:05 | 2024-07-13 14:11:40 | Dearborn St &amp; Van Buren St       | DuSable Lake Shore Dr &amp; Monroe St | casual |  6.574867 mins | 2024-07-13 | Saturday  | July | 13 | 2024 | 14:05:05.904 | 14 | Summer | Afternoon |\n| electric_bike | 2024-07-12 13:19:34 | 2024-07-12 13:25:11 | Dearborn St &amp; Van Buren St       | Clinton St &amp; Madison St           | member |  5.618350 mins | 2024-07-12 | Friday    | July | 12 | 2024 | 13:19:34.264 | 13 | Summer | Afternoon |\n| classic_bike  | 2024-07-30 22:29:48 | 2024-07-30 22:39:41 | Dearborn St &amp; Van Buren St       | Clinton St &amp; Madison St           | casual |  9.892233 mins | 2024-07-30 | Tuesday   | July | 30 | 2024 | 22:29:48.240 | 22 | Summer | Evening   |\n| classic_bike  | 2024-07-19 13:55:48 | 2024-07-19 14:04:17 | Dearborn St &amp; Van Buren St       | DuSable Lake Shore Dr &amp; Monroe St | casual |  8.479567 mins | 2024-07-19 | Friday    | July | 19 | 2024 | 13:55:48.642 | 13 | Summer | Afternoon |\n| classic_bike  | 2024-07-26 15:05:14 | 2024-07-26 15:14:31 | Clark St &amp; Newport St            | Southport Ave &amp; Clark St          | casual |  9.280800 mins | 2024-07-26 | Friday    | July | 26 | 2024 | 15:05:14.866 | 15 | Summer | Afternoon |\n| electric_bike | 2024-07-06 15:58:16 | 2024-07-06 16:07:22 | Clark St &amp; Newport St            | Southport Ave &amp; Clark St          | casual |  9.099350 mins | 2024-07-06 | Saturday  | July | 06 | 2024 | 15:58:16.058 | 15 | Summer | Afternoon |\n| classic_bike  | 2024-07-03 17:11:45 | 2024-07-03 17:57:09 | Dearborn St &amp; Van Buren St       | Cornell Ave &amp; Hyde Park Blvd      | casual | 45.393467 mins | 2024-07-03 | Wednesday | July | 03 | 2024 | 17:11:45.420 | 17 | Summer | Afternoon |\n| classic_bike  | 2024-07-03 17:09:13 | 2024-07-03 17:17:50 | Dearborn St &amp; Van Buren St       | Clinton St &amp; Madison St           | member |  8.608167 mins | 2024-07-03 | Wednesday | July | 03 | 2024 | 17:09:13.869 | 17 | Summer | Afternoon |\n| classic_bike  | 2024-07-18 13:36:41 | 2024-07-18 13:43:55 | Dearborn St &amp; Van Buren St       | Clinton St &amp; Madison St           | member |  7.230800 mins | 2024-07-18 | Thursday  | July | 18 | 2024 | 13:36:41.487 | 13 | Summer | Afternoon |\n\n",
            "text/latex": "A tibble: 3806844 × 16\n\\begin{tabular}{llllllllllllllll}\n rideable\\_type & started\\_at & ended\\_at & start\\_station\\_name & end\\_station\\_name & member\\_casual & ride\\_length & date & day\\_of\\_week & month & day & year & time & hour & season & time\\_of\\_day\\\\\n <chr> & <dttm> & <dttm> & <chr> & <chr> & <chr> & <drtn> & <date> & <chr> & <chr> & <chr> & <chr> & <time> & <int> & <chr> & <chr>\\\\\n\\hline\n\t classic\\_bike  & 2024-08-02 13:35:14 & 2024-08-02 13:48:24 & State St \\& Randolph St          & Wabash Ave \\& 9th St             & member & 13.1670500 mins & 2024-08-02 & Friday    & August & 02 & 2024 & 13:35:14.403 & 13 & Summer & Afternoon\\\\\n\t electric\\_bike & 2024-08-02 15:33:13 & 2024-08-02 15:55:23 & Franklin St \\& Monroe St         & Damen Ave \\& Cortland St         & member & 22.1650000 mins & 2024-08-02 & Friday    & August & 02 & 2024 & 15:33:13.965 & 15 & Summer & Afternoon\\\\\n\t classic\\_bike  & 2024-08-16 15:44:06 & 2024-08-16 15:57:52 & Franklin St \\& Monroe St         & Clark St \\& Elm St               & member & 13.7646000 mins & 2024-08-16 & Friday    & August & 16 & 2024 & 15:44:06.233 & 15 & Summer & Afternoon\\\\\n\t electric\\_bike & 2024-08-19 18:47:11 & 2024-08-19 18:56:33 & Clark St \\& Elm St               & McClurg Ct \\& Ohio St            & member &  9.3569000 mins & 2024-08-19 & Monday    & August & 19 & 2024 & 18:47:11.855 & 18 & Summer & Evening  \\\\\n\t classic\\_bike  & 2024-08-03 20:34:20 & 2024-08-03 20:46:29 & Western Ave \\& Leland Ave        & Ashland Ave \\& Belle Plaine Ave  & casual & 12.1457500 mins & 2024-08-03 & Saturday  & August & 03 & 2024 & 20:34:20.560 & 20 & Summer & Evening  \\\\\n\t electric\\_bike & 2024-08-03 20:08:09 & 2024-08-03 20:44:53 & Clark St \\& Elm St               & Stetson Ave \\& South Water St    & casual & 36.7463333 mins & 2024-08-03 & Saturday  & August & 03 & 2024 & 20:08:09.067 & 20 & Summer & Evening  \\\\\n\t classic\\_bike  & 2024-08-28 17:08:13 & 2024-08-28 17:34:06 & Michigan Ave \\& Jackson Blvd     & Larrabee St \\& Webster Ave       & member & 25.8933167 mins & 2024-08-28 & Wednesday & August & 28 & 2024 & 17:08:13.321 & 17 & Summer & Afternoon\\\\\n\t electric\\_bike & 2024-08-20 16:04:33 & 2024-08-20 16:08:27 & Franklin St \\& Monroe St         & Kingsbury St \\& Kinzie St        & member &  3.8962333 mins & 2024-08-20 & Tuesday   & August & 20 & 2024 & 16:04:33.878 & 16 & Summer & Afternoon\\\\\n\t electric\\_bike & 2024-08-07 12:11:56 & 2024-08-07 12:13:38 & Michigan Ave \\& Jackson Blvd     & Wabash Ave \\& Adams St           & member &  1.7037000 mins & 2024-08-07 & Wednesday & August & 07 & 2024 & 12:11:56.623 & 12 & Summer & Afternoon\\\\\n\t classic\\_bike  & 2024-08-29 20:41:13 & 2024-08-29 20:55:32 & Scottsdale Park                 & Scottsdale Park                 & casual & 14.3223833 mins & 2024-08-29 & Thursday  & August & 29 & 2024 & 20:41:13.067 & 20 & Summer & Evening  \\\\\n\t classic\\_bike  & 2024-08-29 20:38:10 & 2024-08-29 20:40:23 & Scottsdale Park                 & Scottsdale Park                 & casual &  2.2293667 mins & 2024-08-29 & Thursday  & August & 29 & 2024 & 20:38:10.093 & 20 & Summer & Evening  \\\\\n\t classic\\_bike  & 2024-08-29 20:41:36 & 2024-08-29 20:55:34 & Scottsdale Park                 & Scottsdale Park                 & casual & 13.9646833 mins & 2024-08-29 & Thursday  & August & 29 & 2024 & 20:41:36.658 & 20 & Summer & Evening  \\\\\n\t electric\\_bike & 2024-08-21 13:30:16 & 2024-08-21 15:01:38 & Lincoln Ave \\& Addison St        & Lincoln Ave \\& Addison St        & casual & 91.3715500 mins & 2024-08-21 & Wednesday & August & 21 & 2024 & 13:30:16.466 & 13 & Summer & Afternoon\\\\\n\t electric\\_bike & 2024-08-08 16:57:25 & 2024-08-08 16:57:41 & Public Rack - Chopin Park       & Public Rack - Chopin Park       & casual &  0.2636667 mins & 2024-08-08 & Thursday  & August & 08 & 2024 & 16:57:25.696 & 16 & Summer & Afternoon\\\\\n\t classic\\_bike  & 2024-08-28 22:16:35 & 2024-08-28 22:41:49 & St. Louis Ave \\& Fullerton Ave   & Sawyer Ave \\& Irving Park Rd     & casual & 25.2234333 mins & 2024-08-28 & Wednesday & August & 28 & 2024 & 22:16:35.729 & 22 & Summer & Evening  \\\\\n\t classic\\_bike  & 2024-08-12 19:54:53 & 2024-08-12 20:21:11 & Dearborn Pkwy \\& Delaware Pl     & Dearborn Pkwy \\& Delaware Pl     & casual & 26.2985667 mins & 2024-08-12 & Monday    & August & 12 & 2024 & 19:54:53.744 & 19 & Summer & Evening  \\\\\n\t classic\\_bike  & 2024-08-10 12:26:48 & 2024-08-10 13:15:47 & Ravenswood Ave \\& Irving Park Rd & Ravenswood Ave \\& Irving Park Rd & member & 48.9737833 mins & 2024-08-10 & Saturday  & August & 10 & 2024 & 12:26:48.634 & 12 & Summer & Afternoon\\\\\n\t electric\\_bike & 2024-08-10 11:59:32 & 2024-08-10 12:16:59 & Lincoln Ave \\& Addison St        & St. Louis Ave \\& Fullerton Ave   & member & 17.4444667 mins & 2024-08-10 & Saturday  & August & 10 & 2024 & 11:59:32.478 & 11 & Summer & Morning  \\\\\n\t classic\\_bike  & 2024-08-26 08:38:52 & 2024-08-26 09:03:13 & Indiana Ave \\& 26th St           & Rush St \\& Hubbard St            & member & 24.3478333 mins & 2024-08-26 & Monday    & August & 26 & 2024 & 08:38:52.938 &  8 & Summer & Morning  \\\\\n\t classic\\_bike  & 2024-08-20 08:21:06 & 2024-08-20 08:23:17 & Michigan Ave \\& Jackson Blvd     & Millennium Park                 & member &  2.1948667 mins & 2024-08-20 & Tuesday   & August & 20 & 2024 & 08:21:06.237 &  8 & Summer & Morning  \\\\\n\t classic\\_bike  & 2024-08-08 11:57:03 & 2024-08-08 11:59:33 & Michigan Ave \\& Jackson Blvd     & Millennium Park                 & member &  2.5047833 mins & 2024-08-08 & Thursday  & August & 08 & 2024 & 11:57:03.473 & 11 & Summer & Morning  \\\\\n\t electric\\_bike & 2024-08-22 21:32:43 & 2024-08-22 21:45:40 & Damen Ave \\& Cortland St         & Milwaukee Ave \\& Grand Ave       & member & 12.9470333 mins & 2024-08-22 & Thursday  & August & 22 & 2024 & 21:32:43.684 & 21 & Summer & Evening  \\\\\n\t electric\\_bike & 2024-08-14 06:37:20 & 2024-08-14 06:43:56 & Clark St \\& Elm St               & Larrabee St \\& Kingsbury St      & member &  6.6036667 mins & 2024-08-14 & Wednesday & August & 14 & 2024 & 06:37:20.526 &  6 & Summer & Morning  \\\\\n\t electric\\_bike & 2024-08-12 08:20:22 & 2024-08-12 08:32:10 & Clark St \\& Schreiber Ave        & Clark St \\& Schreiber Ave        & member & 11.8023667 mins & 2024-08-12 & Monday    & August & 12 & 2024 & 08:20:22.197 &  8 & Summer & Morning  \\\\\n\t electric\\_bike & 2024-08-25 16:42:57 & 2024-08-25 16:56:15 & Franklin St \\& Monroe St         & Morgan St \\& 18th St             & member & 13.3040167 mins & 2024-08-25 & Sunday    & August & 25 & 2024 & 16:42:57.710 & 16 & Summer & Afternoon\\\\\n\t classic\\_bike  & 2024-08-29 18:46:30 & 2024-08-29 18:55:16 & Damen Ave \\& Cortland St         & Albany Ave \\& Bloomingdale Ave   & member &  8.7632000 mins & 2024-08-29 & Thursday  & August & 29 & 2024 & 18:46:30.722 & 18 & Summer & Evening  \\\\\n\t electric\\_bike & 2024-08-05 14:21:50 & 2024-08-05 14:24:50 & Franklin St \\& Monroe St         & Franklin St \\& Lake St           & member &  3.0118500 mins & 2024-08-05 & Monday    & August & 05 & 2024 & 14:21:50.074 & 14 & Summer & Afternoon\\\\\n\t classic\\_bike  & 2024-08-02 22:01:01 & 2024-08-02 22:21:08 & State St \\& Randolph St          & Morgan St \\& Polk St             & member & 20.1105167 mins & 2024-08-02 & Friday    & August & 02 & 2024 & 22:01:01.410 & 22 & Summer & Evening  \\\\\n\t classic\\_bike  & 2024-08-29 12:36:36 & 2024-08-29 12:43:10 & State St \\& Randolph St          & Franklin St \\& Lake St           & member &  6.5624500 mins & 2024-08-29 & Thursday  & August & 29 & 2024 & 12:36:36.356 & 12 & Summer & Afternoon\\\\\n\t classic\\_bike  & 2024-08-29 08:07:02 & 2024-08-29 08:10:20 & Franklin St \\& Monroe St         & Franklin St \\& Lake St           & member &  3.2995000 mins & 2024-08-29 & Thursday  & August & 29 & 2024 & 08:07:02.925 &  8 & Summer & Morning  \\\\\n\t ⋮ & ⋮ & ⋮ & ⋮ & ⋮ & ⋮ & ⋮ & ⋮ & ⋮ & ⋮ & ⋮ & ⋮ & ⋮ & ⋮ & ⋮ & ⋮\\\\\n\t electric\\_bike & 2024-07-20 20:42:10 & 2024-07-20 21:12:46 & Clark St \\& Newport St            & Ashland Ave \\& Blackhawk St        & casual & 30.592300 mins & 2024-07-20 & Saturday  & July & 20 & 2024 & 20:42:10.533 & 20 & Summer & Evening  \\\\\n\t electric\\_bike & 2024-07-20 20:43:42 & 2024-07-20 21:12:01 & Clark St \\& Newport St            & Ashland Ave \\& Blackhawk St        & casual & 28.323133 mins & 2024-07-20 & Saturday  & July & 20 & 2024 & 20:43:42.456 & 20 & Summer & Evening  \\\\\n\t classic\\_bike  & 2024-07-20 10:34:50 & 2024-07-20 11:06:48 & Dearborn St \\& Van Buren St       & DuSable Lake Shore Dr \\& Monroe St & casual & 31.972600 mins & 2024-07-20 & Saturday  & July & 20 & 2024 & 10:34:50.475 & 10 & Summer & Morning  \\\\\n\t classic\\_bike  & 2024-07-26 17:07:39 & 2024-07-26 17:39:08 & Clark St \\& Newport St            & DuSable Lake Shore Dr \\& Monroe St & member & 31.476717 mins & 2024-07-26 & Friday    & July & 26 & 2024 & 17:07:39.967 & 17 & Summer & Afternoon\\\\\n\t classic\\_bike  & 2024-07-08 17:10:10 & 2024-07-08 17:50:11 & Damen Ave \\& Melrose Ave          & Loomis St \\& Archer Ave            & member & 40.016917 mins & 2024-07-08 & Monday    & July & 08 & 2024 & 17:10:10.572 & 17 & Summer & Afternoon\\\\\n\t electric\\_bike & 2024-07-05 13:46:04 & 2024-07-05 13:57:57 & Clark St \\& Newport St            & Southport Ave \\& Clark St          & casual & 11.871783 mins & 2024-07-05 & Friday    & July & 05 & 2024 & 13:46:04.812 & 13 & Summer & Afternoon\\\\\n\t electric\\_bike & 2024-07-02 13:09:26 & 2024-07-02 13:27:27 & Francisco Ave \\& Bloomingdale Ave & Clinton St \\& Madison St           & member & 18.002450 mins & 2024-07-02 & Tuesday   & July & 02 & 2024 & 13:09:26.909 & 13 & Summer & Afternoon\\\\\n\t classic\\_bike  & 2024-07-20 10:34:44 & 2024-07-20 11:06:32 & Dearborn St \\& Van Buren St       & DuSable Lake Shore Dr \\& Monroe St & casual & 31.805200 mins & 2024-07-20 & Saturday  & July & 20 & 2024 & 10:34:44.339 & 10 & Summer & Morning  \\\\\n\t classic\\_bike  & 2024-07-20 01:20:15 & 2024-07-20 01:27:04 & Dearborn St \\& Van Buren St       & Clinton St \\& Madison St           & casual &  6.816550 mins & 2024-07-20 & Saturday  & July & 20 & 2024 & 01:20:15.570 &  1 & Summer & Night    \\\\\n\t classic\\_bike  & 2024-07-20 01:31:49 & 2024-07-20 01:38:02 & Clark St \\& Newport St            & Southport Ave \\& Clark St          & casual &  6.216817 mins & 2024-07-20 & Saturday  & July & 20 & 2024 & 01:31:49.506 &  1 & Summer & Night    \\\\\n\t electric\\_bike & 2024-07-05 13:51:18 & 2024-07-05 13:59:00 & Clark St \\& Newport St            & Southport Ave \\& Clark St          & casual &  7.696183 mins & 2024-07-05 & Friday    & July & 05 & 2024 & 13:51:18.355 & 13 & Summer & Afternoon\\\\\n\t electric\\_bike & 2024-07-27 23:13:04 & 2024-07-28 00:24:10 & Francisco Ave \\& Bloomingdale Ave & Loomis St \\& Archer Ave            & casual & 71.100933 mins & 2024-07-27 & Saturday  & July & 27 & 2024 & 23:13:04.175 & 23 & Summer & Evening  \\\\\n\t electric\\_bike & 2024-07-30 16:20:40 & 2024-07-30 17:11:02 & Francisco Ave \\& Bloomingdale Ave & Clinton St \\& Madison St           & casual & 50.371300 mins & 2024-07-30 & Tuesday   & July & 30 & 2024 & 16:20:40.211 & 16 & Summer & Afternoon\\\\\n\t classic\\_bike  & 2024-07-29 18:41:27 & 2024-07-29 18:59:59 & Shields Ave \\& 43rd St            & Wentworth Ave \\& 33rd St           & member & 18.543717 mins & 2024-07-29 & Monday    & July & 29 & 2024 & 18:41:27.016 & 18 & Summer & Evening  \\\\\n\t electric\\_bike & 2024-07-28 22:09:18 & 2024-07-28 22:17:59 & Clark St \\& Newport St            & Southport Ave \\& Clark St          & casual &  8.681733 mins & 2024-07-28 & Sunday    & July & 28 & 2024 & 22:09:18.192 & 22 & Summer & Evening  \\\\\n\t electric\\_bike & 2024-07-02 21:48:24 & 2024-07-02 22:13:39 & Clark St \\& Newport St            & Ashland Ave \\& Blackhawk St        & casual & 25.256033 mins & 2024-07-02 & Tuesday   & July & 02 & 2024 & 21:48:24.453 & 21 & Summer & Evening  \\\\\n\t electric\\_bike & 2024-07-28 12:42:58 & 2024-07-28 13:20:44 & Dearborn St \\& Van Buren St       & Shore Dr \\& 55th St                & casual & 37.769483 mins & 2024-07-28 & Sunday    & July & 28 & 2024 & 12:42:58.706 & 12 & Summer & Afternoon\\\\\n\t electric\\_bike & 2024-07-28 00:10:39 & 2024-07-28 00:17:51 & Clark St \\& Newport St            & Southport Ave \\& Clark St          & casual &  7.204383 mins & 2024-07-28 & Sunday    & July & 28 & 2024 & 00:10:39.233 &  0 & Summer & Night    \\\\\n\t classic\\_bike  & 2024-07-01 15:56:06 & 2024-07-01 17:01:05 & Dearborn St \\& Van Buren St       & Shore Dr \\& 55th St                & casual & 64.976517 mins & 2024-07-01 & Monday    & July & 01 & 2024 & 15:56:06.972 & 15 & Summer & Afternoon\\\\\n\t electric\\_bike & 2024-07-20 20:43:03 & 2024-07-20 21:12:32 & Clark St \\& Newport St            & Ashland Ave \\& Blackhawk St        & casual & 29.494667 mins & 2024-07-20 & Saturday  & July & 20 & 2024 & 20:43:03.266 & 20 & Summer & Evening  \\\\\n\t electric\\_bike & 2024-07-28 22:09:25 & 2024-07-28 22:17:54 & Clark St \\& Newport St            & Southport Ave \\& Clark St          & casual &  8.479750 mins & 2024-07-28 & Sunday    & July & 28 & 2024 & 22:09:25.399 & 22 & Summer & Evening  \\\\\n\t electric\\_bike & 2024-07-13 14:05:05 & 2024-07-13 14:11:40 & Dearborn St \\& Van Buren St       & DuSable Lake Shore Dr \\& Monroe St & casual &  6.574867 mins & 2024-07-13 & Saturday  & July & 13 & 2024 & 14:05:05.904 & 14 & Summer & Afternoon\\\\\n\t electric\\_bike & 2024-07-12 13:19:34 & 2024-07-12 13:25:11 & Dearborn St \\& Van Buren St       & Clinton St \\& Madison St           & member &  5.618350 mins & 2024-07-12 & Friday    & July & 12 & 2024 & 13:19:34.264 & 13 & Summer & Afternoon\\\\\n\t classic\\_bike  & 2024-07-30 22:29:48 & 2024-07-30 22:39:41 & Dearborn St \\& Van Buren St       & Clinton St \\& Madison St           & casual &  9.892233 mins & 2024-07-30 & Tuesday   & July & 30 & 2024 & 22:29:48.240 & 22 & Summer & Evening  \\\\\n\t classic\\_bike  & 2024-07-19 13:55:48 & 2024-07-19 14:04:17 & Dearborn St \\& Van Buren St       & DuSable Lake Shore Dr \\& Monroe St & casual &  8.479567 mins & 2024-07-19 & Friday    & July & 19 & 2024 & 13:55:48.642 & 13 & Summer & Afternoon\\\\\n\t classic\\_bike  & 2024-07-26 15:05:14 & 2024-07-26 15:14:31 & Clark St \\& Newport St            & Southport Ave \\& Clark St          & casual &  9.280800 mins & 2024-07-26 & Friday    & July & 26 & 2024 & 15:05:14.866 & 15 & Summer & Afternoon\\\\\n\t electric\\_bike & 2024-07-06 15:58:16 & 2024-07-06 16:07:22 & Clark St \\& Newport St            & Southport Ave \\& Clark St          & casual &  9.099350 mins & 2024-07-06 & Saturday  & July & 06 & 2024 & 15:58:16.058 & 15 & Summer & Afternoon\\\\\n\t classic\\_bike  & 2024-07-03 17:11:45 & 2024-07-03 17:57:09 & Dearborn St \\& Van Buren St       & Cornell Ave \\& Hyde Park Blvd      & casual & 45.393467 mins & 2024-07-03 & Wednesday & July & 03 & 2024 & 17:11:45.420 & 17 & Summer & Afternoon\\\\\n\t classic\\_bike  & 2024-07-03 17:09:13 & 2024-07-03 17:17:50 & Dearborn St \\& Van Buren St       & Clinton St \\& Madison St           & member &  8.608167 mins & 2024-07-03 & Wednesday & July & 03 & 2024 & 17:09:13.869 & 17 & Summer & Afternoon\\\\\n\t classic\\_bike  & 2024-07-18 13:36:41 & 2024-07-18 13:43:55 & Dearborn St \\& Van Buren St       & Clinton St \\& Madison St           & member &  7.230800 mins & 2024-07-18 & Thursday  & July & 18 & 2024 & 13:36:41.487 & 13 & Summer & Afternoon\\\\\n\\end{tabular}\n"
          },
          "metadata": {}
        }
      ]
    },
    {
      "cell_type": "code",
      "source": [
        "#total number of rides\n",
        "nrow(cyclistic_date)"
      ],
      "metadata": {
        "colab": {
          "base_uri": "https://localhost:8080/",
          "height": 34
        },
        "id": "jufJVWKB_JG1",
        "outputId": "359a0685-8225-41a7-8e6b-7687caddf43f"
      },
      "execution_count": 100,
      "outputs": [
        {
          "output_type": "display_data",
          "data": {
            "text/html": [
              "3806844"
            ],
            "text/markdown": "3806844",
            "text/latex": "3806844",
            "text/plain": [
              "[1] 3806844"
            ]
          },
          "metadata": {}
        }
      ]
    },
    {
      "cell_type": "code",
      "source": [
        "#-----------------MEMBER TYPE---------------------\n",
        "cyclistic_date %>%\n",
        "  group_by(member_casual) %>%\n",
        "  count(member_casual)\n"
      ],
      "metadata": {
        "colab": {
          "base_uri": "https://localhost:8080/",
          "height": 161
        },
        "id": "fjYWBpvc_W9X",
        "outputId": "94b1f489-30ea-4c3c-eb18-cbc61e750d24"
      },
      "execution_count": 101,
      "outputs": [
        {
          "output_type": "display_data",
          "data": {
            "text/html": [
              "<table class=\"dataframe\">\n",
              "<caption>A grouped_df: 2 × 2</caption>\n",
              "<thead>\n",
              "\t<tr><th scope=col>member_casual</th><th scope=col>n</th></tr>\n",
              "\t<tr><th scope=col>&lt;chr&gt;</th><th scope=col>&lt;int&gt;</th></tr>\n",
              "</thead>\n",
              "<tbody>\n",
              "\t<tr><td>casual</td><td>1437333</td></tr>\n",
              "\t<tr><td>member</td><td>2369511</td></tr>\n",
              "</tbody>\n",
              "</table>\n"
            ],
            "text/markdown": "\nA grouped_df: 2 × 2\n\n| member_casual &lt;chr&gt; | n &lt;int&gt; |\n|---|---|\n| casual | 1437333 |\n| member | 2369511 |\n\n",
            "text/latex": "A grouped\\_df: 2 × 2\n\\begin{tabular}{ll}\n member\\_casual & n\\\\\n <chr> & <int>\\\\\n\\hline\n\t casual & 1437333\\\\\n\t member & 2369511\\\\\n\\end{tabular}\n",
            "text/plain": [
              "  member_casual n      \n",
              "1 casual        1437333\n",
              "2 member        2369511"
            ]
          },
          "metadata": {}
        }
      ]
    },
    {
      "cell_type": "code",
      "source": [
        "#----------------TYPE OF BIKE---------------------\n",
        "\n",
        "#total rides by member type\n",
        "cyclistic_date %>%\n",
        "  group_by(member_casual, rideable_type) %>%\n",
        "  count(rideable_type)\n"
      ],
      "metadata": {
        "colab": {
          "base_uri": "https://localhost:8080/",
          "height": 318
        },
        "id": "swh2cPlM_bx5",
        "outputId": "1c58c711-1a0e-46ca-b91d-f9a6dba6f95d"
      },
      "execution_count": 102,
      "outputs": [
        {
          "output_type": "display_data",
          "data": {
            "text/html": [
              "<table class=\"dataframe\">\n",
              "<caption>A grouped_df: 7 × 3</caption>\n",
              "<thead>\n",
              "\t<tr><th scope=col>member_casual</th><th scope=col>rideable_type</th><th scope=col>n</th></tr>\n",
              "\t<tr><th scope=col>&lt;chr&gt;</th><th scope=col>&lt;chr&gt;</th><th scope=col>&lt;int&gt;</th></tr>\n",
              "</thead>\n",
              "<tbody>\n",
              "\t<tr><td>casual</td><td>classic_bike    </td><td> 923032</td></tr>\n",
              "\t<tr><td>casual</td><td>docked_bike     </td><td>  15651</td></tr>\n",
              "\t<tr><td>casual</td><td>electric_bike   </td><td> 472910</td></tr>\n",
              "\t<tr><td>casual</td><td>electric_scooter</td><td>  25740</td></tr>\n",
              "\t<tr><td>member</td><td>classic_bike    </td><td>1590798</td></tr>\n",
              "\t<tr><td>member</td><td>electric_bike   </td><td> 756626</td></tr>\n",
              "\t<tr><td>member</td><td>electric_scooter</td><td>  22087</td></tr>\n",
              "</tbody>\n",
              "</table>\n"
            ],
            "text/markdown": "\nA grouped_df: 7 × 3\n\n| member_casual &lt;chr&gt; | rideable_type &lt;chr&gt; | n &lt;int&gt; |\n|---|---|---|\n| casual | classic_bike     |  923032 |\n| casual | docked_bike      |   15651 |\n| casual | electric_bike    |  472910 |\n| casual | electric_scooter |   25740 |\n| member | classic_bike     | 1590798 |\n| member | electric_bike    |  756626 |\n| member | electric_scooter |   22087 |\n\n",
            "text/latex": "A grouped\\_df: 7 × 3\n\\begin{tabular}{lll}\n member\\_casual & rideable\\_type & n\\\\\n <chr> & <chr> & <int>\\\\\n\\hline\n\t casual & classic\\_bike     &  923032\\\\\n\t casual & docked\\_bike      &   15651\\\\\n\t casual & electric\\_bike    &  472910\\\\\n\t casual & electric\\_scooter &   25740\\\\\n\t member & classic\\_bike     & 1590798\\\\\n\t member & electric\\_bike    &  756626\\\\\n\t member & electric\\_scooter &   22087\\\\\n\\end{tabular}\n",
            "text/plain": [
              "  member_casual rideable_type    n      \n",
              "1 casual        classic_bike      923032\n",
              "2 casual        docked_bike        15651\n",
              "3 casual        electric_bike     472910\n",
              "4 casual        electric_scooter   25740\n",
              "5 member        classic_bike     1590798\n",
              "6 member        electric_bike     756626\n",
              "7 member        electric_scooter   22087"
            ]
          },
          "metadata": {}
        }
      ]
    },
    {
      "cell_type": "code",
      "source": [
        "#total rides\n",
        "cyclistic_date %>%\n",
        "  group_by(rideable_type) %>%\n",
        "  count(rideable_type)"
      ],
      "metadata": {
        "colab": {
          "base_uri": "https://localhost:8080/",
          "height": 224
        },
        "id": "OK-C8gLn_hOs",
        "outputId": "2e489609-e125-4245-c66e-d09bdf24731b"
      },
      "execution_count": 103,
      "outputs": [
        {
          "output_type": "display_data",
          "data": {
            "text/html": [
              "<table class=\"dataframe\">\n",
              "<caption>A grouped_df: 4 × 2</caption>\n",
              "<thead>\n",
              "\t<tr><th scope=col>rideable_type</th><th scope=col>n</th></tr>\n",
              "\t<tr><th scope=col>&lt;chr&gt;</th><th scope=col>&lt;int&gt;</th></tr>\n",
              "</thead>\n",
              "<tbody>\n",
              "\t<tr><td>classic_bike    </td><td>2513830</td></tr>\n",
              "\t<tr><td>docked_bike     </td><td>  15651</td></tr>\n",
              "\t<tr><td>electric_bike   </td><td>1229536</td></tr>\n",
              "\t<tr><td>electric_scooter</td><td>  47827</td></tr>\n",
              "</tbody>\n",
              "</table>\n"
            ],
            "text/markdown": "\nA grouped_df: 4 × 2\n\n| rideable_type &lt;chr&gt; | n &lt;int&gt; |\n|---|---|\n| classic_bike     | 2513830 |\n| docked_bike      |   15651 |\n| electric_bike    | 1229536 |\n| electric_scooter |   47827 |\n\n",
            "text/latex": "A grouped\\_df: 4 × 2\n\\begin{tabular}{ll}\n rideable\\_type & n\\\\\n <chr> & <int>\\\\\n\\hline\n\t classic\\_bike     & 2513830\\\\\n\t docked\\_bike      &   15651\\\\\n\t electric\\_bike    & 1229536\\\\\n\t electric\\_scooter &   47827\\\\\n\\end{tabular}\n",
            "text/plain": [
              "  rideable_type    n      \n",
              "1 classic_bike     2513830\n",
              "2 docked_bike        15651\n",
              "3 electric_bike    1229536\n",
              "4 electric_scooter   47827"
            ]
          },
          "metadata": {}
        }
      ]
    },
    {
      "cell_type": "code",
      "source": [
        "#-------------------HOUR--------------------------\n",
        "\n",
        "#total rides by member type\n",
        "cyclistic_date %>%\n",
        "  group_by(member_casual) %>%\n",
        "  count(hour) %>%\n",
        "  print(n = 48) #lets you view the entire tibble"
      ],
      "metadata": {
        "colab": {
          "base_uri": "https://localhost:8080/"
        },
        "id": "F2Y-sw8X_mHb",
        "outputId": "32fe1639-457c-4f1e-bbcc-a7eef75496be"
      },
      "execution_count": 104,
      "outputs": [
        {
          "output_type": "stream",
          "name": "stdout",
          "text": [
            "\u001b[90m# A tibble: 48 × 3\u001b[39m\n",
            "\u001b[90m# Groups:   member_casual [2]\u001b[39m\n",
            "   member_casual  hour      n\n",
            "   \u001b[3m\u001b[90m<chr>\u001b[39m\u001b[23m         \u001b[3m\u001b[90m<int>\u001b[39m\u001b[23m  \u001b[3m\u001b[90m<int>\u001b[39m\u001b[23m\n",
            "\u001b[90m 1\u001b[39m casual            0  \u001b[4m2\u001b[24m\u001b[4m0\u001b[24m908\n",
            "\u001b[90m 2\u001b[39m casual            1  \u001b[4m1\u001b[24m\u001b[4m3\u001b[24m713\n",
            "\u001b[90m 3\u001b[39m casual            2   \u001b[4m7\u001b[24m897\n",
            "\u001b[90m 4\u001b[39m casual            3   \u001b[4m4\u001b[24m263\n",
            "\u001b[90m 5\u001b[39m casual            4   \u001b[4m3\u001b[24m336\n",
            "\u001b[90m 6\u001b[39m casual            5   \u001b[4m7\u001b[24m487\n",
            "\u001b[90m 7\u001b[39m casual            6  \u001b[4m1\u001b[24m\u001b[4m8\u001b[24m244\n",
            "\u001b[90m 8\u001b[39m casual            7  \u001b[4m3\u001b[24m\u001b[4m4\u001b[24m842\n",
            "\u001b[90m 9\u001b[39m casual            8  \u001b[4m4\u001b[24m\u001b[4m8\u001b[24m719\n",
            "\u001b[90m10\u001b[39m casual            9  \u001b[4m5\u001b[24m\u001b[4m0\u001b[24m442\n",
            "\u001b[90m11\u001b[39m casual           10  \u001b[4m6\u001b[24m\u001b[4m5\u001b[24m350\n",
            "\u001b[90m12\u001b[39m casual           11  \u001b[4m8\u001b[24m\u001b[4m4\u001b[24m159\n",
            "\u001b[90m13\u001b[39m casual           12  \u001b[4m9\u001b[24m\u001b[4m9\u001b[24m119\n",
            "\u001b[90m14\u001b[39m casual           13 \u001b[4m1\u001b[24m\u001b[4m0\u001b[24m\u001b[4m3\u001b[24m145\n",
            "\u001b[90m15\u001b[39m casual           14 \u001b[4m1\u001b[24m\u001b[4m0\u001b[24m\u001b[4m6\u001b[24m573\n",
            "\u001b[90m16\u001b[39m casual           15 \u001b[4m1\u001b[24m\u001b[4m1\u001b[24m\u001b[4m6\u001b[24m140\n",
            "\u001b[90m17\u001b[39m casual           16 \u001b[4m1\u001b[24m\u001b[4m3\u001b[24m\u001b[4m1\u001b[24m765\n",
            "\u001b[90m18\u001b[39m casual           17 \u001b[4m1\u001b[24m\u001b[4m4\u001b[24m\u001b[4m1\u001b[24m160\n",
            "\u001b[90m19\u001b[39m casual           18 \u001b[4m1\u001b[24m\u001b[4m1\u001b[24m\u001b[4m6\u001b[24m521\n",
            "\u001b[90m20\u001b[39m casual           19  \u001b[4m8\u001b[24m\u001b[4m3\u001b[24m680\n",
            "\u001b[90m21\u001b[39m casual           20  \u001b[4m6\u001b[24m\u001b[4m0\u001b[24m136\n",
            "\u001b[90m22\u001b[39m casual           21  \u001b[4m4\u001b[24m\u001b[4m8\u001b[24m241\n",
            "\u001b[90m23\u001b[39m casual           22  \u001b[4m4\u001b[24m\u001b[4m2\u001b[24m409\n",
            "\u001b[90m24\u001b[39m casual           23  \u001b[4m2\u001b[24m\u001b[4m9\u001b[24m084\n",
            "\u001b[90m25\u001b[39m member            0  \u001b[4m1\u001b[24m\u001b[4m7\u001b[24m100\n",
            "\u001b[90m26\u001b[39m member            1   \u001b[4m9\u001b[24m998\n",
            "\u001b[90m27\u001b[39m member            2   \u001b[4m5\u001b[24m284\n",
            "\u001b[90m28\u001b[39m member            3   \u001b[4m3\u001b[24m591\n",
            "\u001b[90m29\u001b[39m member            4   \u001b[4m4\u001b[24m716\n",
            "\u001b[90m30\u001b[39m member            5  \u001b[4m2\u001b[24m\u001b[4m2\u001b[24m802\n",
            "\u001b[90m31\u001b[39m member            6  \u001b[4m7\u001b[24m\u001b[4m0\u001b[24m616\n",
            "\u001b[90m32\u001b[39m member            7 \u001b[4m1\u001b[24m\u001b[4m3\u001b[24m\u001b[4m5\u001b[24m958\n",
            "\u001b[90m33\u001b[39m member            8 \u001b[4m1\u001b[24m\u001b[4m6\u001b[24m\u001b[4m5\u001b[24m430\n",
            "\u001b[90m34\u001b[39m member            9 \u001b[4m1\u001b[24m\u001b[4m0\u001b[24m\u001b[4m9\u001b[24m467\n",
            "\u001b[90m35\u001b[39m member           10  \u001b[4m9\u001b[24m\u001b[4m7\u001b[24m085\n",
            "\u001b[90m36\u001b[39m member           11 \u001b[4m1\u001b[24m\u001b[4m1\u001b[24m\u001b[4m3\u001b[24m876\n",
            "\u001b[90m37\u001b[39m member           12 \u001b[4m1\u001b[24m\u001b[4m3\u001b[24m\u001b[4m1\u001b[24m201\n",
            "\u001b[90m38\u001b[39m member           13 \u001b[4m1\u001b[24m\u001b[4m3\u001b[24m\u001b[4m0\u001b[24m378\n",
            "\u001b[90m39\u001b[39m member           14 \u001b[4m1\u001b[24m\u001b[4m3\u001b[24m\u001b[4m0\u001b[24m390\n",
            "\u001b[90m40\u001b[39m member           15 \u001b[4m1\u001b[24m\u001b[4m6\u001b[24m\u001b[4m0\u001b[24m094\n",
            "\u001b[90m41\u001b[39m member           16 \u001b[4m2\u001b[24m\u001b[4m2\u001b[24m\u001b[4m3\u001b[24m825\n",
            "\u001b[90m42\u001b[39m member           17 \u001b[4m2\u001b[24m\u001b[4m6\u001b[24m\u001b[4m1\u001b[24m993\n",
            "\u001b[90m43\u001b[39m member           18 \u001b[4m1\u001b[24m\u001b[4m9\u001b[24m\u001b[4m7\u001b[24m830\n",
            "\u001b[90m44\u001b[39m member           19 \u001b[4m1\u001b[24m\u001b[4m3\u001b[24m\u001b[4m7\u001b[24m284\n",
            "\u001b[90m45\u001b[39m member           20  \u001b[4m9\u001b[24m\u001b[4m4\u001b[24m072\n",
            "\u001b[90m46\u001b[39m member           21  \u001b[4m6\u001b[24m\u001b[4m9\u001b[24m342\n",
            "\u001b[90m47\u001b[39m member           22  \u001b[4m4\u001b[24m\u001b[4m7\u001b[24m973\n",
            "\u001b[90m48\u001b[39m member           23  \u001b[4m2\u001b[24m\u001b[4m9\u001b[24m206\n"
          ]
        }
      ]
    },
    {
      "cell_type": "code",
      "source": [
        "#total rides\n",
        "cyclistic_date %>%\n",
        "  count(hour) %>%\n",
        "  print(n = 24) #lets you view the entire tibble\n"
      ],
      "metadata": {
        "colab": {
          "base_uri": "https://localhost:8080/"
        },
        "id": "r1I6sXCz_s5X",
        "outputId": "2781628a-75cc-4b1b-8fbe-1b9adbee481a"
      },
      "execution_count": 105,
      "outputs": [
        {
          "output_type": "stream",
          "name": "stdout",
          "text": [
            "\u001b[90m# A tibble: 24 × 2\u001b[39m\n",
            "    hour      n\n",
            "   \u001b[3m\u001b[90m<int>\u001b[39m\u001b[23m  \u001b[3m\u001b[90m<int>\u001b[39m\u001b[23m\n",
            "\u001b[90m 1\u001b[39m     0  \u001b[4m3\u001b[24m\u001b[4m8\u001b[24m008\n",
            "\u001b[90m 2\u001b[39m     1  \u001b[4m2\u001b[24m\u001b[4m3\u001b[24m711\n",
            "\u001b[90m 3\u001b[39m     2  \u001b[4m1\u001b[24m\u001b[4m3\u001b[24m181\n",
            "\u001b[90m 4\u001b[39m     3   \u001b[4m7\u001b[24m854\n",
            "\u001b[90m 5\u001b[39m     4   \u001b[4m8\u001b[24m052\n",
            "\u001b[90m 6\u001b[39m     5  \u001b[4m3\u001b[24m\u001b[4m0\u001b[24m289\n",
            "\u001b[90m 7\u001b[39m     6  \u001b[4m8\u001b[24m\u001b[4m8\u001b[24m860\n",
            "\u001b[90m 8\u001b[39m     7 \u001b[4m1\u001b[24m\u001b[4m7\u001b[24m\u001b[4m0\u001b[24m800\n",
            "\u001b[90m 9\u001b[39m     8 \u001b[4m2\u001b[24m\u001b[4m1\u001b[24m\u001b[4m4\u001b[24m149\n",
            "\u001b[90m10\u001b[39m     9 \u001b[4m1\u001b[24m\u001b[4m5\u001b[24m\u001b[4m9\u001b[24m909\n",
            "\u001b[90m11\u001b[39m    10 \u001b[4m1\u001b[24m\u001b[4m6\u001b[24m\u001b[4m2\u001b[24m435\n",
            "\u001b[90m12\u001b[39m    11 \u001b[4m1\u001b[24m\u001b[4m9\u001b[24m\u001b[4m8\u001b[24m035\n",
            "\u001b[90m13\u001b[39m    12 \u001b[4m2\u001b[24m\u001b[4m3\u001b[24m\u001b[4m0\u001b[24m320\n",
            "\u001b[90m14\u001b[39m    13 \u001b[4m2\u001b[24m\u001b[4m3\u001b[24m\u001b[4m3\u001b[24m523\n",
            "\u001b[90m15\u001b[39m    14 \u001b[4m2\u001b[24m\u001b[4m3\u001b[24m\u001b[4m6\u001b[24m963\n",
            "\u001b[90m16\u001b[39m    15 \u001b[4m2\u001b[24m\u001b[4m7\u001b[24m\u001b[4m6\u001b[24m234\n",
            "\u001b[90m17\u001b[39m    16 \u001b[4m3\u001b[24m\u001b[4m5\u001b[24m\u001b[4m5\u001b[24m590\n",
            "\u001b[90m18\u001b[39m    17 \u001b[4m4\u001b[24m\u001b[4m0\u001b[24m\u001b[4m3\u001b[24m153\n",
            "\u001b[90m19\u001b[39m    18 \u001b[4m3\u001b[24m\u001b[4m1\u001b[24m\u001b[4m4\u001b[24m351\n",
            "\u001b[90m20\u001b[39m    19 \u001b[4m2\u001b[24m\u001b[4m2\u001b[24m\u001b[4m0\u001b[24m964\n",
            "\u001b[90m21\u001b[39m    20 \u001b[4m1\u001b[24m\u001b[4m5\u001b[24m\u001b[4m4\u001b[24m208\n",
            "\u001b[90m22\u001b[39m    21 \u001b[4m1\u001b[24m\u001b[4m1\u001b[24m\u001b[4m7\u001b[24m583\n",
            "\u001b[90m23\u001b[39m    22  \u001b[4m9\u001b[24m\u001b[4m0\u001b[24m382\n",
            "\u001b[90m24\u001b[39m    23  \u001b[4m5\u001b[24m\u001b[4m8\u001b[24m290\n"
          ]
        }
      ]
    },
    {
      "cell_type": "code",
      "source": [
        "#----------------------TIME OF DAY-----------------------\n",
        "\n",
        "#-----morning-------\n",
        "#total rides by member type\n",
        "cyclistic_date %>%\n",
        "  group_by(member_casual) %>%\n",
        "  filter(time_of_day == \"Morning\") %>%\n",
        "  count(time_of_day)"
      ],
      "metadata": {
        "colab": {
          "base_uri": "https://localhost:8080/",
          "height": 161
        },
        "id": "bokzCIVQ_yzQ",
        "outputId": "d27b2052-ac24-4825-a91c-c0d838ddaf38"
      },
      "execution_count": 106,
      "outputs": [
        {
          "output_type": "display_data",
          "data": {
            "text/html": [
              "<table class=\"dataframe\">\n",
              "<caption>A grouped_df: 2 × 3</caption>\n",
              "<thead>\n",
              "\t<tr><th scope=col>member_casual</th><th scope=col>time_of_day</th><th scope=col>n</th></tr>\n",
              "\t<tr><th scope=col>&lt;chr&gt;</th><th scope=col>&lt;chr&gt;</th><th scope=col>&lt;int&gt;</th></tr>\n",
              "</thead>\n",
              "<tbody>\n",
              "\t<tr><td>casual</td><td>Morning</td><td>301756</td></tr>\n",
              "\t<tr><td>member</td><td>Morning</td><td>692432</td></tr>\n",
              "</tbody>\n",
              "</table>\n"
            ],
            "text/markdown": "\nA grouped_df: 2 × 3\n\n| member_casual &lt;chr&gt; | time_of_day &lt;chr&gt; | n &lt;int&gt; |\n|---|---|---|\n| casual | Morning | 301756 |\n| member | Morning | 692432 |\n\n",
            "text/latex": "A grouped\\_df: 2 × 3\n\\begin{tabular}{lll}\n member\\_casual & time\\_of\\_day & n\\\\\n <chr> & <chr> & <int>\\\\\n\\hline\n\t casual & Morning & 301756\\\\\n\t member & Morning & 692432\\\\\n\\end{tabular}\n",
            "text/plain": [
              "  member_casual time_of_day n     \n",
              "1 casual        Morning     301756\n",
              "2 member        Morning     692432"
            ]
          },
          "metadata": {}
        }
      ]
    },
    {
      "cell_type": "code",
      "source": [
        "#total rides\n",
        "cyclistic_date %>%\n",
        "  filter(time_of_day == \"Morning\") %>%\n",
        "  count(time_of_day)"
      ],
      "metadata": {
        "colab": {
          "base_uri": "https://localhost:8080/",
          "height": 129
        },
        "id": "3kxQ6Tbb_4UX",
        "outputId": "5bb5e262-4ad6-4ebf-9c7e-7d96b3dc3c98"
      },
      "execution_count": 107,
      "outputs": [
        {
          "output_type": "display_data",
          "data": {
            "text/html": [
              "<table class=\"dataframe\">\n",
              "<caption>A tibble: 1 × 2</caption>\n",
              "<thead>\n",
              "\t<tr><th scope=col>time_of_day</th><th scope=col>n</th></tr>\n",
              "\t<tr><th scope=col>&lt;chr&gt;</th><th scope=col>&lt;int&gt;</th></tr>\n",
              "</thead>\n",
              "<tbody>\n",
              "\t<tr><td>Morning</td><td>994188</td></tr>\n",
              "</tbody>\n",
              "</table>\n"
            ],
            "text/markdown": "\nA tibble: 1 × 2\n\n| time_of_day &lt;chr&gt; | n &lt;int&gt; |\n|---|---|\n| Morning | 994188 |\n\n",
            "text/latex": "A tibble: 1 × 2\n\\begin{tabular}{ll}\n time\\_of\\_day & n\\\\\n <chr> & <int>\\\\\n\\hline\n\t Morning & 994188\\\\\n\\end{tabular}\n",
            "text/plain": [
              "  time_of_day n     \n",
              "1 Morning     994188"
            ]
          },
          "metadata": {}
        }
      ]
    },
    {
      "cell_type": "code",
      "source": [
        "#-----afternoon-------\n",
        "#total rides by member type\n",
        "cyclistic_date %>%\n",
        "  group_by(member_casual) %>%\n",
        "  filter(time_of_day == \"Afternoon\") %>%\n",
        "  count(time_of_day)"
      ],
      "metadata": {
        "colab": {
          "base_uri": "https://localhost:8080/",
          "height": 161
        },
        "id": "p0AL5_0B_8oX",
        "outputId": "7480de46-3650-47f3-d3de-92ef571bac59"
      },
      "execution_count": 108,
      "outputs": [
        {
          "output_type": "display_data",
          "data": {
            "text/html": [
              "<table class=\"dataframe\">\n",
              "<caption>A grouped_df: 2 × 3</caption>\n",
              "<thead>\n",
              "\t<tr><th scope=col>member_casual</th><th scope=col>time_of_day</th><th scope=col>n</th></tr>\n",
              "\t<tr><th scope=col>&lt;chr&gt;</th><th scope=col>&lt;chr&gt;</th><th scope=col>&lt;int&gt;</th></tr>\n",
              "</thead>\n",
              "<tbody>\n",
              "\t<tr><td>casual</td><td>Afternoon</td><td> 697902</td></tr>\n",
              "\t<tr><td>member</td><td>Afternoon</td><td>1037881</td></tr>\n",
              "</tbody>\n",
              "</table>\n"
            ],
            "text/markdown": "\nA grouped_df: 2 × 3\n\n| member_casual &lt;chr&gt; | time_of_day &lt;chr&gt; | n &lt;int&gt; |\n|---|---|---|\n| casual | Afternoon |  697902 |\n| member | Afternoon | 1037881 |\n\n",
            "text/latex": "A grouped\\_df: 2 × 3\n\\begin{tabular}{lll}\n member\\_casual & time\\_of\\_day & n\\\\\n <chr> & <chr> & <int>\\\\\n\\hline\n\t casual & Afternoon &  697902\\\\\n\t member & Afternoon & 1037881\\\\\n\\end{tabular}\n",
            "text/plain": [
              "  member_casual time_of_day n      \n",
              "1 casual        Afternoon    697902\n",
              "2 member        Afternoon   1037881"
            ]
          },
          "metadata": {}
        }
      ]
    },
    {
      "cell_type": "code",
      "source": [
        "#total rides\n",
        "cyclistic_date %>%\n",
        "  filter(time_of_day == \"Afternoon\") %>%\n",
        "  count(time_of_day)"
      ],
      "metadata": {
        "colab": {
          "base_uri": "https://localhost:8080/",
          "height": 129
        },
        "id": "muLpiUheABLS",
        "outputId": "0484a750-003c-4652-a9ca-de9e35bfff27"
      },
      "execution_count": 109,
      "outputs": [
        {
          "output_type": "display_data",
          "data": {
            "text/html": [
              "<table class=\"dataframe\">\n",
              "<caption>A tibble: 1 × 2</caption>\n",
              "<thead>\n",
              "\t<tr><th scope=col>time_of_day</th><th scope=col>n</th></tr>\n",
              "\t<tr><th scope=col>&lt;chr&gt;</th><th scope=col>&lt;int&gt;</th></tr>\n",
              "</thead>\n",
              "<tbody>\n",
              "\t<tr><td>Afternoon</td><td>1735783</td></tr>\n",
              "</tbody>\n",
              "</table>\n"
            ],
            "text/markdown": "\nA tibble: 1 × 2\n\n| time_of_day &lt;chr&gt; | n &lt;int&gt; |\n|---|---|\n| Afternoon | 1735783 |\n\n",
            "text/latex": "A tibble: 1 × 2\n\\begin{tabular}{ll}\n time\\_of\\_day & n\\\\\n <chr> & <int>\\\\\n\\hline\n\t Afternoon & 1735783\\\\\n\\end{tabular}\n",
            "text/plain": [
              "  time_of_day n      \n",
              "1 Afternoon   1735783"
            ]
          },
          "metadata": {}
        }
      ]
    },
    {
      "cell_type": "code",
      "source": [
        "#-----evening-------\n",
        "#total rides by member type\n",
        "cyclistic_date %>%\n",
        "  group_by(member_casual) %>%\n",
        "  filter(time_of_day == \"Evening\") %>%\n",
        "  count(time_of_day)"
      ],
      "metadata": {
        "colab": {
          "base_uri": "https://localhost:8080/",
          "height": 161
        },
        "id": "VyGk02BEAGed",
        "outputId": "29146c43-feaa-4bc2-f11c-2f28bf703831"
      },
      "execution_count": 110,
      "outputs": [
        {
          "output_type": "display_data",
          "data": {
            "text/html": [
              "<table class=\"dataframe\">\n",
              "<caption>A grouped_df: 2 × 3</caption>\n",
              "<thead>\n",
              "\t<tr><th scope=col>member_casual</th><th scope=col>time_of_day</th><th scope=col>n</th></tr>\n",
              "\t<tr><th scope=col>&lt;chr&gt;</th><th scope=col>&lt;chr&gt;</th><th scope=col>&lt;int&gt;</th></tr>\n",
              "</thead>\n",
              "<tbody>\n",
              "\t<tr><td>casual</td><td>Evening</td><td>380071</td></tr>\n",
              "\t<tr><td>member</td><td>Evening</td><td>575707</td></tr>\n",
              "</tbody>\n",
              "</table>\n"
            ],
            "text/markdown": "\nA grouped_df: 2 × 3\n\n| member_casual &lt;chr&gt; | time_of_day &lt;chr&gt; | n &lt;int&gt; |\n|---|---|---|\n| casual | Evening | 380071 |\n| member | Evening | 575707 |\n\n",
            "text/latex": "A grouped\\_df: 2 × 3\n\\begin{tabular}{lll}\n member\\_casual & time\\_of\\_day & n\\\\\n <chr> & <chr> & <int>\\\\\n\\hline\n\t casual & Evening & 380071\\\\\n\t member & Evening & 575707\\\\\n\\end{tabular}\n",
            "text/plain": [
              "  member_casual time_of_day n     \n",
              "1 casual        Evening     380071\n",
              "2 member        Evening     575707"
            ]
          },
          "metadata": {}
        }
      ]
    },
    {
      "cell_type": "code",
      "source": [
        "#total rides\n",
        "cyclistic_date %>%\n",
        "  filter(time_of_day == \"Evening\") %>%\n",
        "  count(time_of_day)"
      ],
      "metadata": {
        "colab": {
          "base_uri": "https://localhost:8080/",
          "height": 129
        },
        "id": "0TPLS3O-AKoh",
        "outputId": "e099ad18-3cb2-44c9-edd3-a51a8e4b661b"
      },
      "execution_count": 111,
      "outputs": [
        {
          "output_type": "display_data",
          "data": {
            "text/html": [
              "<table class=\"dataframe\">\n",
              "<caption>A tibble: 1 × 2</caption>\n",
              "<thead>\n",
              "\t<tr><th scope=col>time_of_day</th><th scope=col>n</th></tr>\n",
              "\t<tr><th scope=col>&lt;chr&gt;</th><th scope=col>&lt;int&gt;</th></tr>\n",
              "</thead>\n",
              "<tbody>\n",
              "\t<tr><td>Evening</td><td>955778</td></tr>\n",
              "</tbody>\n",
              "</table>\n"
            ],
            "text/markdown": "\nA tibble: 1 × 2\n\n| time_of_day &lt;chr&gt; | n &lt;int&gt; |\n|---|---|\n| Evening | 955778 |\n\n",
            "text/latex": "A tibble: 1 × 2\n\\begin{tabular}{ll}\n time\\_of\\_day & n\\\\\n <chr> & <int>\\\\\n\\hline\n\t Evening & 955778\\\\\n\\end{tabular}\n",
            "text/plain": [
              "  time_of_day n     \n",
              "1 Evening     955778"
            ]
          },
          "metadata": {}
        }
      ]
    },
    {
      "cell_type": "code",
      "source": [
        "#-----night-------\n",
        "#number of rides by member type\n",
        "cyclistic_date %>%\n",
        "  group_by(member_casual) %>%\n",
        "  filter(time_of_day == \"Night\") %>%\n",
        "  count(time_of_day)"
      ],
      "metadata": {
        "colab": {
          "base_uri": "https://localhost:8080/",
          "height": 161
        },
        "id": "GsBgu0rRAPPR",
        "outputId": "3acb4971-aff0-4bdc-d428-34d3b30e9b97"
      },
      "execution_count": 112,
      "outputs": [
        {
          "output_type": "display_data",
          "data": {
            "text/html": [
              "<table class=\"dataframe\">\n",
              "<caption>A grouped_df: 2 × 3</caption>\n",
              "<thead>\n",
              "\t<tr><th scope=col>member_casual</th><th scope=col>time_of_day</th><th scope=col>n</th></tr>\n",
              "\t<tr><th scope=col>&lt;chr&gt;</th><th scope=col>&lt;chr&gt;</th><th scope=col>&lt;int&gt;</th></tr>\n",
              "</thead>\n",
              "<tbody>\n",
              "\t<tr><td>casual</td><td>Night</td><td>57604</td></tr>\n",
              "\t<tr><td>member</td><td>Night</td><td>63491</td></tr>\n",
              "</tbody>\n",
              "</table>\n"
            ],
            "text/markdown": "\nA grouped_df: 2 × 3\n\n| member_casual &lt;chr&gt; | time_of_day &lt;chr&gt; | n &lt;int&gt; |\n|---|---|---|\n| casual | Night | 57604 |\n| member | Night | 63491 |\n\n",
            "text/latex": "A grouped\\_df: 2 × 3\n\\begin{tabular}{lll}\n member\\_casual & time\\_of\\_day & n\\\\\n <chr> & <chr> & <int>\\\\\n\\hline\n\t casual & Night & 57604\\\\\n\t member & Night & 63491\\\\\n\\end{tabular}\n",
            "text/plain": [
              "  member_casual time_of_day n    \n",
              "1 casual        Night       57604\n",
              "2 member        Night       63491"
            ]
          },
          "metadata": {}
        }
      ]
    },
    {
      "cell_type": "code",
      "source": [
        "#number of rides\n",
        "cyclistic_date %>%\n",
        "  filter(time_of_day == \"Night\") %>%\n",
        "  count(time_of_day)"
      ],
      "metadata": {
        "colab": {
          "base_uri": "https://localhost:8080/",
          "height": 129
        },
        "id": "VNcMxbSVAUhZ",
        "outputId": "7543fdfe-cb61-4ede-b93b-096820118c0b"
      },
      "execution_count": 113,
      "outputs": [
        {
          "output_type": "display_data",
          "data": {
            "text/html": [
              "<table class=\"dataframe\">\n",
              "<caption>A tibble: 1 × 2</caption>\n",
              "<thead>\n",
              "\t<tr><th scope=col>time_of_day</th><th scope=col>n</th></tr>\n",
              "\t<tr><th scope=col>&lt;chr&gt;</th><th scope=col>&lt;int&gt;</th></tr>\n",
              "</thead>\n",
              "<tbody>\n",
              "\t<tr><td>Night</td><td>121095</td></tr>\n",
              "</tbody>\n",
              "</table>\n"
            ],
            "text/markdown": "\nA tibble: 1 × 2\n\n| time_of_day &lt;chr&gt; | n &lt;int&gt; |\n|---|---|\n| Night | 121095 |\n\n",
            "text/latex": "A tibble: 1 × 2\n\\begin{tabular}{ll}\n time\\_of\\_day & n\\\\\n <chr> & <int>\\\\\n\\hline\n\t Night & 121095\\\\\n\\end{tabular}\n",
            "text/plain": [
              "  time_of_day n     \n",
              "1 Night       121095"
            ]
          },
          "metadata": {}
        }
      ]
    },
    {
      "cell_type": "code",
      "source": [
        "#---all times of day----\n",
        "#total rides by member type\n",
        "cyclistic_date %>%\n",
        "  group_by(member_casual) %>%\n",
        "  count(time_of_day)"
      ],
      "metadata": {
        "colab": {
          "base_uri": "https://localhost:8080/",
          "height": 349
        },
        "id": "DACudJw0AYkH",
        "outputId": "be429b55-e8eb-4576-c152-41dd289b7843"
      },
      "execution_count": 114,
      "outputs": [
        {
          "output_type": "display_data",
          "data": {
            "text/html": [
              "<table class=\"dataframe\">\n",
              "<caption>A grouped_df: 8 × 3</caption>\n",
              "<thead>\n",
              "\t<tr><th scope=col>member_casual</th><th scope=col>time_of_day</th><th scope=col>n</th></tr>\n",
              "\t<tr><th scope=col>&lt;chr&gt;</th><th scope=col>&lt;chr&gt;</th><th scope=col>&lt;int&gt;</th></tr>\n",
              "</thead>\n",
              "<tbody>\n",
              "\t<tr><td>casual</td><td>Afternoon</td><td> 697902</td></tr>\n",
              "\t<tr><td>casual</td><td>Evening  </td><td> 380071</td></tr>\n",
              "\t<tr><td>casual</td><td>Morning  </td><td> 301756</td></tr>\n",
              "\t<tr><td>casual</td><td>Night    </td><td>  57604</td></tr>\n",
              "\t<tr><td>member</td><td>Afternoon</td><td>1037881</td></tr>\n",
              "\t<tr><td>member</td><td>Evening  </td><td> 575707</td></tr>\n",
              "\t<tr><td>member</td><td>Morning  </td><td> 692432</td></tr>\n",
              "\t<tr><td>member</td><td>Night    </td><td>  63491</td></tr>\n",
              "</tbody>\n",
              "</table>\n"
            ],
            "text/markdown": "\nA grouped_df: 8 × 3\n\n| member_casual &lt;chr&gt; | time_of_day &lt;chr&gt; | n &lt;int&gt; |\n|---|---|---|\n| casual | Afternoon |  697902 |\n| casual | Evening   |  380071 |\n| casual | Morning   |  301756 |\n| casual | Night     |   57604 |\n| member | Afternoon | 1037881 |\n| member | Evening   |  575707 |\n| member | Morning   |  692432 |\n| member | Night     |   63491 |\n\n",
            "text/latex": "A grouped\\_df: 8 × 3\n\\begin{tabular}{lll}\n member\\_casual & time\\_of\\_day & n\\\\\n <chr> & <chr> & <int>\\\\\n\\hline\n\t casual & Afternoon &  697902\\\\\n\t casual & Evening   &  380071\\\\\n\t casual & Morning   &  301756\\\\\n\t casual & Night     &   57604\\\\\n\t member & Afternoon & 1037881\\\\\n\t member & Evening   &  575707\\\\\n\t member & Morning   &  692432\\\\\n\t member & Night     &   63491\\\\\n\\end{tabular}\n",
            "text/plain": [
              "  member_casual time_of_day n      \n",
              "1 casual        Afternoon    697902\n",
              "2 casual        Evening      380071\n",
              "3 casual        Morning      301756\n",
              "4 casual        Night         57604\n",
              "5 member        Afternoon   1037881\n",
              "6 member        Evening      575707\n",
              "7 member        Morning      692432\n",
              "8 member        Night         63491"
            ]
          },
          "metadata": {}
        }
      ]
    },
    {
      "cell_type": "code",
      "source": [
        "#number of rides\n",
        "cyclistic_date %>%\n",
        "  group_by(time_of_day) %>%\n",
        "  count(time_of_day)"
      ],
      "metadata": {
        "colab": {
          "base_uri": "https://localhost:8080/",
          "height": 224
        },
        "id": "_r9vQj1sAeXZ",
        "outputId": "11d34d3d-beff-46cd-8079-627088f2b720"
      },
      "execution_count": 115,
      "outputs": [
        {
          "output_type": "display_data",
          "data": {
            "text/html": [
              "<table class=\"dataframe\">\n",
              "<caption>A grouped_df: 4 × 2</caption>\n",
              "<thead>\n",
              "\t<tr><th scope=col>time_of_day</th><th scope=col>n</th></tr>\n",
              "\t<tr><th scope=col>&lt;chr&gt;</th><th scope=col>&lt;int&gt;</th></tr>\n",
              "</thead>\n",
              "<tbody>\n",
              "\t<tr><td>Afternoon</td><td>1735783</td></tr>\n",
              "\t<tr><td>Evening  </td><td> 955778</td></tr>\n",
              "\t<tr><td>Morning  </td><td> 994188</td></tr>\n",
              "\t<tr><td>Night    </td><td> 121095</td></tr>\n",
              "</tbody>\n",
              "</table>\n"
            ],
            "text/markdown": "\nA grouped_df: 4 × 2\n\n| time_of_day &lt;chr&gt; | n &lt;int&gt; |\n|---|---|\n| Afternoon | 1735783 |\n| Evening   |  955778 |\n| Morning   |  994188 |\n| Night     |  121095 |\n\n",
            "text/latex": "A grouped\\_df: 4 × 2\n\\begin{tabular}{ll}\n time\\_of\\_day & n\\\\\n <chr> & <int>\\\\\n\\hline\n\t Afternoon & 1735783\\\\\n\t Evening   &  955778\\\\\n\t Morning   &  994188\\\\\n\t Night     &  121095\\\\\n\\end{tabular}\n",
            "text/plain": [
              "  time_of_day n      \n",
              "1 Afternoon   1735783\n",
              "2 Evening      955778\n",
              "3 Morning      994188\n",
              "4 Night        121095"
            ]
          },
          "metadata": {}
        }
      ]
    },
    {
      "cell_type": "code",
      "source": [
        "#----------------DAY OF THE WEEK------------------\n",
        "\n",
        "#total rides by member type\n",
        "cyclistic_date %>%\n",
        "  group_by(member_casual) %>%\n",
        "  count(day_of_week)"
      ],
      "metadata": {
        "colab": {
          "base_uri": "https://localhost:8080/",
          "height": 537
        },
        "id": "dv_bZqHdAjC3",
        "outputId": "3c77803b-dc44-40b4-d470-12cd23aad0e5"
      },
      "execution_count": 116,
      "outputs": [
        {
          "output_type": "display_data",
          "data": {
            "text/html": [
              "<table class=\"dataframe\">\n",
              "<caption>A grouped_df: 14 × 3</caption>\n",
              "<thead>\n",
              "\t<tr><th scope=col>member_casual</th><th scope=col>day_of_week</th><th scope=col>n</th></tr>\n",
              "\t<tr><th scope=col>&lt;chr&gt;</th><th scope=col>&lt;chr&gt;</th><th scope=col>&lt;int&gt;</th></tr>\n",
              "</thead>\n",
              "<tbody>\n",
              "\t<tr><td>casual</td><td>Friday   </td><td>206744</td></tr>\n",
              "\t<tr><td>casual</td><td>Monday   </td><td>171158</td></tr>\n",
              "\t<tr><td>casual</td><td>Saturday </td><td>303582</td></tr>\n",
              "\t<tr><td>casual</td><td>Sunday   </td><td>253012</td></tr>\n",
              "\t<tr><td>casual</td><td>Thursday </td><td>171994</td></tr>\n",
              "\t<tr><td>casual</td><td>Tuesday  </td><td>152824</td></tr>\n",
              "\t<tr><td>casual</td><td>Wednesday</td><td>178019</td></tr>\n",
              "\t<tr><td>member</td><td>Friday   </td><td>328313</td></tr>\n",
              "\t<tr><td>member</td><td>Monday   </td><td>346564</td></tr>\n",
              "\t<tr><td>member</td><td>Saturday </td><td>295175</td></tr>\n",
              "\t<tr><td>member</td><td>Sunday   </td><td>260347</td></tr>\n",
              "\t<tr><td>member</td><td>Thursday </td><td>370955</td></tr>\n",
              "\t<tr><td>member</td><td>Tuesday  </td><td>368289</td></tr>\n",
              "\t<tr><td>member</td><td>Wednesday</td><td>399868</td></tr>\n",
              "</tbody>\n",
              "</table>\n"
            ],
            "text/markdown": "\nA grouped_df: 14 × 3\n\n| member_casual &lt;chr&gt; | day_of_week &lt;chr&gt; | n &lt;int&gt; |\n|---|---|---|\n| casual | Friday    | 206744 |\n| casual | Monday    | 171158 |\n| casual | Saturday  | 303582 |\n| casual | Sunday    | 253012 |\n| casual | Thursday  | 171994 |\n| casual | Tuesday   | 152824 |\n| casual | Wednesday | 178019 |\n| member | Friday    | 328313 |\n| member | Monday    | 346564 |\n| member | Saturday  | 295175 |\n| member | Sunday    | 260347 |\n| member | Thursday  | 370955 |\n| member | Tuesday   | 368289 |\n| member | Wednesday | 399868 |\n\n",
            "text/latex": "A grouped\\_df: 14 × 3\n\\begin{tabular}{lll}\n member\\_casual & day\\_of\\_week & n\\\\\n <chr> & <chr> & <int>\\\\\n\\hline\n\t casual & Friday    & 206744\\\\\n\t casual & Monday    & 171158\\\\\n\t casual & Saturday  & 303582\\\\\n\t casual & Sunday    & 253012\\\\\n\t casual & Thursday  & 171994\\\\\n\t casual & Tuesday   & 152824\\\\\n\t casual & Wednesday & 178019\\\\\n\t member & Friday    & 328313\\\\\n\t member & Monday    & 346564\\\\\n\t member & Saturday  & 295175\\\\\n\t member & Sunday    & 260347\\\\\n\t member & Thursday  & 370955\\\\\n\t member & Tuesday   & 368289\\\\\n\t member & Wednesday & 399868\\\\\n\\end{tabular}\n",
            "text/plain": [
              "   member_casual day_of_week n     \n",
              "1  casual        Friday      206744\n",
              "2  casual        Monday      171158\n",
              "3  casual        Saturday    303582\n",
              "4  casual        Sunday      253012\n",
              "5  casual        Thursday    171994\n",
              "6  casual        Tuesday     152824\n",
              "7  casual        Wednesday   178019\n",
              "8  member        Friday      328313\n",
              "9  member        Monday      346564\n",
              "10 member        Saturday    295175\n",
              "11 member        Sunday      260347\n",
              "12 member        Thursday    370955\n",
              "13 member        Tuesday     368289\n",
              "14 member        Wednesday   399868"
            ]
          },
          "metadata": {}
        }
      ]
    },
    {
      "cell_type": "code",
      "source": [
        "#total rides\n",
        "cyclistic_date %>%\n",
        "  count(day_of_week)\n"
      ],
      "metadata": {
        "colab": {
          "base_uri": "https://localhost:8080/",
          "height": 318
        },
        "id": "JJBQEMoxApAt",
        "outputId": "7a4a0a10-293a-4f75-a3e8-ebe4bbf6de43"
      },
      "execution_count": 117,
      "outputs": [
        {
          "output_type": "display_data",
          "data": {
            "text/html": [
              "<table class=\"dataframe\">\n",
              "<caption>A tibble: 7 × 2</caption>\n",
              "<thead>\n",
              "\t<tr><th scope=col>day_of_week</th><th scope=col>n</th></tr>\n",
              "\t<tr><th scope=col>&lt;chr&gt;</th><th scope=col>&lt;int&gt;</th></tr>\n",
              "</thead>\n",
              "<tbody>\n",
              "\t<tr><td>Friday   </td><td>535057</td></tr>\n",
              "\t<tr><td>Monday   </td><td>517722</td></tr>\n",
              "\t<tr><td>Saturday </td><td>598757</td></tr>\n",
              "\t<tr><td>Sunday   </td><td>513359</td></tr>\n",
              "\t<tr><td>Thursday </td><td>542949</td></tr>\n",
              "\t<tr><td>Tuesday  </td><td>521113</td></tr>\n",
              "\t<tr><td>Wednesday</td><td>577887</td></tr>\n",
              "</tbody>\n",
              "</table>\n"
            ],
            "text/markdown": "\nA tibble: 7 × 2\n\n| day_of_week &lt;chr&gt; | n &lt;int&gt; |\n|---|---|\n| Friday    | 535057 |\n| Monday    | 517722 |\n| Saturday  | 598757 |\n| Sunday    | 513359 |\n| Thursday  | 542949 |\n| Tuesday   | 521113 |\n| Wednesday | 577887 |\n\n",
            "text/latex": "A tibble: 7 × 2\n\\begin{tabular}{ll}\n day\\_of\\_week & n\\\\\n <chr> & <int>\\\\\n\\hline\n\t Friday    & 535057\\\\\n\t Monday    & 517722\\\\\n\t Saturday  & 598757\\\\\n\t Sunday    & 513359\\\\\n\t Thursday  & 542949\\\\\n\t Tuesday   & 521113\\\\\n\t Wednesday & 577887\\\\\n\\end{tabular}\n",
            "text/plain": [
              "  day_of_week n     \n",
              "1 Friday      535057\n",
              "2 Monday      517722\n",
              "3 Saturday    598757\n",
              "4 Sunday      513359\n",
              "5 Thursday    542949\n",
              "6 Tuesday     521113\n",
              "7 Wednesday   577887"
            ]
          },
          "metadata": {}
        }
      ]
    },
    {
      "cell_type": "code",
      "source": [
        "#----------------DAY OF THE MONTH-----------------\n",
        "\n",
        "#total rides by member type\n",
        "cyclistic_date %>%\n",
        "  group_by(member_casual) %>%\n",
        "  count(day) %>%\n",
        "  print(n = 62) #lets you view the entire tibble"
      ],
      "metadata": {
        "colab": {
          "base_uri": "https://localhost:8080/"
        },
        "id": "jg2_ane1Atsc",
        "outputId": "b30684cb-ba09-43fd-d134-5de838141855"
      },
      "execution_count": 118,
      "outputs": [
        {
          "output_type": "stream",
          "name": "stdout",
          "text": [
            "\u001b[90m# A tibble: 62 × 3\u001b[39m\n",
            "\u001b[90m# Groups:   member_casual [2]\u001b[39m\n",
            "   member_casual day       n\n",
            "   \u001b[3m\u001b[90m<chr>\u001b[39m\u001b[23m         \u001b[3m\u001b[90m<chr>\u001b[39m\u001b[23m \u001b[3m\u001b[90m<int>\u001b[39m\u001b[23m\n",
            "\u001b[90m 1\u001b[39m casual        01    \u001b[4m3\u001b[24m\u001b[4m9\u001b[24m917\n",
            "\u001b[90m 2\u001b[39m casual        02    \u001b[4m4\u001b[24m\u001b[4m4\u001b[24m703\n",
            "\u001b[90m 3\u001b[39m casual        03    \u001b[4m4\u001b[24m\u001b[4m4\u001b[24m387\n",
            "\u001b[90m 4\u001b[39m casual        04    \u001b[4m4\u001b[24m\u001b[4m7\u001b[24m644\n",
            "\u001b[90m 5\u001b[39m casual        05    \u001b[4m4\u001b[24m\u001b[4m7\u001b[24m203\n",
            "\u001b[90m 6\u001b[39m casual        06    \u001b[4m4\u001b[24m\u001b[4m8\u001b[24m763\n",
            "\u001b[90m 7\u001b[39m casual        07    \u001b[4m4\u001b[24m\u001b[4m1\u001b[24m474\n",
            "\u001b[90m 8\u001b[39m casual        08    \u001b[4m4\u001b[24m\u001b[4m5\u001b[24m328\n",
            "\u001b[90m 9\u001b[39m casual        09    \u001b[4m4\u001b[24m\u001b[4m2\u001b[24m858\n",
            "\u001b[90m10\u001b[39m casual        10    \u001b[4m4\u001b[24m\u001b[4m6\u001b[24m048\n",
            "\u001b[90m11\u001b[39m casual        11    \u001b[4m5\u001b[24m\u001b[4m1\u001b[24m193\n",
            "\u001b[90m12\u001b[39m casual        12    \u001b[4m5\u001b[24m\u001b[4m0\u001b[24m518\n",
            "\u001b[90m13\u001b[39m casual        13    \u001b[4m5\u001b[24m\u001b[4m9\u001b[24m897\n",
            "\u001b[90m14\u001b[39m casual        14    \u001b[4m5\u001b[24m\u001b[4m1\u001b[24m870\n",
            "\u001b[90m15\u001b[39m casual        15    \u001b[4m4\u001b[24m\u001b[4m0\u001b[24m857\n",
            "\u001b[90m16\u001b[39m casual        16    \u001b[4m3\u001b[24m\u001b[4m8\u001b[24m836\n",
            "\u001b[90m17\u001b[39m casual        17    \u001b[4m3\u001b[24m\u001b[4m9\u001b[24m870\n",
            "\u001b[90m18\u001b[39m casual        18    \u001b[4m4\u001b[24m\u001b[4m8\u001b[24m125\n",
            "\u001b[90m19\u001b[39m casual        19    \u001b[4m5\u001b[24m\u001b[4m3\u001b[24m400\n",
            "\u001b[90m20\u001b[39m casual        20    \u001b[4m5\u001b[24m\u001b[4m4\u001b[24m200\n",
            "\u001b[90m21\u001b[39m casual        21    \u001b[4m6\u001b[24m\u001b[4m1\u001b[24m753\n",
            "\u001b[90m22\u001b[39m casual        22    \u001b[4m4\u001b[24m\u001b[4m4\u001b[24m949\n",
            "\u001b[90m23\u001b[39m casual        23    \u001b[4m4\u001b[24m\u001b[4m2\u001b[24m808\n",
            "\u001b[90m24\u001b[39m casual        24    \u001b[4m4\u001b[24m\u001b[4m0\u001b[24m005\n",
            "\u001b[90m25\u001b[39m casual        25    \u001b[4m4\u001b[24m\u001b[4m8\u001b[24m925\n",
            "\u001b[90m26\u001b[39m casual        26    \u001b[4m4\u001b[24m\u001b[4m2\u001b[24m284\n",
            "\u001b[90m27\u001b[39m casual        27    \u001b[4m5\u001b[24m\u001b[4m7\u001b[24m806\n",
            "\u001b[90m28\u001b[39m casual        28    \u001b[4m3\u001b[24m\u001b[4m8\u001b[24m276\n",
            "\u001b[90m29\u001b[39m casual        29    \u001b[4m4\u001b[24m\u001b[4m4\u001b[24m786\n",
            "\u001b[90m30\u001b[39m casual        30    \u001b[4m4\u001b[24m\u001b[4m6\u001b[24m225\n",
            "\u001b[90m31\u001b[39m casual        31    \u001b[4m3\u001b[24m\u001b[4m2\u001b[24m425\n",
            "\u001b[90m32\u001b[39m member        01    \u001b[4m6\u001b[24m\u001b[4m8\u001b[24m080\n",
            "\u001b[90m33\u001b[39m member        02    \u001b[4m7\u001b[24m\u001b[4m5\u001b[24m008\n",
            "\u001b[90m34\u001b[39m member        03    \u001b[4m7\u001b[24m\u001b[4m6\u001b[24m790\n",
            "\u001b[90m35\u001b[39m member        04    \u001b[4m7\u001b[24m\u001b[4m3\u001b[24m428\n",
            "\u001b[90m36\u001b[39m member        05    \u001b[4m7\u001b[24m\u001b[4m4\u001b[24m520\n",
            "\u001b[90m37\u001b[39m member        06    \u001b[4m7\u001b[24m\u001b[4m5\u001b[24m116\n",
            "\u001b[90m38\u001b[39m member        07    \u001b[4m6\u001b[24m\u001b[4m9\u001b[24m690\n",
            "\u001b[90m39\u001b[39m member        08    \u001b[4m8\u001b[24m\u001b[4m4\u001b[24m629\n",
            "\u001b[90m40\u001b[39m member        09    \u001b[4m7\u001b[24m\u001b[4m8\u001b[24m528\n",
            "\u001b[90m41\u001b[39m member        10    \u001b[4m8\u001b[24m\u001b[4m5\u001b[24m460\n",
            "\u001b[90m42\u001b[39m member        11    \u001b[4m8\u001b[24m\u001b[4m3\u001b[24m382\n",
            "\u001b[90m43\u001b[39m member        12    \u001b[4m7\u001b[24m\u001b[4m9\u001b[24m023\n",
            "\u001b[90m44\u001b[39m member        13    \u001b[4m7\u001b[24m\u001b[4m8\u001b[24m524\n",
            "\u001b[90m45\u001b[39m member        14    \u001b[4m7\u001b[24m\u001b[4m3\u001b[24m227\n",
            "\u001b[90m46\u001b[39m member        15    \u001b[4m6\u001b[24m\u001b[4m8\u001b[24m201\n",
            "\u001b[90m47\u001b[39m member        16    \u001b[4m7\u001b[24m\u001b[4m5\u001b[24m294\n",
            "\u001b[90m48\u001b[39m member        17    \u001b[4m7\u001b[24m\u001b[4m7\u001b[24m235\n",
            "\u001b[90m49\u001b[39m member        18    \u001b[4m7\u001b[24m\u001b[4m8\u001b[24m666\n",
            "\u001b[90m50\u001b[39m member        19    \u001b[4m7\u001b[24m\u001b[4m9\u001b[24m351\n",
            "\u001b[90m51\u001b[39m member        20    \u001b[4m7\u001b[24m\u001b[4m8\u001b[24m081\n",
            "\u001b[90m52\u001b[39m member        21    \u001b[4m8\u001b[24m\u001b[4m3\u001b[24m385\n",
            "\u001b[90m53\u001b[39m member        22    \u001b[4m8\u001b[24m\u001b[4m0\u001b[24m055\n",
            "\u001b[90m54\u001b[39m member        23    \u001b[4m8\u001b[24m\u001b[4m1\u001b[24m775\n",
            "\u001b[90m55\u001b[39m member        24    \u001b[4m7\u001b[24m\u001b[4m5\u001b[24m631\n",
            "\u001b[90m56\u001b[39m member        25    \u001b[4m8\u001b[24m\u001b[4m0\u001b[24m970\n",
            "\u001b[90m57\u001b[39m member        26    \u001b[4m7\u001b[24m\u001b[4m5\u001b[24m776\n",
            "\u001b[90m58\u001b[39m member        27    \u001b[4m7\u001b[24m\u001b[4m8\u001b[24m082\n",
            "\u001b[90m59\u001b[39m member        28    \u001b[4m6\u001b[24m\u001b[4m7\u001b[24m001\n",
            "\u001b[90m60\u001b[39m member        29    \u001b[4m8\u001b[24m\u001b[4m2\u001b[24m186\n",
            "\u001b[90m61\u001b[39m member        30    \u001b[4m8\u001b[24m\u001b[4m3\u001b[24m422\n",
            "\u001b[90m62\u001b[39m member        31    \u001b[4m4\u001b[24m\u001b[4m8\u001b[24m995\n"
          ]
        }
      ]
    },
    {
      "cell_type": "code",
      "source": [
        "#total rides\n",
        "cyclistic_date %>%\n",
        "  count(day) %>%\n",
        "  print(n = 31) #lets you view the entire tibble\n"
      ],
      "metadata": {
        "colab": {
          "base_uri": "https://localhost:8080/"
        },
        "id": "Um8G72STAz9K",
        "outputId": "87d8c48b-154d-4baa-8069-640940f51440"
      },
      "execution_count": 119,
      "outputs": [
        {
          "output_type": "stream",
          "name": "stdout",
          "text": [
            "\u001b[90m# A tibble: 31 × 2\u001b[39m\n",
            "   day        n\n",
            "   \u001b[3m\u001b[90m<chr>\u001b[39m\u001b[23m  \u001b[3m\u001b[90m<int>\u001b[39m\u001b[23m\n",
            "\u001b[90m 1\u001b[39m 01    \u001b[4m1\u001b[24m\u001b[4m0\u001b[24m\u001b[4m7\u001b[24m997\n",
            "\u001b[90m 2\u001b[39m 02    \u001b[4m1\u001b[24m\u001b[4m1\u001b[24m\u001b[4m9\u001b[24m711\n",
            "\u001b[90m 3\u001b[39m 03    \u001b[4m1\u001b[24m\u001b[4m2\u001b[24m\u001b[4m1\u001b[24m177\n",
            "\u001b[90m 4\u001b[39m 04    \u001b[4m1\u001b[24m\u001b[4m2\u001b[24m\u001b[4m1\u001b[24m072\n",
            "\u001b[90m 5\u001b[39m 05    \u001b[4m1\u001b[24m\u001b[4m2\u001b[24m\u001b[4m1\u001b[24m723\n",
            "\u001b[90m 6\u001b[39m 06    \u001b[4m1\u001b[24m\u001b[4m2\u001b[24m\u001b[4m3\u001b[24m879\n",
            "\u001b[90m 7\u001b[39m 07    \u001b[4m1\u001b[24m\u001b[4m1\u001b[24m\u001b[4m1\u001b[24m164\n",
            "\u001b[90m 8\u001b[39m 08    \u001b[4m1\u001b[24m\u001b[4m2\u001b[24m\u001b[4m9\u001b[24m957\n",
            "\u001b[90m 9\u001b[39m 09    \u001b[4m1\u001b[24m\u001b[4m2\u001b[24m\u001b[4m1\u001b[24m386\n",
            "\u001b[90m10\u001b[39m 10    \u001b[4m1\u001b[24m\u001b[4m3\u001b[24m\u001b[4m1\u001b[24m508\n",
            "\u001b[90m11\u001b[39m 11    \u001b[4m1\u001b[24m\u001b[4m3\u001b[24m\u001b[4m4\u001b[24m575\n",
            "\u001b[90m12\u001b[39m 12    \u001b[4m1\u001b[24m\u001b[4m2\u001b[24m\u001b[4m9\u001b[24m541\n",
            "\u001b[90m13\u001b[39m 13    \u001b[4m1\u001b[24m\u001b[4m3\u001b[24m\u001b[4m8\u001b[24m421\n",
            "\u001b[90m14\u001b[39m 14    \u001b[4m1\u001b[24m\u001b[4m2\u001b[24m\u001b[4m5\u001b[24m097\n",
            "\u001b[90m15\u001b[39m 15    \u001b[4m1\u001b[24m\u001b[4m0\u001b[24m\u001b[4m9\u001b[24m058\n",
            "\u001b[90m16\u001b[39m 16    \u001b[4m1\u001b[24m\u001b[4m1\u001b[24m\u001b[4m4\u001b[24m130\n",
            "\u001b[90m17\u001b[39m 17    \u001b[4m1\u001b[24m\u001b[4m1\u001b[24m\u001b[4m7\u001b[24m105\n",
            "\u001b[90m18\u001b[39m 18    \u001b[4m1\u001b[24m\u001b[4m2\u001b[24m\u001b[4m6\u001b[24m791\n",
            "\u001b[90m19\u001b[39m 19    \u001b[4m1\u001b[24m\u001b[4m3\u001b[24m\u001b[4m2\u001b[24m751\n",
            "\u001b[90m20\u001b[39m 20    \u001b[4m1\u001b[24m\u001b[4m3\u001b[24m\u001b[4m2\u001b[24m281\n",
            "\u001b[90m21\u001b[39m 21    \u001b[4m1\u001b[24m\u001b[4m4\u001b[24m\u001b[4m5\u001b[24m138\n",
            "\u001b[90m22\u001b[39m 22    \u001b[4m1\u001b[24m\u001b[4m2\u001b[24m\u001b[4m5\u001b[24m004\n",
            "\u001b[90m23\u001b[39m 23    \u001b[4m1\u001b[24m\u001b[4m2\u001b[24m\u001b[4m4\u001b[24m583\n",
            "\u001b[90m24\u001b[39m 24    \u001b[4m1\u001b[24m\u001b[4m1\u001b[24m\u001b[4m5\u001b[24m636\n",
            "\u001b[90m25\u001b[39m 25    \u001b[4m1\u001b[24m\u001b[4m2\u001b[24m\u001b[4m9\u001b[24m895\n",
            "\u001b[90m26\u001b[39m 26    \u001b[4m1\u001b[24m\u001b[4m1\u001b[24m\u001b[4m8\u001b[24m060\n",
            "\u001b[90m27\u001b[39m 27    \u001b[4m1\u001b[24m\u001b[4m3\u001b[24m\u001b[4m5\u001b[24m888\n",
            "\u001b[90m28\u001b[39m 28    \u001b[4m1\u001b[24m\u001b[4m0\u001b[24m\u001b[4m5\u001b[24m277\n",
            "\u001b[90m29\u001b[39m 29    \u001b[4m1\u001b[24m\u001b[4m2\u001b[24m\u001b[4m6\u001b[24m972\n",
            "\u001b[90m30\u001b[39m 30    \u001b[4m1\u001b[24m\u001b[4m2\u001b[24m\u001b[4m9\u001b[24m647\n",
            "\u001b[90m31\u001b[39m 31     \u001b[4m8\u001b[24m\u001b[4m1\u001b[24m420\n"
          ]
        }
      ]
    },
    {
      "cell_type": "code",
      "source": [
        "#---------------------MONTH-----------------------\n",
        "\n",
        "#total rides by member type\n",
        "cyclistic_date %>%\n",
        "  group_by(member_casual) %>%\n",
        "  count(month) %>%\n",
        "  print(n = 24) #lets you view the entire tibble"
      ],
      "metadata": {
        "colab": {
          "base_uri": "https://localhost:8080/"
        },
        "id": "Wa9bZF5_A41w",
        "outputId": "e0a203d3-e7dd-4af7-aba5-22ac5193c19e"
      },
      "execution_count": 120,
      "outputs": [
        {
          "output_type": "stream",
          "name": "stdout",
          "text": [
            "\u001b[90m# A tibble: 20 × 3\u001b[39m\n",
            "\u001b[90m# Groups:   member_casual [2]\u001b[39m\n",
            "   member_casual month          n\n",
            "   \u001b[3m\u001b[90m<chr>\u001b[39m\u001b[23m         \u001b[3m\u001b[90m<chr>\u001b[39m\u001b[23m      \u001b[3m\u001b[90m<int>\u001b[39m\u001b[23m\n",
            "\u001b[90m 1\u001b[39m casual        April      \u001b[4m9\u001b[24m\u001b[4m3\u001b[24m927\n",
            "\u001b[90m 2\u001b[39m casual        August    \u001b[4m2\u001b[24m\u001b[4m2\u001b[24m\u001b[4m8\u001b[24m518\n",
            "\u001b[90m 3\u001b[39m casual        February   \u001b[4m3\u001b[24m\u001b[4m8\u001b[24m167\n",
            "\u001b[90m 4\u001b[39m casual        January    \u001b[4m1\u001b[24m\u001b[4m7\u001b[24m712\n",
            "\u001b[90m 5\u001b[39m casual        July      \u001b[4m2\u001b[24m\u001b[4m3\u001b[24m\u001b[4m1\u001b[24m970\n",
            "\u001b[90m 6\u001b[39m casual        June      \u001b[4m2\u001b[24m\u001b[4m0\u001b[24m\u001b[4m8\u001b[24m397\n",
            "\u001b[90m 7\u001b[39m casual        March      \u001b[4m7\u001b[24m\u001b[4m5\u001b[24m628\n",
            "\u001b[90m 8\u001b[39m casual        May       \u001b[4m1\u001b[24m\u001b[4m6\u001b[24m\u001b[4m7\u001b[24m524\n",
            "\u001b[90m 9\u001b[39m casual        October   \u001b[4m1\u001b[24m\u001b[4m5\u001b[24m\u001b[4m9\u001b[24m347\n",
            "\u001b[90m10\u001b[39m casual        September \u001b[4m2\u001b[24m\u001b[4m1\u001b[24m\u001b[4m6\u001b[24m143\n",
            "\u001b[90m11\u001b[39m member        April     \u001b[4m2\u001b[24m\u001b[4m0\u001b[24m\u001b[4m3\u001b[24m814\n",
            "\u001b[90m12\u001b[39m member        August    \u001b[4m3\u001b[24m\u001b[4m1\u001b[24m\u001b[4m2\u001b[24m805\n",
            "\u001b[90m13\u001b[39m member        February  \u001b[4m1\u001b[24m\u001b[4m4\u001b[24m\u001b[4m6\u001b[24m553\n",
            "\u001b[90m14\u001b[39m member        January    \u001b[4m9\u001b[24m\u001b[4m6\u001b[24m075\n",
            "\u001b[90m15\u001b[39m member        July      \u001b[4m3\u001b[24m\u001b[4m0\u001b[24m\u001b[4m8\u001b[24m971\n",
            "\u001b[90m16\u001b[39m member        June      \u001b[4m2\u001b[24m\u001b[4m8\u001b[24m\u001b[4m5\u001b[24m945\n",
            "\u001b[90m17\u001b[39m member        March     \u001b[4m1\u001b[24m\u001b[4m3\u001b[24m\u001b[4m0\u001b[24m034\n",
            "\u001b[90m18\u001b[39m member        May       \u001b[4m2\u001b[24m\u001b[4m7\u001b[24m\u001b[4m4\u001b[24m711\n",
            "\u001b[90m19\u001b[39m member        October   \u001b[4m2\u001b[24m\u001b[4m8\u001b[24m\u001b[4m9\u001b[24m749\n",
            "\u001b[90m20\u001b[39m member        September \u001b[4m3\u001b[24m\u001b[4m2\u001b[24m\u001b[4m0\u001b[24m854\n"
          ]
        }
      ]
    },
    {
      "cell_type": "code",
      "source": [
        "#total rides\n",
        "cyclistic_date %>%\n",
        "  count(month)"
      ],
      "metadata": {
        "colab": {
          "base_uri": "https://localhost:8080/",
          "height": 412
        },
        "id": "5ciXkAdBA92_",
        "outputId": "232809a6-2cc6-478b-8eb9-5b46e470e0fa"
      },
      "execution_count": 121,
      "outputs": [
        {
          "output_type": "display_data",
          "data": {
            "text/html": [
              "<table class=\"dataframe\">\n",
              "<caption>A tibble: 10 × 2</caption>\n",
              "<thead>\n",
              "\t<tr><th scope=col>month</th><th scope=col>n</th></tr>\n",
              "\t<tr><th scope=col>&lt;chr&gt;</th><th scope=col>&lt;int&gt;</th></tr>\n",
              "</thead>\n",
              "<tbody>\n",
              "\t<tr><td>April    </td><td>297741</td></tr>\n",
              "\t<tr><td>August   </td><td>541323</td></tr>\n",
              "\t<tr><td>February </td><td>184720</td></tr>\n",
              "\t<tr><td>January  </td><td>113787</td></tr>\n",
              "\t<tr><td>July     </td><td>540941</td></tr>\n",
              "\t<tr><td>June     </td><td>494342</td></tr>\n",
              "\t<tr><td>March    </td><td>205662</td></tr>\n",
              "\t<tr><td>May      </td><td>442235</td></tr>\n",
              "\t<tr><td>October  </td><td>449096</td></tr>\n",
              "\t<tr><td>September</td><td>536997</td></tr>\n",
              "</tbody>\n",
              "</table>\n"
            ],
            "text/markdown": "\nA tibble: 10 × 2\n\n| month &lt;chr&gt; | n &lt;int&gt; |\n|---|---|\n| April     | 297741 |\n| August    | 541323 |\n| February  | 184720 |\n| January   | 113787 |\n| July      | 540941 |\n| June      | 494342 |\n| March     | 205662 |\n| May       | 442235 |\n| October   | 449096 |\n| September | 536997 |\n\n",
            "text/latex": "A tibble: 10 × 2\n\\begin{tabular}{ll}\n month & n\\\\\n <chr> & <int>\\\\\n\\hline\n\t April     & 297741\\\\\n\t August    & 541323\\\\\n\t February  & 184720\\\\\n\t January   & 113787\\\\\n\t July      & 540941\\\\\n\t June      & 494342\\\\\n\t March     & 205662\\\\\n\t May       & 442235\\\\\n\t October   & 449096\\\\\n\t September & 536997\\\\\n\\end{tabular}\n",
            "text/plain": [
              "   month     n     \n",
              "1  April     297741\n",
              "2  August    541323\n",
              "3  February  184720\n",
              "4  January   113787\n",
              "5  July      540941\n",
              "6  June      494342\n",
              "7  March     205662\n",
              "8  May       442235\n",
              "9  October   449096\n",
              "10 September 536997"
            ]
          },
          "metadata": {}
        }
      ]
    },
    {
      "cell_type": "code",
      "source": [
        "#--------------------SEASON-----------------------\n",
        "\n",
        "#-----spring-------\n",
        "\n",
        "#total rides by member type\n",
        "cyclistic_date %>%\n",
        "  group_by(member_casual) %>%\n",
        "  filter(season == \"Spring\") %>%\n",
        "  count(season)\n"
      ],
      "metadata": {
        "colab": {
          "base_uri": "https://localhost:8080/",
          "height": 161
        },
        "id": "puiGQP0kBEWK",
        "outputId": "473b5dd8-7912-47d0-cb35-ce7a7ecf844c"
      },
      "execution_count": 122,
      "outputs": [
        {
          "output_type": "display_data",
          "data": {
            "text/html": [
              "<table class=\"dataframe\">\n",
              "<caption>A grouped_df: 2 × 3</caption>\n",
              "<thead>\n",
              "\t<tr><th scope=col>member_casual</th><th scope=col>season</th><th scope=col>n</th></tr>\n",
              "\t<tr><th scope=col>&lt;chr&gt;</th><th scope=col>&lt;chr&gt;</th><th scope=col>&lt;int&gt;</th></tr>\n",
              "</thead>\n",
              "<tbody>\n",
              "\t<tr><td>casual</td><td>Spring</td><td>337079</td></tr>\n",
              "\t<tr><td>member</td><td>Spring</td><td>608559</td></tr>\n",
              "</tbody>\n",
              "</table>\n"
            ],
            "text/markdown": "\nA grouped_df: 2 × 3\n\n| member_casual &lt;chr&gt; | season &lt;chr&gt; | n &lt;int&gt; |\n|---|---|---|\n| casual | Spring | 337079 |\n| member | Spring | 608559 |\n\n",
            "text/latex": "A grouped\\_df: 2 × 3\n\\begin{tabular}{lll}\n member\\_casual & season & n\\\\\n <chr> & <chr> & <int>\\\\\n\\hline\n\t casual & Spring & 337079\\\\\n\t member & Spring & 608559\\\\\n\\end{tabular}\n",
            "text/plain": [
              "  member_casual season n     \n",
              "1 casual        Spring 337079\n",
              "2 member        Spring 608559"
            ]
          },
          "metadata": {}
        }
      ]
    },
    {
      "cell_type": "code",
      "source": [
        "#total rides\n",
        "cyclistic_date %>%\n",
        "  filter(season == \"Spring\") %>%\n",
        "  count(season)"
      ],
      "metadata": {
        "colab": {
          "base_uri": "https://localhost:8080/",
          "height": 129
        },
        "id": "ts71iELXBKCI",
        "outputId": "f02f51e9-5c9d-4476-9a51-b41a3662fced"
      },
      "execution_count": 123,
      "outputs": [
        {
          "output_type": "display_data",
          "data": {
            "text/html": [
              "<table class=\"dataframe\">\n",
              "<caption>A tibble: 1 × 2</caption>\n",
              "<thead>\n",
              "\t<tr><th scope=col>season</th><th scope=col>n</th></tr>\n",
              "\t<tr><th scope=col>&lt;chr&gt;</th><th scope=col>&lt;int&gt;</th></tr>\n",
              "</thead>\n",
              "<tbody>\n",
              "\t<tr><td>Spring</td><td>945638</td></tr>\n",
              "</tbody>\n",
              "</table>\n"
            ],
            "text/markdown": "\nA tibble: 1 × 2\n\n| season &lt;chr&gt; | n &lt;int&gt; |\n|---|---|\n| Spring | 945638 |\n\n",
            "text/latex": "A tibble: 1 × 2\n\\begin{tabular}{ll}\n season & n\\\\\n <chr> & <int>\\\\\n\\hline\n\t Spring & 945638\\\\\n\\end{tabular}\n",
            "text/plain": [
              "  season n     \n",
              "1 Spring 945638"
            ]
          },
          "metadata": {}
        }
      ]
    },
    {
      "cell_type": "code",
      "source": [
        "#-----summer-------\n",
        "\n",
        "#total rides by member type\n",
        "cyclistic_date %>%\n",
        "  group_by(member_casual) %>%\n",
        "  filter(season == \"Summer\") %>%\n",
        "  count(season)"
      ],
      "metadata": {
        "colab": {
          "base_uri": "https://localhost:8080/",
          "height": 161
        },
        "id": "zgVAThBhBP53",
        "outputId": "59b69bb1-c8f7-4089-8284-ecdf23b527c1"
      },
      "execution_count": 124,
      "outputs": [
        {
          "output_type": "display_data",
          "data": {
            "text/html": [
              "<table class=\"dataframe\">\n",
              "<caption>A grouped_df: 2 × 3</caption>\n",
              "<thead>\n",
              "\t<tr><th scope=col>member_casual</th><th scope=col>season</th><th scope=col>n</th></tr>\n",
              "\t<tr><th scope=col>&lt;chr&gt;</th><th scope=col>&lt;chr&gt;</th><th scope=col>&lt;int&gt;</th></tr>\n",
              "</thead>\n",
              "<tbody>\n",
              "\t<tr><td>casual</td><td>Summer</td><td>668885</td></tr>\n",
              "\t<tr><td>member</td><td>Summer</td><td>907721</td></tr>\n",
              "</tbody>\n",
              "</table>\n"
            ],
            "text/markdown": "\nA grouped_df: 2 × 3\n\n| member_casual &lt;chr&gt; | season &lt;chr&gt; | n &lt;int&gt; |\n|---|---|---|\n| casual | Summer | 668885 |\n| member | Summer | 907721 |\n\n",
            "text/latex": "A grouped\\_df: 2 × 3\n\\begin{tabular}{lll}\n member\\_casual & season & n\\\\\n <chr> & <chr> & <int>\\\\\n\\hline\n\t casual & Summer & 668885\\\\\n\t member & Summer & 907721\\\\\n\\end{tabular}\n",
            "text/plain": [
              "  member_casual season n     \n",
              "1 casual        Summer 668885\n",
              "2 member        Summer 907721"
            ]
          },
          "metadata": {}
        }
      ]
    },
    {
      "cell_type": "code",
      "source": [
        "#total rides\n",
        "cyclistic_date %>%\n",
        "  filter(season == \"Summer\") %>%\n",
        "  count(season)"
      ],
      "metadata": {
        "colab": {
          "base_uri": "https://localhost:8080/",
          "height": 129
        },
        "id": "SEOEyuQ2BUkA",
        "outputId": "55ddc7b9-e0dd-43a6-ab47-6d53cd31d0d7"
      },
      "execution_count": 125,
      "outputs": [
        {
          "output_type": "display_data",
          "data": {
            "text/html": [
              "<table class=\"dataframe\">\n",
              "<caption>A tibble: 1 × 2</caption>\n",
              "<thead>\n",
              "\t<tr><th scope=col>season</th><th scope=col>n</th></tr>\n",
              "\t<tr><th scope=col>&lt;chr&gt;</th><th scope=col>&lt;int&gt;</th></tr>\n",
              "</thead>\n",
              "<tbody>\n",
              "\t<tr><td>Summer</td><td>1576606</td></tr>\n",
              "</tbody>\n",
              "</table>\n"
            ],
            "text/markdown": "\nA tibble: 1 × 2\n\n| season &lt;chr&gt; | n &lt;int&gt; |\n|---|---|\n| Summer | 1576606 |\n\n",
            "text/latex": "A tibble: 1 × 2\n\\begin{tabular}{ll}\n season & n\\\\\n <chr> & <int>\\\\\n\\hline\n\t Summer & 1576606\\\\\n\\end{tabular}\n",
            "text/plain": [
              "  season n      \n",
              "1 Summer 1576606"
            ]
          },
          "metadata": {}
        }
      ]
    },
    {
      "cell_type": "code",
      "source": [
        "#-----fall-------\n",
        "\n",
        "#total rides by member type\n",
        "cyclistic_date %>%\n",
        "  group_by(member_casual) %>%\n",
        "  filter(season == \"Fall\") %>%\n",
        "  count(season)"
      ],
      "metadata": {
        "colab": {
          "base_uri": "https://localhost:8080/",
          "height": 161
        },
        "id": "w1Psd8wdBZVx",
        "outputId": "d3df1028-bd18-4e0e-fe1c-e50049022a64"
      },
      "execution_count": 126,
      "outputs": [
        {
          "output_type": "display_data",
          "data": {
            "text/html": [
              "<table class=\"dataframe\">\n",
              "<caption>A grouped_df: 2 × 3</caption>\n",
              "<thead>\n",
              "\t<tr><th scope=col>member_casual</th><th scope=col>season</th><th scope=col>n</th></tr>\n",
              "\t<tr><th scope=col>&lt;chr&gt;</th><th scope=col>&lt;chr&gt;</th><th scope=col>&lt;int&gt;</th></tr>\n",
              "</thead>\n",
              "<tbody>\n",
              "\t<tr><td>casual</td><td>Fall</td><td>375490</td></tr>\n",
              "\t<tr><td>member</td><td>Fall</td><td>610603</td></tr>\n",
              "</tbody>\n",
              "</table>\n"
            ],
            "text/markdown": "\nA grouped_df: 2 × 3\n\n| member_casual &lt;chr&gt; | season &lt;chr&gt; | n &lt;int&gt; |\n|---|---|---|\n| casual | Fall | 375490 |\n| member | Fall | 610603 |\n\n",
            "text/latex": "A grouped\\_df: 2 × 3\n\\begin{tabular}{lll}\n member\\_casual & season & n\\\\\n <chr> & <chr> & <int>\\\\\n\\hline\n\t casual & Fall & 375490\\\\\n\t member & Fall & 610603\\\\\n\\end{tabular}\n",
            "text/plain": [
              "  member_casual season n     \n",
              "1 casual        Fall   375490\n",
              "2 member        Fall   610603"
            ]
          },
          "metadata": {}
        }
      ]
    },
    {
      "cell_type": "code",
      "source": [
        "#total rides\n",
        "cyclistic_date %>%\n",
        "  filter(season == \"Fall\") %>%\n",
        "  count(season)"
      ],
      "metadata": {
        "colab": {
          "base_uri": "https://localhost:8080/",
          "height": 129
        },
        "id": "Db5AUpNABePV",
        "outputId": "a07a0859-0b31-4851-e7c3-0ccb2e8fb3f2"
      },
      "execution_count": 127,
      "outputs": [
        {
          "output_type": "display_data",
          "data": {
            "text/html": [
              "<table class=\"dataframe\">\n",
              "<caption>A tibble: 1 × 2</caption>\n",
              "<thead>\n",
              "\t<tr><th scope=col>season</th><th scope=col>n</th></tr>\n",
              "\t<tr><th scope=col>&lt;chr&gt;</th><th scope=col>&lt;int&gt;</th></tr>\n",
              "</thead>\n",
              "<tbody>\n",
              "\t<tr><td>Fall</td><td>986093</td></tr>\n",
              "</tbody>\n",
              "</table>\n"
            ],
            "text/markdown": "\nA tibble: 1 × 2\n\n| season &lt;chr&gt; | n &lt;int&gt; |\n|---|---|\n| Fall | 986093 |\n\n",
            "text/latex": "A tibble: 1 × 2\n\\begin{tabular}{ll}\n season & n\\\\\n <chr> & <int>\\\\\n\\hline\n\t Fall & 986093\\\\\n\\end{tabular}\n",
            "text/plain": [
              "  season n     \n",
              "1 Fall   986093"
            ]
          },
          "metadata": {}
        }
      ]
    },
    {
      "cell_type": "code",
      "source": [
        "#-----winter-------\n",
        "\n",
        "#total rides by member type\n",
        "cyclistic_date %>%\n",
        "  group_by(member_casual) %>%\n",
        "  filter(season == \"Winter\") %>%\n",
        "  count(season)\n"
      ],
      "metadata": {
        "colab": {
          "base_uri": "https://localhost:8080/",
          "height": 161
        },
        "id": "frFngAQEBjCR",
        "outputId": "3dd9197a-7e92-4b41-c754-20c3717f3bb3"
      },
      "execution_count": 128,
      "outputs": [
        {
          "output_type": "display_data",
          "data": {
            "text/html": [
              "<table class=\"dataframe\">\n",
              "<caption>A grouped_df: 2 × 3</caption>\n",
              "<thead>\n",
              "\t<tr><th scope=col>member_casual</th><th scope=col>season</th><th scope=col>n</th></tr>\n",
              "\t<tr><th scope=col>&lt;chr&gt;</th><th scope=col>&lt;chr&gt;</th><th scope=col>&lt;int&gt;</th></tr>\n",
              "</thead>\n",
              "<tbody>\n",
              "\t<tr><td>casual</td><td>Winter</td><td> 55879</td></tr>\n",
              "\t<tr><td>member</td><td>Winter</td><td>242628</td></tr>\n",
              "</tbody>\n",
              "</table>\n"
            ],
            "text/markdown": "\nA grouped_df: 2 × 3\n\n| member_casual &lt;chr&gt; | season &lt;chr&gt; | n &lt;int&gt; |\n|---|---|---|\n| casual | Winter |  55879 |\n| member | Winter | 242628 |\n\n",
            "text/latex": "A grouped\\_df: 2 × 3\n\\begin{tabular}{lll}\n member\\_casual & season & n\\\\\n <chr> & <chr> & <int>\\\\\n\\hline\n\t casual & Winter &  55879\\\\\n\t member & Winter & 242628\\\\\n\\end{tabular}\n",
            "text/plain": [
              "  member_casual season n     \n",
              "1 casual        Winter  55879\n",
              "2 member        Winter 242628"
            ]
          },
          "metadata": {}
        }
      ]
    },
    {
      "cell_type": "code",
      "source": [
        "#total rides\n",
        "cyclistic_date %>%\n",
        "  filter(season == \"Winter\") %>%\n",
        "  count(season)"
      ],
      "metadata": {
        "colab": {
          "base_uri": "https://localhost:8080/",
          "height": 129
        },
        "id": "l1bILMgBBoZX",
        "outputId": "3a81e010-5ec9-4bbb-a0b5-60e7990f190b"
      },
      "execution_count": 129,
      "outputs": [
        {
          "output_type": "display_data",
          "data": {
            "text/html": [
              "<table class=\"dataframe\">\n",
              "<caption>A tibble: 1 × 2</caption>\n",
              "<thead>\n",
              "\t<tr><th scope=col>season</th><th scope=col>n</th></tr>\n",
              "\t<tr><th scope=col>&lt;chr&gt;</th><th scope=col>&lt;int&gt;</th></tr>\n",
              "</thead>\n",
              "<tbody>\n",
              "\t<tr><td>Winter</td><td>298507</td></tr>\n",
              "</tbody>\n",
              "</table>\n"
            ],
            "text/markdown": "\nA tibble: 1 × 2\n\n| season &lt;chr&gt; | n &lt;int&gt; |\n|---|---|\n| Winter | 298507 |\n\n",
            "text/latex": "A tibble: 1 × 2\n\\begin{tabular}{ll}\n season & n\\\\\n <chr> & <int>\\\\\n\\hline\n\t Winter & 298507\\\\\n\\end{tabular}\n",
            "text/plain": [
              "  season n     \n",
              "1 Winter 298507"
            ]
          },
          "metadata": {}
        }
      ]
    },
    {
      "cell_type": "code",
      "source": [
        "#-----all seasons-------\n",
        "\n",
        "#total rides by member type\n",
        "cyclistic_date %>%\n",
        "  group_by(season, member_casual) %>%\n",
        "  count(season)"
      ],
      "metadata": {
        "colab": {
          "base_uri": "https://localhost:8080/",
          "height": 349
        },
        "id": "hx3O_oLyBs-A",
        "outputId": "e3667816-d7d1-4e16-f2b0-066497007031"
      },
      "execution_count": 130,
      "outputs": [
        {
          "output_type": "display_data",
          "data": {
            "text/html": [
              "<table class=\"dataframe\">\n",
              "<caption>A grouped_df: 8 × 3</caption>\n",
              "<thead>\n",
              "\t<tr><th scope=col>season</th><th scope=col>member_casual</th><th scope=col>n</th></tr>\n",
              "\t<tr><th scope=col>&lt;chr&gt;</th><th scope=col>&lt;chr&gt;</th><th scope=col>&lt;int&gt;</th></tr>\n",
              "</thead>\n",
              "<tbody>\n",
              "\t<tr><td>Fall  </td><td>casual</td><td>375490</td></tr>\n",
              "\t<tr><td>Fall  </td><td>member</td><td>610603</td></tr>\n",
              "\t<tr><td>Spring</td><td>casual</td><td>337079</td></tr>\n",
              "\t<tr><td>Spring</td><td>member</td><td>608559</td></tr>\n",
              "\t<tr><td>Summer</td><td>casual</td><td>668885</td></tr>\n",
              "\t<tr><td>Summer</td><td>member</td><td>907721</td></tr>\n",
              "\t<tr><td>Winter</td><td>casual</td><td> 55879</td></tr>\n",
              "\t<tr><td>Winter</td><td>member</td><td>242628</td></tr>\n",
              "</tbody>\n",
              "</table>\n"
            ],
            "text/markdown": "\nA grouped_df: 8 × 3\n\n| season &lt;chr&gt; | member_casual &lt;chr&gt; | n &lt;int&gt; |\n|---|---|---|\n| Fall   | casual | 375490 |\n| Fall   | member | 610603 |\n| Spring | casual | 337079 |\n| Spring | member | 608559 |\n| Summer | casual | 668885 |\n| Summer | member | 907721 |\n| Winter | casual |  55879 |\n| Winter | member | 242628 |\n\n",
            "text/latex": "A grouped\\_df: 8 × 3\n\\begin{tabular}{lll}\n season & member\\_casual & n\\\\\n <chr> & <chr> & <int>\\\\\n\\hline\n\t Fall   & casual & 375490\\\\\n\t Fall   & member & 610603\\\\\n\t Spring & casual & 337079\\\\\n\t Spring & member & 608559\\\\\n\t Summer & casual & 668885\\\\\n\t Summer & member & 907721\\\\\n\t Winter & casual &  55879\\\\\n\t Winter & member & 242628\\\\\n\\end{tabular}\n",
            "text/plain": [
              "  season member_casual n     \n",
              "1 Fall   casual        375490\n",
              "2 Fall   member        610603\n",
              "3 Spring casual        337079\n",
              "4 Spring member        608559\n",
              "5 Summer casual        668885\n",
              "6 Summer member        907721\n",
              "7 Winter casual         55879\n",
              "8 Winter member        242628"
            ]
          },
          "metadata": {}
        }
      ]
    },
    {
      "cell_type": "code",
      "source": [
        "#total rides\n",
        "cyclistic_date %>%\n",
        "  group_by(season) %>%\n",
        "  count(season)"
      ],
      "metadata": {
        "colab": {
          "base_uri": "https://localhost:8080/",
          "height": 224
        },
        "id": "1OOQIqeJBxvg",
        "outputId": "6346f29a-b9e7-4abf-d376-a2c4b45e4a1d"
      },
      "execution_count": 131,
      "outputs": [
        {
          "output_type": "display_data",
          "data": {
            "text/html": [
              "<table class=\"dataframe\">\n",
              "<caption>A grouped_df: 4 × 2</caption>\n",
              "<thead>\n",
              "\t<tr><th scope=col>season</th><th scope=col>n</th></tr>\n",
              "\t<tr><th scope=col>&lt;chr&gt;</th><th scope=col>&lt;int&gt;</th></tr>\n",
              "</thead>\n",
              "<tbody>\n",
              "\t<tr><td>Fall  </td><td> 986093</td></tr>\n",
              "\t<tr><td>Spring</td><td> 945638</td></tr>\n",
              "\t<tr><td>Summer</td><td>1576606</td></tr>\n",
              "\t<tr><td>Winter</td><td> 298507</td></tr>\n",
              "</tbody>\n",
              "</table>\n"
            ],
            "text/markdown": "\nA grouped_df: 4 × 2\n\n| season &lt;chr&gt; | n &lt;int&gt; |\n|---|---|\n| Fall   |  986093 |\n| Spring |  945638 |\n| Summer | 1576606 |\n| Winter |  298507 |\n\n",
            "text/latex": "A grouped\\_df: 4 × 2\n\\begin{tabular}{ll}\n season & n\\\\\n <chr> & <int>\\\\\n\\hline\n\t Fall   &  986093\\\\\n\t Spring &  945638\\\\\n\t Summer & 1576606\\\\\n\t Winter &  298507\\\\\n\\end{tabular}\n",
            "text/plain": [
              "  season n      \n",
              "1 Fall    986093\n",
              "2 Spring  945638\n",
              "3 Summer 1576606\n",
              "4 Winter  298507"
            ]
          },
          "metadata": {}
        }
      ]
    },
    {
      "cell_type": "code",
      "source": [
        "#------------------------------------AVERAGE RIDE LENGTH-----------------------------------\n",
        "\n",
        "#average of ride_length\n",
        "cyclistic_avgRide <- mean(cyclistic_date$ride_length)\n",
        "print(cyclistic_avgRide)"
      ],
      "metadata": {
        "colab": {
          "base_uri": "https://localhost:8080/"
        },
        "id": "iViiBEZcB1-3",
        "outputId": "2decf689-3330-4595-95aa-5169bf191aae"
      },
      "execution_count": 132,
      "outputs": [
        {
          "output_type": "stream",
          "name": "stdout",
          "text": [
            "Time difference of 17.5546 mins\n"
          ]
        }
      ]
    },
    {
      "cell_type": "code",
      "source": [
        "#------------------MEMBER TYPE--------------------\n",
        "\n",
        "#average ride_length\n",
        "cyclistic_date %>% group_by( member_casual) %>%\n",
        "  summarise_at(vars(ride_length),\n",
        "               list(time = mean))\n"
      ],
      "metadata": {
        "colab": {
          "base_uri": "https://localhost:8080/",
          "height": 161
        },
        "id": "o3_rflugB6ub",
        "outputId": "8e1826ea-1ddb-42d5-8307-7e128dd95a7f"
      },
      "execution_count": 133,
      "outputs": [
        {
          "output_type": "display_data",
          "data": {
            "text/html": [
              "<table class=\"dataframe\">\n",
              "<caption>A tibble: 2 × 2</caption>\n",
              "<thead>\n",
              "\t<tr><th scope=col>member_casual</th><th scope=col>time</th></tr>\n",
              "\t<tr><th scope=col>&lt;chr&gt;</th><th scope=col>&lt;drtn&gt;</th></tr>\n",
              "</thead>\n",
              "<tbody>\n",
              "\t<tr><td>casual</td><td>25.37564 mins</td></tr>\n",
              "\t<tr><td>member</td><td>12.81040 mins</td></tr>\n",
              "</tbody>\n",
              "</table>\n"
            ],
            "text/markdown": "\nA tibble: 2 × 2\n\n| member_casual &lt;chr&gt; | time &lt;drtn&gt; |\n|---|---|\n| casual | 25.37564 mins |\n| member | 12.81040 mins |\n\n",
            "text/latex": "A tibble: 2 × 2\n\\begin{tabular}{ll}\n member\\_casual & time\\\\\n <chr> & <drtn>\\\\\n\\hline\n\t casual & 25.37564 mins\\\\\n\t member & 12.81040 mins\\\\\n\\end{tabular}\n",
            "text/plain": [
              "  member_casual time         \n",
              "1 casual        25.37564 mins\n",
              "2 member        12.81040 mins"
            ]
          },
          "metadata": {}
        }
      ]
    },
    {
      "cell_type": "code",
      "source": [
        "#----------------TYPE OF BIKE---------------------\n",
        "\n",
        "#total rides by member type\n",
        "cyclistic_date %>% group_by(member_casual, rideable_type) %>%\n",
        "  summarise_at(vars(ride_length),\n",
        "               list(time = mean))"
      ],
      "metadata": {
        "colab": {
          "base_uri": "https://localhost:8080/",
          "height": 318
        },
        "id": "hSwan9SPCBNQ",
        "outputId": "bcaf7bce-7750-489f-800b-438136677cad"
      },
      "execution_count": 134,
      "outputs": [
        {
          "output_type": "display_data",
          "data": {
            "text/html": [
              "<table class=\"dataframe\">\n",
              "<caption>A grouped_df: 7 × 3</caption>\n",
              "<thead>\n",
              "\t<tr><th scope=col>member_casual</th><th scope=col>rideable_type</th><th scope=col>time</th></tr>\n",
              "\t<tr><th scope=col>&lt;chr&gt;</th><th scope=col>&lt;chr&gt;</th><th scope=col>&lt;drtn&gt;</th></tr>\n",
              "</thead>\n",
              "<tbody>\n",
              "\t<tr><td>casual</td><td>classic_bike    </td><td>29.516859 mins</td></tr>\n",
              "\t<tr><td>casual</td><td>docked_bike     </td><td>81.668057 mins</td></tr>\n",
              "\t<tr><td>casual</td><td>electric_bike   </td><td>16.195892 mins</td></tr>\n",
              "\t<tr><td>casual</td><td>electric_scooter</td><td>11.299602 mins</td></tr>\n",
              "\t<tr><td>member</td><td>classic_bike    </td><td>13.686059 mins</td></tr>\n",
              "\t<tr><td>member</td><td>electric_bike   </td><td>11.112978 mins</td></tr>\n",
              "\t<tr><td>member</td><td>electric_scooter</td><td> 7.889804 mins</td></tr>\n",
              "</tbody>\n",
              "</table>\n"
            ],
            "text/markdown": "\nA grouped_df: 7 × 3\n\n| member_casual &lt;chr&gt; | rideable_type &lt;chr&gt; | time &lt;drtn&gt; |\n|---|---|---|\n| casual | classic_bike     | 29.516859 mins |\n| casual | docked_bike      | 81.668057 mins |\n| casual | electric_bike    | 16.195892 mins |\n| casual | electric_scooter | 11.299602 mins |\n| member | classic_bike     | 13.686059 mins |\n| member | electric_bike    | 11.112978 mins |\n| member | electric_scooter |  7.889804 mins |\n\n",
            "text/latex": "A grouped\\_df: 7 × 3\n\\begin{tabular}{lll}\n member\\_casual & rideable\\_type & time\\\\\n <chr> & <chr> & <drtn>\\\\\n\\hline\n\t casual & classic\\_bike     & 29.516859 mins\\\\\n\t casual & docked\\_bike      & 81.668057 mins\\\\\n\t casual & electric\\_bike    & 16.195892 mins\\\\\n\t casual & electric\\_scooter & 11.299602 mins\\\\\n\t member & classic\\_bike     & 13.686059 mins\\\\\n\t member & electric\\_bike    & 11.112978 mins\\\\\n\t member & electric\\_scooter &  7.889804 mins\\\\\n\\end{tabular}\n",
            "text/plain": [
              "  member_casual rideable_type    time          \n",
              "1 casual        classic_bike     29.516859 mins\n",
              "2 casual        docked_bike      81.668057 mins\n",
              "3 casual        electric_bike    16.195892 mins\n",
              "4 casual        electric_scooter 11.299602 mins\n",
              "5 member        classic_bike     13.686059 mins\n",
              "6 member        electric_bike    11.112978 mins\n",
              "7 member        electric_scooter  7.889804 mins"
            ]
          },
          "metadata": {}
        }
      ]
    },
    {
      "cell_type": "code",
      "source": [
        "#average ride_length\n",
        "cyclistic_date %>% group_by(rideable_type) %>%\n",
        "  summarise_at(vars(ride_length),\n",
        "               list(time = mean))"
      ],
      "metadata": {
        "colab": {
          "base_uri": "https://localhost:8080/",
          "height": 224
        },
        "id": "tcqESH2jCF9G",
        "outputId": "d6cac3ad-f00e-4381-d2eb-b41cc4d90c7d"
      },
      "execution_count": 135,
      "outputs": [
        {
          "output_type": "display_data",
          "data": {
            "text/html": [
              "<table class=\"dataframe\">\n",
              "<caption>A tibble: 4 × 2</caption>\n",
              "<thead>\n",
              "\t<tr><th scope=col>rideable_type</th><th scope=col>time</th></tr>\n",
              "\t<tr><th scope=col>&lt;chr&gt;</th><th scope=col>&lt;drtn&gt;</th></tr>\n",
              "</thead>\n",
              "<tbody>\n",
              "\t<tr><td>classic_bike    </td><td>19.498837 mins</td></tr>\n",
              "\t<tr><td>docked_bike     </td><td>81.668057 mins</td></tr>\n",
              "\t<tr><td>electric_bike   </td><td>13.067993 mins</td></tr>\n",
              "\t<tr><td>electric_scooter</td><td> 9.724922 mins</td></tr>\n",
              "</tbody>\n",
              "</table>\n"
            ],
            "text/markdown": "\nA tibble: 4 × 2\n\n| rideable_type &lt;chr&gt; | time &lt;drtn&gt; |\n|---|---|\n| classic_bike     | 19.498837 mins |\n| docked_bike      | 81.668057 mins |\n| electric_bike    | 13.067993 mins |\n| electric_scooter |  9.724922 mins |\n\n",
            "text/latex": "A tibble: 4 × 2\n\\begin{tabular}{ll}\n rideable\\_type & time\\\\\n <chr> & <drtn>\\\\\n\\hline\n\t classic\\_bike     & 19.498837 mins\\\\\n\t docked\\_bike      & 81.668057 mins\\\\\n\t electric\\_bike    & 13.067993 mins\\\\\n\t electric\\_scooter &  9.724922 mins\\\\\n\\end{tabular}\n",
            "text/plain": [
              "  rideable_type    time          \n",
              "1 classic_bike     19.498837 mins\n",
              "2 docked_bike      81.668057 mins\n",
              "3 electric_bike    13.067993 mins\n",
              "4 electric_scooter  9.724922 mins"
            ]
          },
          "metadata": {}
        }
      ]
    },
    {
      "cell_type": "code",
      "source": [
        "#-----------------------HOUR-------------------------\n",
        "\n",
        "#average ride_length by member type\n",
        "cyclistic_date %>% group_by(hour, member_casual) %>%\n",
        "  summarise_at(vars(ride_length),\n",
        "               list(time = mean)) %>%\n",
        "  print(n=48) #lets you view entire tibble"
      ],
      "metadata": {
        "colab": {
          "base_uri": "https://localhost:8080/"
        },
        "id": "9GXAEi1FCKm_",
        "outputId": "0c479a48-fae1-4bd2-ae7e-cdf9025f31de"
      },
      "execution_count": 136,
      "outputs": [
        {
          "output_type": "stream",
          "name": "stdout",
          "text": [
            "\u001b[90m# A tibble: 48 × 3\u001b[39m\n",
            "\u001b[90m# Groups:   hour [24]\u001b[39m\n",
            "    hour member_casual time         \n",
            "   \u001b[3m\u001b[90m<int>\u001b[39m\u001b[23m \u001b[3m\u001b[90m<chr>\u001b[39m\u001b[23m         \u001b[3m\u001b[90m<drtn>\u001b[39m\u001b[23m       \n",
            "\u001b[90m 1\u001b[39m     0 casual        22.53673 mins\n",
            "\u001b[90m 2\u001b[39m     0 member        12.38192 mins\n",
            "\u001b[90m 3\u001b[39m     1 casual        23.57330 mins\n",
            "\u001b[90m 4\u001b[39m     1 member        12.87379 mins\n",
            "\u001b[90m 5\u001b[39m     2 casual        21.90147 mins\n",
            "\u001b[90m 6\u001b[39m     2 member        12.82684 mins\n",
            "\u001b[90m 7\u001b[39m     3 casual        26.33341 mins\n",
            "\u001b[90m 8\u001b[39m     3 member        12.00130 mins\n",
            "\u001b[90m 9\u001b[39m     4 casual        20.66437 mins\n",
            "\u001b[90m10\u001b[39m     4 member        12.76455 mins\n",
            "\u001b[90m11\u001b[39m     5 casual        15.45471 mins\n",
            "\u001b[90m12\u001b[39m     5 member        11.00344 mins\n",
            "\u001b[90m13\u001b[39m     6 casual        16.80156 mins\n",
            "\u001b[90m14\u001b[39m     6 member        10.79632 mins\n",
            "\u001b[90m15\u001b[39m     7 casual        16.74754 mins\n",
            "\u001b[90m16\u001b[39m     7 member        11.56854 mins\n",
            "\u001b[90m17\u001b[39m     8 casual        18.39825 mins\n",
            "\u001b[90m18\u001b[39m     8 member        11.52204 mins\n",
            "\u001b[90m19\u001b[39m     9 casual        25.79911 mins\n",
            "\u001b[90m20\u001b[39m     9 member        11.85770 mins\n",
            "\u001b[90m21\u001b[39m    10 casual        30.65824 mins\n",
            "\u001b[90m22\u001b[39m    10 member        12.88562 mins\n",
            "\u001b[90m23\u001b[39m    11 casual        30.38281 mins\n",
            "\u001b[90m24\u001b[39m    11 member        12.84575 mins\n",
            "\u001b[90m25\u001b[39m    12 casual        28.90301 mins\n",
            "\u001b[90m26\u001b[39m    12 member        12.78072 mins\n",
            "\u001b[90m27\u001b[39m    13 casual        29.30393 mins\n",
            "\u001b[90m28\u001b[39m    13 member        12.91830 mins\n",
            "\u001b[90m29\u001b[39m    14 casual        28.67940 mins\n",
            "\u001b[90m30\u001b[39m    14 member        13.12814 mins\n",
            "\u001b[90m31\u001b[39m    15 casual        26.79603 mins\n",
            "\u001b[90m32\u001b[39m    15 member        13.14184 mins\n",
            "\u001b[90m33\u001b[39m    16 casual        25.14717 mins\n",
            "\u001b[90m34\u001b[39m    16 member        13.28284 mins\n",
            "\u001b[90m35\u001b[39m    17 casual        24.16453 mins\n",
            "\u001b[90m36\u001b[39m    17 member        13.71351 mins\n",
            "\u001b[90m37\u001b[39m    18 casual        23.75439 mins\n",
            "\u001b[90m38\u001b[39m    18 member        13.40940 mins\n",
            "\u001b[90m39\u001b[39m    19 casual        23.17234 mins\n",
            "\u001b[90m40\u001b[39m    19 member        13.24787 mins\n",
            "\u001b[90m41\u001b[39m    20 casual        22.90632 mins\n",
            "\u001b[90m42\u001b[39m    20 member        13.04016 mins\n",
            "\u001b[90m43\u001b[39m    21 casual        21.90309 mins\n",
            "\u001b[90m44\u001b[39m    21 member        12.82567 mins\n",
            "\u001b[90m45\u001b[39m    22 casual        22.71342 mins\n",
            "\u001b[90m46\u001b[39m    22 member        13.23471 mins\n",
            "\u001b[90m47\u001b[39m    23 casual        23.23745 mins\n",
            "\u001b[90m48\u001b[39m    23 member        12.79307 mins\n"
          ]
        }
      ]
    },
    {
      "cell_type": "code",
      "source": [
        "#average ride_length\n",
        "cyclistic_date %>% group_by(hour) %>%\n",
        "  summarise_at(vars(ride_length),\n",
        "               list(time = mean)) %>%\n",
        "  print(n=24) #lets you view entire tibble"
      ],
      "metadata": {
        "colab": {
          "base_uri": "https://localhost:8080/"
        },
        "id": "K90ajRlnCO5u",
        "outputId": "2ecf473b-362b-458d-b88d-e2c2bd15a58e"
      },
      "execution_count": 137,
      "outputs": [
        {
          "output_type": "stream",
          "name": "stdout",
          "text": [
            "\u001b[90m# A tibble: 24 × 2\u001b[39m\n",
            "    hour time         \n",
            "   \u001b[3m\u001b[90m<int>\u001b[39m\u001b[23m \u001b[3m\u001b[90m<drtn>\u001b[39m\u001b[23m       \n",
            "\u001b[90m 1\u001b[39m     0 17.96803 mins\n",
            "\u001b[90m 2\u001b[39m     1 19.06174 mins\n",
            "\u001b[90m 3\u001b[39m     2 18.26363 mins\n",
            "\u001b[90m 4\u001b[39m     3 19.78049 mins\n",
            "\u001b[90m 5\u001b[39m     4 16.03750 mins\n",
            "\u001b[90m 6\u001b[39m     5 12.10373 mins\n",
            "\u001b[90m 7\u001b[39m     6 12.02926 mins\n",
            "\u001b[90m 8\u001b[39m     7 12.62502 mins\n",
            "\u001b[90m 9\u001b[39m     8 13.08638 mins\n",
            "\u001b[90m10\u001b[39m     9 16.25540 mins\n",
            "\u001b[90m11\u001b[39m    10 20.03580 mins\n",
            "\u001b[90m12\u001b[39m    11 20.29848 mins\n",
            "\u001b[90m13\u001b[39m    12 19.71900 mins\n",
            "\u001b[90m14\u001b[39m    13 20.15568 mins\n",
            "\u001b[90m15\u001b[39m    14 20.12224 mins\n",
            "\u001b[90m16\u001b[39m    15 18.88262 mins\n",
            "\u001b[90m17\u001b[39m    16 17.67920 mins\n",
            "\u001b[90m18\u001b[39m    17 17.37283 mins\n",
            "\u001b[90m19\u001b[39m    18 17.24399 mins\n",
            "\u001b[90m20\u001b[39m    19 17.00631 mins\n",
            "\u001b[90m21\u001b[39m    20 16.88763 mins\n",
            "\u001b[90m22\u001b[39m    21 16.54988 mins\n",
            "\u001b[90m23\u001b[39m    22 17.68231 mins\n",
            "\u001b[90m24\u001b[39m    23 18.00433 mins\n"
          ]
        }
      ]
    },
    {
      "cell_type": "code",
      "source": [
        "#--------------------TIME OF DAY---------------------\n",
        "\n",
        "#----morning----\n",
        "\n",
        "#average ride length by member type\n",
        "cyclistic_date %>%\n",
        "  group_by(member_casual) %>%\n",
        "  filter(time_of_day == \"Morning\") %>%\n",
        "  summarise_at(vars(ride_length),\n",
        "               list(time = mean))"
      ],
      "metadata": {
        "colab": {
          "base_uri": "https://localhost:8080/",
          "height": 161
        },
        "id": "tvfNdyIJCTv-",
        "outputId": "b54dc683-9947-4377-f8eb-8cebd9e34384"
      },
      "execution_count": 138,
      "outputs": [
        {
          "output_type": "display_data",
          "data": {
            "text/html": [
              "<table class=\"dataframe\">\n",
              "<caption>A tibble: 2 × 2</caption>\n",
              "<thead>\n",
              "\t<tr><th scope=col>member_casual</th><th scope=col>time</th></tr>\n",
              "\t<tr><th scope=col>&lt;chr&gt;</th><th scope=col>&lt;drtn&gt;</th></tr>\n",
              "</thead>\n",
              "<tbody>\n",
              "\t<tr><td>casual</td><td>25.34581 mins</td></tr>\n",
              "\t<tr><td>member</td><td>11.91910 mins</td></tr>\n",
              "</tbody>\n",
              "</table>\n"
            ],
            "text/markdown": "\nA tibble: 2 × 2\n\n| member_casual &lt;chr&gt; | time &lt;drtn&gt; |\n|---|---|\n| casual | 25.34581 mins |\n| member | 11.91910 mins |\n\n",
            "text/latex": "A tibble: 2 × 2\n\\begin{tabular}{ll}\n member\\_casual & time\\\\\n <chr> & <drtn>\\\\\n\\hline\n\t casual & 25.34581 mins\\\\\n\t member & 11.91910 mins\\\\\n\\end{tabular}\n",
            "text/plain": [
              "  member_casual time         \n",
              "1 casual        25.34581 mins\n",
              "2 member        11.91910 mins"
            ]
          },
          "metadata": {}
        }
      ]
    },
    {
      "cell_type": "code",
      "source": [
        "#average ride length\n",
        "cyclistic_date %>%\n",
        "  filter(time_of_day == \"Morning\") %>%\n",
        "  summarise_at(vars(ride_length),\n",
        "               list(time = mean))"
      ],
      "metadata": {
        "colab": {
          "base_uri": "https://localhost:8080/",
          "height": 129
        },
        "id": "0p2cj8X-CYga",
        "outputId": "b5db3138-6c47-42cb-9356-a8932ebe5591"
      },
      "execution_count": 139,
      "outputs": [
        {
          "output_type": "display_data",
          "data": {
            "text/html": [
              "<table class=\"dataframe\">\n",
              "<caption>A tibble: 1 × 1</caption>\n",
              "<thead>\n",
              "\t<tr><th scope=col>time</th></tr>\n",
              "\t<tr><th scope=col>&lt;drtn&gt;</th></tr>\n",
              "</thead>\n",
              "<tbody>\n",
              "\t<tr><td>15.99438 mins</td></tr>\n",
              "</tbody>\n",
              "</table>\n"
            ],
            "text/markdown": "\nA tibble: 1 × 1\n\n| time &lt;drtn&gt; |\n|---|\n| 15.99438 mins |\n\n",
            "text/latex": "A tibble: 1 × 1\n\\begin{tabular}{l}\n time\\\\\n <drtn>\\\\\n\\hline\n\t 15.99438 mins\\\\\n\\end{tabular}\n",
            "text/plain": [
              "  time         \n",
              "1 15.99438 mins"
            ]
          },
          "metadata": {}
        }
      ]
    },
    {
      "cell_type": "code",
      "source": [
        "#----afternoon----\n",
        "\n",
        "#average ride length by member type\n",
        "cyclistic_date %>%\n",
        "  group_by(member_casual) %>%\n",
        "  filter(time_of_day == \"Afternoon\") %>%\n",
        "  summarise_at(vars(ride_length),\n",
        "               list(time = mean))"
      ],
      "metadata": {
        "colab": {
          "base_uri": "https://localhost:8080/",
          "height": 161
        },
        "id": "40DWGBlHCdaK",
        "outputId": "71eaf46b-351e-488d-923e-e5caedd561bc"
      },
      "execution_count": 140,
      "outputs": [
        {
          "output_type": "display_data",
          "data": {
            "text/html": [
              "<table class=\"dataframe\">\n",
              "<caption>A tibble: 2 × 2</caption>\n",
              "<thead>\n",
              "\t<tr><th scope=col>member_casual</th><th scope=col>time</th></tr>\n",
              "\t<tr><th scope=col>&lt;chr&gt;</th><th scope=col>&lt;drtn&gt;</th></tr>\n",
              "</thead>\n",
              "<tbody>\n",
              "\t<tr><td>casual</td><td>26.90996 mins</td></tr>\n",
              "\t<tr><td>member</td><td>13.24110 mins</td></tr>\n",
              "</tbody>\n",
              "</table>\n"
            ],
            "text/markdown": "\nA tibble: 2 × 2\n\n| member_casual &lt;chr&gt; | time &lt;drtn&gt; |\n|---|---|\n| casual | 26.90996 mins |\n| member | 13.24110 mins |\n\n",
            "text/latex": "A tibble: 2 × 2\n\\begin{tabular}{ll}\n member\\_casual & time\\\\\n <chr> & <drtn>\\\\\n\\hline\n\t casual & 26.90996 mins\\\\\n\t member & 13.24110 mins\\\\\n\\end{tabular}\n",
            "text/plain": [
              "  member_casual time         \n",
              "1 casual        26.90996 mins\n",
              "2 member        13.24110 mins"
            ]
          },
          "metadata": {}
        }
      ]
    },
    {
      "cell_type": "code",
      "source": [
        "#average ride length\n",
        "cyclistic_date %>%\n",
        "  filter(time_of_day == \"Afternoon\") %>%\n",
        "  summarise_at(vars(ride_length),\n",
        "               list(time = mean))"
      ],
      "metadata": {
        "colab": {
          "base_uri": "https://localhost:8080/",
          "height": 129
        },
        "id": "Dd4Qr58FCiKG",
        "outputId": "0bf17cf0-55c4-45b0-bbc0-6947c6a82286"
      },
      "execution_count": 141,
      "outputs": [
        {
          "output_type": "display_data",
          "data": {
            "text/html": [
              "<table class=\"dataframe\">\n",
              "<caption>A tibble: 1 × 1</caption>\n",
              "<thead>\n",
              "\t<tr><th scope=col>time</th></tr>\n",
              "\t<tr><th scope=col>&lt;drtn&gt;</th></tr>\n",
              "</thead>\n",
              "<tbody>\n",
              "\t<tr><td>18.7369 mins</td></tr>\n",
              "</tbody>\n",
              "</table>\n"
            ],
            "text/markdown": "\nA tibble: 1 × 1\n\n| time &lt;drtn&gt; |\n|---|\n| 18.7369 mins |\n\n",
            "text/latex": "A tibble: 1 × 1\n\\begin{tabular}{l}\n time\\\\\n <drtn>\\\\\n\\hline\n\t 18.7369 mins\\\\\n\\end{tabular}\n",
            "text/plain": [
              "  time        \n",
              "1 18.7369 mins"
            ]
          },
          "metadata": {}
        }
      ]
    },
    {
      "cell_type": "code",
      "source": [
        "#----evening----\n",
        "\n",
        "#average ride length by member type\n",
        "cyclistic_date %>%\n",
        "  group_by(member_casual) %>%\n",
        "  filter(time_of_day == \"Evening\") %>%\n",
        "  summarise_at(vars(ride_length),\n",
        "               list(time = mean))\n"
      ],
      "metadata": {
        "colab": {
          "base_uri": "https://localhost:8080/",
          "height": 161
        },
        "id": "rlNo_37qCmNy",
        "outputId": "ce210ff4-2854-4c09-9c7e-da21e5d0148d"
      },
      "execution_count": 142,
      "outputs": [
        {
          "output_type": "display_data",
          "data": {
            "text/html": [
              "<table class=\"dataframe\">\n",
              "<caption>A tibble: 2 × 2</caption>\n",
              "<thead>\n",
              "\t<tr><th scope=col>member_casual</th><th scope=col>time</th></tr>\n",
              "\t<tr><th scope=col>&lt;chr&gt;</th><th scope=col>&lt;drtn&gt;</th></tr>\n",
              "</thead>\n",
              "<tbody>\n",
              "\t<tr><td>casual</td><td>23.10137 mins</td></tr>\n",
              "\t<tr><td>member</td><td>13.19441 mins</td></tr>\n",
              "</tbody>\n",
              "</table>\n"
            ],
            "text/markdown": "\nA tibble: 2 × 2\n\n| member_casual &lt;chr&gt; | time &lt;drtn&gt; |\n|---|---|\n| casual | 23.10137 mins |\n| member | 13.19441 mins |\n\n",
            "text/latex": "A tibble: 2 × 2\n\\begin{tabular}{ll}\n member\\_casual & time\\\\\n <chr> & <drtn>\\\\\n\\hline\n\t casual & 23.10137 mins\\\\\n\t member & 13.19441 mins\\\\\n\\end{tabular}\n",
            "text/plain": [
              "  member_casual time         \n",
              "1 casual        23.10137 mins\n",
              "2 member        13.19441 mins"
            ]
          },
          "metadata": {}
        }
      ]
    },
    {
      "cell_type": "code",
      "source": [
        "#average ride length\n",
        "cyclistic_date %>%\n",
        "  filter(time_of_day == \"Evening\") %>%\n",
        "  summarise_at(vars(ride_length),\n",
        "               list(time = mean))"
      ],
      "metadata": {
        "colab": {
          "base_uri": "https://localhost:8080/",
          "height": 129
        },
        "id": "Ybqv7p72CsfR",
        "outputId": "0f451128-527d-44bb-ef51-e95faadf423a"
      },
      "execution_count": 143,
      "outputs": [
        {
          "output_type": "display_data",
          "data": {
            "text/html": [
              "<table class=\"dataframe\">\n",
              "<caption>A tibble: 1 × 1</caption>\n",
              "<thead>\n",
              "\t<tr><th scope=col>time</th></tr>\n",
              "\t<tr><th scope=col>&lt;drtn&gt;</th></tr>\n",
              "</thead>\n",
              "<tbody>\n",
              "\t<tr><td>17.13398 mins</td></tr>\n",
              "</tbody>\n",
              "</table>\n"
            ],
            "text/markdown": "\nA tibble: 1 × 1\n\n| time &lt;drtn&gt; |\n|---|\n| 17.13398 mins |\n\n",
            "text/latex": "A tibble: 1 × 1\n\\begin{tabular}{l}\n time\\\\\n <drtn>\\\\\n\\hline\n\t 17.13398 mins\\\\\n\\end{tabular}\n",
            "text/plain": [
              "  time         \n",
              "1 17.13398 mins"
            ]
          },
          "metadata": {}
        }
      ]
    },
    {
      "cell_type": "code",
      "source": [
        "#----night----\n",
        "\n",
        "#average ride length by member type\n",
        "cyclistic_date %>%\n",
        "  group_by(member_casual) %>%\n",
        "  filter(time_of_day == \"Night\") %>%\n",
        "  summarise_at(vars(ride_length),\n",
        "               list(time = mean))\n"
      ],
      "metadata": {
        "colab": {
          "base_uri": "https://localhost:8080/",
          "height": 161
        },
        "id": "p4fXJy7vC2Ud",
        "outputId": "b1ba0cfe-c8c2-4522-c5cc-75a367f72030"
      },
      "execution_count": 144,
      "outputs": [
        {
          "output_type": "display_data",
          "data": {
            "text/html": [
              "<table class=\"dataframe\">\n",
              "<caption>A tibble: 2 × 2</caption>\n",
              "<thead>\n",
              "\t<tr><th scope=col>member_casual</th><th scope=col>time</th></tr>\n",
              "\t<tr><th scope=col>&lt;chr&gt;</th><th scope=col>&lt;drtn&gt;</th></tr>\n",
              "</thead>\n",
              "<tbody>\n",
              "\t<tr><td>casual</td><td>21.94847 mins</td></tr>\n",
              "\t<tr><td>member</td><td>12.00823 mins</td></tr>\n",
              "</tbody>\n",
              "</table>\n"
            ],
            "text/markdown": "\nA tibble: 2 × 2\n\n| member_casual &lt;chr&gt; | time &lt;drtn&gt; |\n|---|---|\n| casual | 21.94847 mins |\n| member | 12.00823 mins |\n\n",
            "text/latex": "A tibble: 2 × 2\n\\begin{tabular}{ll}\n member\\_casual & time\\\\\n <chr> & <drtn>\\\\\n\\hline\n\t casual & 21.94847 mins\\\\\n\t member & 12.00823 mins\\\\\n\\end{tabular}\n",
            "text/plain": [
              "  member_casual time         \n",
              "1 casual        21.94847 mins\n",
              "2 member        12.00823 mins"
            ]
          },
          "metadata": {}
        }
      ]
    },
    {
      "cell_type": "code",
      "source": [
        "#average ride length\n",
        "cyclistic_date %>%\n",
        "  filter(time_of_day == \"Night\") %>%\n",
        "  summarise_at(vars(ride_length),\n",
        "               list(time = mean))"
      ],
      "metadata": {
        "colab": {
          "base_uri": "https://localhost:8080/",
          "height": 129
        },
        "id": "gEwa7KEUC7Dj",
        "outputId": "e942ac66-bc39-4c09-8e4b-6c48d624fe83"
      },
      "execution_count": 145,
      "outputs": [
        {
          "output_type": "display_data",
          "data": {
            "text/html": [
              "<table class=\"dataframe\">\n",
              "<caption>A tibble: 1 × 1</caption>\n",
              "<thead>\n",
              "\t<tr><th scope=col>time</th></tr>\n",
              "\t<tr><th scope=col>&lt;drtn&gt;</th></tr>\n",
              "</thead>\n",
              "<tbody>\n",
              "\t<tr><td>16.73673 mins</td></tr>\n",
              "</tbody>\n",
              "</table>\n"
            ],
            "text/markdown": "\nA tibble: 1 × 1\n\n| time &lt;drtn&gt; |\n|---|\n| 16.73673 mins |\n\n",
            "text/latex": "A tibble: 1 × 1\n\\begin{tabular}{l}\n time\\\\\n <drtn>\\\\\n\\hline\n\t 16.73673 mins\\\\\n\\end{tabular}\n",
            "text/plain": [
              "  time         \n",
              "1 16.73673 mins"
            ]
          },
          "metadata": {}
        }
      ]
    },
    {
      "cell_type": "code",
      "source": [
        "#---all times of day---\n",
        "\n",
        "#average ride length by member type\n",
        "cyclistic_date %>%\n",
        "  group_by(time_of_day, member_casual) %>%\n",
        "  summarise_at(vars(ride_length),\n",
        "               list(time = mean))"
      ],
      "metadata": {
        "colab": {
          "base_uri": "https://localhost:8080/",
          "height": 349
        },
        "id": "lkk9kYA6C-gs",
        "outputId": "24705a06-4bc4-4074-d59a-add169575000"
      },
      "execution_count": 146,
      "outputs": [
        {
          "output_type": "display_data",
          "data": {
            "text/html": [
              "<table class=\"dataframe\">\n",
              "<caption>A grouped_df: 8 × 3</caption>\n",
              "<thead>\n",
              "\t<tr><th scope=col>time_of_day</th><th scope=col>member_casual</th><th scope=col>time</th></tr>\n",
              "\t<tr><th scope=col>&lt;chr&gt;</th><th scope=col>&lt;chr&gt;</th><th scope=col>&lt;drtn&gt;</th></tr>\n",
              "</thead>\n",
              "<tbody>\n",
              "\t<tr><td>Afternoon</td><td>casual</td><td>26.90996 mins</td></tr>\n",
              "\t<tr><td>Afternoon</td><td>member</td><td>13.24110 mins</td></tr>\n",
              "\t<tr><td>Evening  </td><td>casual</td><td>23.10137 mins</td></tr>\n",
              "\t<tr><td>Evening  </td><td>member</td><td>13.19441 mins</td></tr>\n",
              "\t<tr><td>Morning  </td><td>casual</td><td>25.34581 mins</td></tr>\n",
              "\t<tr><td>Morning  </td><td>member</td><td>11.91910 mins</td></tr>\n",
              "\t<tr><td>Night    </td><td>casual</td><td>21.94847 mins</td></tr>\n",
              "\t<tr><td>Night    </td><td>member</td><td>12.00823 mins</td></tr>\n",
              "</tbody>\n",
              "</table>\n"
            ],
            "text/markdown": "\nA grouped_df: 8 × 3\n\n| time_of_day &lt;chr&gt; | member_casual &lt;chr&gt; | time &lt;drtn&gt; |\n|---|---|---|\n| Afternoon | casual | 26.90996 mins |\n| Afternoon | member | 13.24110 mins |\n| Evening   | casual | 23.10137 mins |\n| Evening   | member | 13.19441 mins |\n| Morning   | casual | 25.34581 mins |\n| Morning   | member | 11.91910 mins |\n| Night     | casual | 21.94847 mins |\n| Night     | member | 12.00823 mins |\n\n",
            "text/latex": "A grouped\\_df: 8 × 3\n\\begin{tabular}{lll}\n time\\_of\\_day & member\\_casual & time\\\\\n <chr> & <chr> & <drtn>\\\\\n\\hline\n\t Afternoon & casual & 26.90996 mins\\\\\n\t Afternoon & member & 13.24110 mins\\\\\n\t Evening   & casual & 23.10137 mins\\\\\n\t Evening   & member & 13.19441 mins\\\\\n\t Morning   & casual & 25.34581 mins\\\\\n\t Morning   & member & 11.91910 mins\\\\\n\t Night     & casual & 21.94847 mins\\\\\n\t Night     & member & 12.00823 mins\\\\\n\\end{tabular}\n",
            "text/plain": [
              "  time_of_day member_casual time         \n",
              "1 Afternoon   casual        26.90996 mins\n",
              "2 Afternoon   member        13.24110 mins\n",
              "3 Evening     casual        23.10137 mins\n",
              "4 Evening     member        13.19441 mins\n",
              "5 Morning     casual        25.34581 mins\n",
              "6 Morning     member        11.91910 mins\n",
              "7 Night       casual        21.94847 mins\n",
              "8 Night       member        12.00823 mins"
            ]
          },
          "metadata": {}
        }
      ]
    },
    {
      "cell_type": "code",
      "source": [
        "#average ride length\n",
        "cyclistic_date %>%\n",
        "  group_by(time_of_day) %>%\n",
        "  summarise_at(vars(ride_length),\n",
        "               list(time = mean))"
      ],
      "metadata": {
        "colab": {
          "base_uri": "https://localhost:8080/",
          "height": 224
        },
        "id": "5kVyhxIaDDPU",
        "outputId": "89d65ad5-4dbc-46d5-dfb8-f8c62e224450"
      },
      "execution_count": 147,
      "outputs": [
        {
          "output_type": "display_data",
          "data": {
            "text/html": [
              "<table class=\"dataframe\">\n",
              "<caption>A tibble: 4 × 2</caption>\n",
              "<thead>\n",
              "\t<tr><th scope=col>time_of_day</th><th scope=col>time</th></tr>\n",
              "\t<tr><th scope=col>&lt;chr&gt;</th><th scope=col>&lt;drtn&gt;</th></tr>\n",
              "</thead>\n",
              "<tbody>\n",
              "\t<tr><td>Afternoon</td><td>18.73690 mins</td></tr>\n",
              "\t<tr><td>Evening  </td><td>17.13398 mins</td></tr>\n",
              "\t<tr><td>Morning  </td><td>15.99438 mins</td></tr>\n",
              "\t<tr><td>Night    </td><td>16.73673 mins</td></tr>\n",
              "</tbody>\n",
              "</table>\n"
            ],
            "text/markdown": "\nA tibble: 4 × 2\n\n| time_of_day &lt;chr&gt; | time &lt;drtn&gt; |\n|---|---|\n| Afternoon | 18.73690 mins |\n| Evening   | 17.13398 mins |\n| Morning   | 15.99438 mins |\n| Night     | 16.73673 mins |\n\n",
            "text/latex": "A tibble: 4 × 2\n\\begin{tabular}{ll}\n time\\_of\\_day & time\\\\\n <chr> & <drtn>\\\\\n\\hline\n\t Afternoon & 18.73690 mins\\\\\n\t Evening   & 17.13398 mins\\\\\n\t Morning   & 15.99438 mins\\\\\n\t Night     & 16.73673 mins\\\\\n\\end{tabular}\n",
            "text/plain": [
              "  time_of_day time         \n",
              "1 Afternoon   18.73690 mins\n",
              "2 Evening     17.13398 mins\n",
              "3 Morning     15.99438 mins\n",
              "4 Night       16.73673 mins"
            ]
          },
          "metadata": {}
        }
      ]
    },
    {
      "cell_type": "code",
      "source": [
        "#-------------------DAY OF THE WEEK-----------------\n",
        "\n",
        "#average ride_length by member type\n",
        "cyclistic_date %>% group_by(member_casual, day_of_week) %>%\n",
        "  summarise_at(vars(ride_length),\n",
        "               list(time = mean))"
      ],
      "metadata": {
        "colab": {
          "base_uri": "https://localhost:8080/",
          "height": 537
        },
        "id": "XgBhI2AYDIgv",
        "outputId": "8fe910be-19d4-4769-ffba-768357f7c80d"
      },
      "execution_count": 148,
      "outputs": [
        {
          "output_type": "display_data",
          "data": {
            "text/html": [
              "<table class=\"dataframe\">\n",
              "<caption>A grouped_df: 14 × 3</caption>\n",
              "<thead>\n",
              "\t<tr><th scope=col>member_casual</th><th scope=col>day_of_week</th><th scope=col>time</th></tr>\n",
              "\t<tr><th scope=col>&lt;chr&gt;</th><th scope=col>&lt;chr&gt;</th><th scope=col>&lt;drtn&gt;</th></tr>\n",
              "</thead>\n",
              "<tbody>\n",
              "\t<tr><td>casual</td><td>Friday   </td><td>24.03235 mins</td></tr>\n",
              "\t<tr><td>casual</td><td>Monday   </td><td>25.24492 mins</td></tr>\n",
              "\t<tr><td>casual</td><td>Saturday </td><td>28.82864 mins</td></tr>\n",
              "\t<tr><td>casual</td><td>Sunday   </td><td>28.99528 mins</td></tr>\n",
              "\t<tr><td>casual</td><td>Thursday </td><td>21.68781 mins</td></tr>\n",
              "\t<tr><td>casual</td><td>Tuesday  </td><td>22.20551 mins</td></tr>\n",
              "\t<tr><td>casual</td><td>Wednesday</td><td>22.31285 mins</td></tr>\n",
              "\t<tr><td>member</td><td>Friday   </td><td>12.39709 mins</td></tr>\n",
              "\t<tr><td>member</td><td>Monday   </td><td>12.21753 mins</td></tr>\n",
              "\t<tr><td>member</td><td>Saturday </td><td>14.51043 mins</td></tr>\n",
              "\t<tr><td>member</td><td>Sunday   </td><td>14.52659 mins</td></tr>\n",
              "\t<tr><td>member</td><td>Thursday </td><td>12.08852 mins</td></tr>\n",
              "\t<tr><td>member</td><td>Tuesday  </td><td>12.25430 mins</td></tr>\n",
              "\t<tr><td>member</td><td>Wednesday</td><td>12.47314 mins</td></tr>\n",
              "</tbody>\n",
              "</table>\n"
            ],
            "text/markdown": "\nA grouped_df: 14 × 3\n\n| member_casual &lt;chr&gt; | day_of_week &lt;chr&gt; | time &lt;drtn&gt; |\n|---|---|---|\n| casual | Friday    | 24.03235 mins |\n| casual | Monday    | 25.24492 mins |\n| casual | Saturday  | 28.82864 mins |\n| casual | Sunday    | 28.99528 mins |\n| casual | Thursday  | 21.68781 mins |\n| casual | Tuesday   | 22.20551 mins |\n| casual | Wednesday | 22.31285 mins |\n| member | Friday    | 12.39709 mins |\n| member | Monday    | 12.21753 mins |\n| member | Saturday  | 14.51043 mins |\n| member | Sunday    | 14.52659 mins |\n| member | Thursday  | 12.08852 mins |\n| member | Tuesday   | 12.25430 mins |\n| member | Wednesday | 12.47314 mins |\n\n",
            "text/latex": "A grouped\\_df: 14 × 3\n\\begin{tabular}{lll}\n member\\_casual & day\\_of\\_week & time\\\\\n <chr> & <chr> & <drtn>\\\\\n\\hline\n\t casual & Friday    & 24.03235 mins\\\\\n\t casual & Monday    & 25.24492 mins\\\\\n\t casual & Saturday  & 28.82864 mins\\\\\n\t casual & Sunday    & 28.99528 mins\\\\\n\t casual & Thursday  & 21.68781 mins\\\\\n\t casual & Tuesday   & 22.20551 mins\\\\\n\t casual & Wednesday & 22.31285 mins\\\\\n\t member & Friday    & 12.39709 mins\\\\\n\t member & Monday    & 12.21753 mins\\\\\n\t member & Saturday  & 14.51043 mins\\\\\n\t member & Sunday    & 14.52659 mins\\\\\n\t member & Thursday  & 12.08852 mins\\\\\n\t member & Tuesday   & 12.25430 mins\\\\\n\t member & Wednesday & 12.47314 mins\\\\\n\\end{tabular}\n",
            "text/plain": [
              "   member_casual day_of_week time         \n",
              "1  casual        Friday      24.03235 mins\n",
              "2  casual        Monday      25.24492 mins\n",
              "3  casual        Saturday    28.82864 mins\n",
              "4  casual        Sunday      28.99528 mins\n",
              "5  casual        Thursday    21.68781 mins\n",
              "6  casual        Tuesday     22.20551 mins\n",
              "7  casual        Wednesday   22.31285 mins\n",
              "8  member        Friday      12.39709 mins\n",
              "9  member        Monday      12.21753 mins\n",
              "10 member        Saturday    14.51043 mins\n",
              "11 member        Sunday      14.52659 mins\n",
              "12 member        Thursday    12.08852 mins\n",
              "13 member        Tuesday     12.25430 mins\n",
              "14 member        Wednesday   12.47314 mins"
            ]
          },
          "metadata": {}
        }
      ]
    },
    {
      "cell_type": "code",
      "source": [
        "#average ride_length\n",
        "cyclistic_date %>% group_by(day_of_week) %>%\n",
        "  summarise_at(vars(ride_length),\n",
        "               list(time = mean))"
      ],
      "metadata": {
        "colab": {
          "base_uri": "https://localhost:8080/",
          "height": 318
        },
        "id": "m6z4wXizDNSw",
        "outputId": "592625b2-3931-4e50-9dbb-a4cd1d3c2b77"
      },
      "execution_count": 149,
      "outputs": [
        {
          "output_type": "display_data",
          "data": {
            "text/html": [
              "<table class=\"dataframe\">\n",
              "<caption>A tibble: 7 × 2</caption>\n",
              "<thead>\n",
              "\t<tr><th scope=col>day_of_week</th><th scope=col>time</th></tr>\n",
              "\t<tr><th scope=col>&lt;chr&gt;</th><th scope=col>&lt;drtn&gt;</th></tr>\n",
              "</thead>\n",
              "<tbody>\n",
              "\t<tr><td>Friday   </td><td>16.89291 mins</td></tr>\n",
              "\t<tr><td>Monday   </td><td>16.52437 mins</td></tr>\n",
              "\t<tr><td>Saturday </td><td>21.77005 mins</td></tr>\n",
              "\t<tr><td>Sunday   </td><td>21.65757 mins</td></tr>\n",
              "\t<tr><td>Thursday </td><td>15.12936 mins</td></tr>\n",
              "\t<tr><td>Tuesday  </td><td>15.17264 mins</td></tr>\n",
              "\t<tr><td>Wednesday</td><td>15.50428 mins</td></tr>\n",
              "</tbody>\n",
              "</table>\n"
            ],
            "text/markdown": "\nA tibble: 7 × 2\n\n| day_of_week &lt;chr&gt; | time &lt;drtn&gt; |\n|---|---|\n| Friday    | 16.89291 mins |\n| Monday    | 16.52437 mins |\n| Saturday  | 21.77005 mins |\n| Sunday    | 21.65757 mins |\n| Thursday  | 15.12936 mins |\n| Tuesday   | 15.17264 mins |\n| Wednesday | 15.50428 mins |\n\n",
            "text/latex": "A tibble: 7 × 2\n\\begin{tabular}{ll}\n day\\_of\\_week & time\\\\\n <chr> & <drtn>\\\\\n\\hline\n\t Friday    & 16.89291 mins\\\\\n\t Monday    & 16.52437 mins\\\\\n\t Saturday  & 21.77005 mins\\\\\n\t Sunday    & 21.65757 mins\\\\\n\t Thursday  & 15.12936 mins\\\\\n\t Tuesday   & 15.17264 mins\\\\\n\t Wednesday & 15.50428 mins\\\\\n\\end{tabular}\n",
            "text/plain": [
              "  day_of_week time         \n",
              "1 Friday      16.89291 mins\n",
              "2 Monday      16.52437 mins\n",
              "3 Saturday    21.77005 mins\n",
              "4 Sunday      21.65757 mins\n",
              "5 Thursday    15.12936 mins\n",
              "6 Tuesday     15.17264 mins\n",
              "7 Wednesday   15.50428 mins"
            ]
          },
          "metadata": {}
        }
      ]
    },
    {
      "cell_type": "code",
      "source": [
        "#-----------------DAY OF THE MONTH------------------\n",
        "\n",
        "#average ride_length by member type\n",
        "cyclistic_date %>% group_by(day, member_casual) %>%\n",
        "  summarise_at(vars(ride_length),\n",
        "               list(time = mean)) %>%\n",
        "  print(n=62)  #lets you view entire tibble\n"
      ],
      "metadata": {
        "colab": {
          "base_uri": "https://localhost:8080/"
        },
        "id": "8WLZ5BmZDSRA",
        "outputId": "de9b6140-fcfe-42a2-9b10-0f1949ede895"
      },
      "execution_count": 150,
      "outputs": [
        {
          "output_type": "stream",
          "name": "stdout",
          "text": [
            "\u001b[90m# A tibble: 62 × 3\u001b[39m\n",
            "\u001b[90m# Groups:   day [31]\u001b[39m\n",
            "   day   member_casual time         \n",
            "   \u001b[3m\u001b[90m<chr>\u001b[39m\u001b[23m \u001b[3m\u001b[90m<chr>\u001b[39m\u001b[23m         \u001b[3m\u001b[90m<drtn>\u001b[39m\u001b[23m       \n",
            "\u001b[90m 1\u001b[39m 01    casual        25.42273 mins\n",
            "\u001b[90m 2\u001b[39m 01    member        12.57688 mins\n",
            "\u001b[90m 3\u001b[39m 02    casual        25.74938 mins\n",
            "\u001b[90m 4\u001b[39m 02    member        12.69465 mins\n",
            "\u001b[90m 5\u001b[39m 03    casual        24.26446 mins\n",
            "\u001b[90m 6\u001b[39m 03    member        12.76304 mins\n",
            "\u001b[90m 7\u001b[39m 04    casual        25.95275 mins\n",
            "\u001b[90m 8\u001b[39m 04    member        12.96490 mins\n",
            "\u001b[90m 9\u001b[39m 05    casual        24.87539 mins\n",
            "\u001b[90m10\u001b[39m 05    member        12.66492 mins\n",
            "\u001b[90m11\u001b[39m 06    casual        26.90077 mins\n",
            "\u001b[90m12\u001b[39m 06    member        12.96029 mins\n",
            "\u001b[90m13\u001b[39m 07    casual        24.32366 mins\n",
            "\u001b[90m14\u001b[39m 07    member        12.68324 mins\n",
            "\u001b[90m15\u001b[39m 08    casual        26.58041 mins\n",
            "\u001b[90m16\u001b[39m 08    member        12.70786 mins\n",
            "\u001b[90m17\u001b[39m 09    casual        25.15316 mins\n",
            "\u001b[90m18\u001b[39m 09    member        12.55112 mins\n",
            "\u001b[90m19\u001b[39m 10    casual        23.90121 mins\n",
            "\u001b[90m20\u001b[39m 10    member        12.39759 mins\n",
            "\u001b[90m21\u001b[39m 11    casual        24.65809 mins\n",
            "\u001b[90m22\u001b[39m 11    member        12.79652 mins\n",
            "\u001b[90m23\u001b[39m 12    casual        25.30543 mins\n",
            "\u001b[90m24\u001b[39m 12    member        12.94233 mins\n",
            "\u001b[90m25\u001b[39m 13    casual        27.36924 mins\n",
            "\u001b[90m26\u001b[39m 13    member        13.24430 mins\n",
            "\u001b[90m27\u001b[39m 14    casual        26.50973 mins\n",
            "\u001b[90m28\u001b[39m 14    member        13.04698 mins\n",
            "\u001b[90m29\u001b[39m 15    casual        24.25581 mins\n",
            "\u001b[90m30\u001b[39m 15    member        12.40751 mins\n",
            "\u001b[90m31\u001b[39m 16    casual        22.94781 mins\n",
            "\u001b[90m32\u001b[39m 16    member        12.52441 mins\n",
            "\u001b[90m33\u001b[39m 17    casual        23.62803 mins\n",
            "\u001b[90m34\u001b[39m 17    member        13.07944 mins\n",
            "\u001b[90m35\u001b[39m 18    casual        24.34350 mins\n",
            "\u001b[90m36\u001b[39m 18    member        13.07343 mins\n",
            "\u001b[90m37\u001b[39m 19    casual        25.85967 mins\n",
            "\u001b[90m38\u001b[39m 19    member        12.89905 mins\n",
            "\u001b[90m39\u001b[39m 20    casual        26.71064 mins\n",
            "\u001b[90m40\u001b[39m 20    member        13.17936 mins\n",
            "\u001b[90m41\u001b[39m 21    casual        27.98193 mins\n",
            "\u001b[90m42\u001b[39m 21    member        13.70968 mins\n",
            "\u001b[90m43\u001b[39m 22    casual        25.49102 mins\n",
            "\u001b[90m44\u001b[39m 22    member        12.80921 mins\n",
            "\u001b[90m45\u001b[39m 23    casual        23.55268 mins\n",
            "\u001b[90m46\u001b[39m 23    member        12.51577 mins\n",
            "\u001b[90m47\u001b[39m 24    casual        23.78419 mins\n",
            "\u001b[90m48\u001b[39m 24    member        12.19412 mins\n",
            "\u001b[90m49\u001b[39m 25    casual        24.88326 mins\n",
            "\u001b[90m50\u001b[39m 25    member        12.93905 mins\n",
            "\u001b[90m51\u001b[39m 26    casual        23.36600 mins\n",
            "\u001b[90m52\u001b[39m 26    member        12.49370 mins\n",
            "\u001b[90m53\u001b[39m 27    casual        27.39818 mins\n",
            "\u001b[90m54\u001b[39m 27    member        13.43471 mins\n",
            "\u001b[90m55\u001b[39m 28    casual        23.55085 mins\n",
            "\u001b[90m56\u001b[39m 28    member        12.28411 mins\n",
            "\u001b[90m57\u001b[39m 29    casual        26.01630 mins\n",
            "\u001b[90m58\u001b[39m 29    member        12.58597 mins\n",
            "\u001b[90m59\u001b[39m 30    casual        25.44503 mins\n",
            "\u001b[90m60\u001b[39m 30    member        12.92197 mins\n",
            "\u001b[90m61\u001b[39m 31    casual        26.85063 mins\n",
            "\u001b[90m62\u001b[39m 31    member        12.92701 mins\n"
          ]
        }
      ]
    },
    {
      "cell_type": "code",
      "source": [
        "#average ride_length\n",
        "cyclistic_date %>% group_by(day) %>%\n",
        "  summarise_at(vars(ride_length),\n",
        "               list(time = mean)) %>%\n",
        "  print(n=31)  #lets you view entire tibble"
      ],
      "metadata": {
        "colab": {
          "base_uri": "https://localhost:8080/"
        },
        "id": "QiS00Y2UDXfr",
        "outputId": "ba64847e-c1b8-4b2d-b400-12889949b882"
      },
      "execution_count": 151,
      "outputs": [
        {
          "output_type": "stream",
          "name": "stdout",
          "text": [
            "\u001b[90m# A tibble: 31 × 2\u001b[39m\n",
            "   day   time         \n",
            "   \u001b[3m\u001b[90m<chr>\u001b[39m\u001b[23m \u001b[3m\u001b[90m<drtn>\u001b[39m\u001b[23m       \n",
            "\u001b[90m 1\u001b[39m 01    17.32486 mins\n",
            "\u001b[90m 2\u001b[39m 02    17.56961 mins\n",
            "\u001b[90m 3\u001b[39m 03    16.97600 mins\n",
            "\u001b[90m 4\u001b[39m 04    18.07585 mins\n",
            "\u001b[90m 5\u001b[39m 05    17.40002 mins\n",
            "\u001b[90m 6\u001b[39m 06    18.44774 mins\n",
            "\u001b[90m 7\u001b[39m 07    17.02615 mins\n",
            "\u001b[90m 8\u001b[39m 08    17.54650 mins\n",
            "\u001b[90m 9\u001b[39m 09    17.00055 mins\n",
            "\u001b[90m10\u001b[39m 10    16.42562 mins\n",
            "\u001b[90m11\u001b[39m 11    17.30872 mins\n",
            "\u001b[90m12\u001b[39m 12    17.76365 mins\n",
            "\u001b[90m13\u001b[39m 13    19.35639 mins\n",
            "\u001b[90m14\u001b[39m 14    18.62915 mins\n",
            "\u001b[90m15\u001b[39m 15    16.84631 mins\n",
            "\u001b[90m16\u001b[39m 16    16.07127 mins\n",
            "\u001b[90m17\u001b[39m 17    16.67085 mins\n",
            "\u001b[90m18\u001b[39m 18    17.35112 mins\n",
            "\u001b[90m19\u001b[39m 19    18.11255 mins\n",
            "\u001b[90m20\u001b[39m 20    18.72359 mins\n",
            "\u001b[90m21\u001b[39m 21    19.78221 mins\n",
            "\u001b[90m22\u001b[39m 22    17.36934 mins\n",
            "\u001b[90m23\u001b[39m 23    16.30816 mins\n",
            "\u001b[90m24\u001b[39m 24    16.20378 mins\n",
            "\u001b[90m25\u001b[39m 25    17.43784 mins\n",
            "\u001b[90m26\u001b[39m 26    16.38769 mins\n",
            "\u001b[90m27\u001b[39m 27    19.37469 mins\n",
            "\u001b[90m28\u001b[39m 28    16.38041 mins\n",
            "\u001b[90m29\u001b[39m 29    17.32316 mins\n",
            "\u001b[90m30\u001b[39m 30    17.38700 mins\n",
            "\u001b[90m31\u001b[39m 31    18.47200 mins\n"
          ]
        }
      ]
    },
    {
      "cell_type": "code",
      "source": [
        "#---------------------MONTH--------------------------\n",
        "\n",
        "#average ride_length by member type\n",
        "cyclistic_date %>% group_by(month, member_casual) %>%\n",
        "  summarise_at(vars(ride_length),\n",
        "               list(time = mean)) %>%\n",
        "  print(n=24)  #lets you view entire tibble"
      ],
      "metadata": {
        "colab": {
          "base_uri": "https://localhost:8080/"
        },
        "id": "8mxjYx4oDbpX",
        "outputId": "d5f7098d-461a-4378-b93b-a0f8ebf9671c"
      },
      "execution_count": 152,
      "outputs": [
        {
          "output_type": "stream",
          "name": "stdout",
          "text": [
            "\u001b[90m# A tibble: 20 × 3\u001b[39m\n",
            "\u001b[90m# Groups:   month [10]\u001b[39m\n",
            "   month     member_casual time         \n",
            "   \u001b[3m\u001b[90m<chr>\u001b[39m\u001b[23m     \u001b[3m\u001b[90m<chr>\u001b[39m\u001b[23m         \u001b[3m\u001b[90m<drtn>\u001b[39m\u001b[23m       \n",
            "\u001b[90m 1\u001b[39m April     casual        24.77649 mins\n",
            "\u001b[90m 2\u001b[39m April     member        12.28607 mins\n",
            "\u001b[90m 3\u001b[39m August    casual        24.81458 mins\n",
            "\u001b[90m 4\u001b[39m August    member        13.13856 mins\n",
            "\u001b[90m 5\u001b[39m February  casual        19.82512 mins\n",
            "\u001b[90m 6\u001b[39m February  member        11.74475 mins\n",
            "\u001b[90m 7\u001b[39m January   casual        15.53736 mins\n",
            "\u001b[90m 8\u001b[39m January   member        11.55637 mins\n",
            "\u001b[90m 9\u001b[39m July      casual        26.48167 mins\n",
            "\u001b[90m10\u001b[39m July      member        13.54003 mins\n",
            "\u001b[90m11\u001b[39m June      casual        26.45039 mins\n",
            "\u001b[90m12\u001b[39m June      member        13.68395 mins\n",
            "\u001b[90m13\u001b[39m March     casual        38.48285 mins\n",
            "\u001b[90m14\u001b[39m March     member        13.66449 mins\n",
            "\u001b[90m15\u001b[39m May       casual        26.94297 mins\n",
            "\u001b[90m16\u001b[39m May       member        13.30430 mins\n",
            "\u001b[90m17\u001b[39m October   casual        22.44443 mins\n",
            "\u001b[90m18\u001b[39m October   member        11.87672 mins\n",
            "\u001b[90m19\u001b[39m September casual        22.15228 mins\n",
            "\u001b[90m20\u001b[39m September member        12.27884 mins\n"
          ]
        }
      ]
    },
    {
      "cell_type": "code",
      "source": [
        "#average ride_length\n",
        "cyclistic_date %>% group_by(month) %>%\n",
        "  summarise_at(vars(ride_length),\n",
        "               list(time = mean))\n"
      ],
      "metadata": {
        "colab": {
          "base_uri": "https://localhost:8080/",
          "height": 412
        },
        "id": "QgX0xxA3Dgur",
        "outputId": "56151529-2234-4880-a7f4-0f4701fb8e1f"
      },
      "execution_count": 153,
      "outputs": [
        {
          "output_type": "display_data",
          "data": {
            "text/html": [
              "<table class=\"dataframe\">\n",
              "<caption>A tibble: 10 × 2</caption>\n",
              "<thead>\n",
              "\t<tr><th scope=col>month</th><th scope=col>time</th></tr>\n",
              "\t<tr><th scope=col>&lt;chr&gt;</th><th scope=col>&lt;drtn&gt;</th></tr>\n",
              "</thead>\n",
              "<tbody>\n",
              "\t<tr><td>April    </td><td>16.22636 mins</td></tr>\n",
              "\t<tr><td>August   </td><td>18.06756 mins</td></tr>\n",
              "\t<tr><td>February </td><td>13.41432 mins</td></tr>\n",
              "\t<tr><td>January  </td><td>12.17605 mins</td></tr>\n",
              "\t<tr><td>July     </td><td>19.08975 mins</td></tr>\n",
              "\t<tr><td>June     </td><td>19.06582 mins</td></tr>\n",
              "\t<tr><td>March    </td><td>22.79094 mins</td></tr>\n",
              "\t<tr><td>May      </td><td>18.47079 mins</td></tr>\n",
              "\t<tr><td>October  </td><td>15.62632 mins</td></tr>\n",
              "\t<tr><td>September</td><td>16.25294 mins</td></tr>\n",
              "</tbody>\n",
              "</table>\n"
            ],
            "text/markdown": "\nA tibble: 10 × 2\n\n| month &lt;chr&gt; | time &lt;drtn&gt; |\n|---|---|\n| April     | 16.22636 mins |\n| August    | 18.06756 mins |\n| February  | 13.41432 mins |\n| January   | 12.17605 mins |\n| July      | 19.08975 mins |\n| June      | 19.06582 mins |\n| March     | 22.79094 mins |\n| May       | 18.47079 mins |\n| October   | 15.62632 mins |\n| September | 16.25294 mins |\n\n",
            "text/latex": "A tibble: 10 × 2\n\\begin{tabular}{ll}\n month & time\\\\\n <chr> & <drtn>\\\\\n\\hline\n\t April     & 16.22636 mins\\\\\n\t August    & 18.06756 mins\\\\\n\t February  & 13.41432 mins\\\\\n\t January   & 12.17605 mins\\\\\n\t July      & 19.08975 mins\\\\\n\t June      & 19.06582 mins\\\\\n\t March     & 22.79094 mins\\\\\n\t May       & 18.47079 mins\\\\\n\t October   & 15.62632 mins\\\\\n\t September & 16.25294 mins\\\\\n\\end{tabular}\n",
            "text/plain": [
              "   month     time         \n",
              "1  April     16.22636 mins\n",
              "2  August    18.06756 mins\n",
              "3  February  13.41432 mins\n",
              "4  January   12.17605 mins\n",
              "5  July      19.08975 mins\n",
              "6  June      19.06582 mins\n",
              "7  March     22.79094 mins\n",
              "8  May       18.47079 mins\n",
              "9  October   15.62632 mins\n",
              "10 September 16.25294 mins"
            ]
          },
          "metadata": {}
        }
      ]
    },
    {
      "cell_type": "code",
      "source": [
        "#----------------------SEASON-------------------------\n",
        "\n",
        "#-----spring------\n",
        "\n",
        "#average ride length by member type\n",
        "cyclistic_date %>%\n",
        "  group_by(member_casual) %>%\n",
        "  filter(season == \"Spring\") %>%\n",
        "  summarise_at(vars(ride_length),\n",
        "               list(time = mean))"
      ],
      "metadata": {
        "colab": {
          "base_uri": "https://localhost:8080/",
          "height": 161
        },
        "id": "74ZCGm3HDmLr",
        "outputId": "0497fe3c-a471-438b-d6e3-482eccad52b5"
      },
      "execution_count": 154,
      "outputs": [
        {
          "output_type": "display_data",
          "data": {
            "text/html": [
              "<table class=\"dataframe\">\n",
              "<caption>A tibble: 2 × 2</caption>\n",
              "<thead>\n",
              "\t<tr><th scope=col>member_casual</th><th scope=col>time</th></tr>\n",
              "\t<tr><th scope=col>&lt;chr&gt;</th><th scope=col>&lt;drtn&gt;</th></tr>\n",
              "</thead>\n",
              "<tbody>\n",
              "\t<tr><td>casual</td><td>28.92840 mins</td></tr>\n",
              "\t<tr><td>member</td><td>13.04024 mins</td></tr>\n",
              "</tbody>\n",
              "</table>\n"
            ],
            "text/markdown": "\nA tibble: 2 × 2\n\n| member_casual &lt;chr&gt; | time &lt;drtn&gt; |\n|---|---|\n| casual | 28.92840 mins |\n| member | 13.04024 mins |\n\n",
            "text/latex": "A tibble: 2 × 2\n\\begin{tabular}{ll}\n member\\_casual & time\\\\\n <chr> & <drtn>\\\\\n\\hline\n\t casual & 28.92840 mins\\\\\n\t member & 13.04024 mins\\\\\n\\end{tabular}\n",
            "text/plain": [
              "  member_casual time         \n",
              "1 casual        28.92840 mins\n",
              "2 member        13.04024 mins"
            ]
          },
          "metadata": {}
        }
      ]
    },
    {
      "cell_type": "code",
      "source": [
        "#average ride length\n",
        "cyclistic_date %>%\n",
        "  filter(season == \"Spring\") %>%\n",
        "  summarise_at(vars(ride_length),\n",
        "               list(time = mean))"
      ],
      "metadata": {
        "colab": {
          "base_uri": "https://localhost:8080/",
          "height": 129
        },
        "id": "bbsZ21QlDrIj",
        "outputId": "c15887e0-cde5-40b7-f666-9189f0ad81b1"
      },
      "execution_count": 157,
      "outputs": [
        {
          "output_type": "display_data",
          "data": {
            "text/html": [
              "<table class=\"dataframe\">\n",
              "<caption>A tibble: 1 × 1</caption>\n",
              "<thead>\n",
              "\t<tr><th scope=col>time</th></tr>\n",
              "\t<tr><th scope=col>&lt;drtn&gt;</th></tr>\n",
              "</thead>\n",
              "<tbody>\n",
              "\t<tr><td>18.70368 mins</td></tr>\n",
              "</tbody>\n",
              "</table>\n"
            ],
            "text/markdown": "\nA tibble: 1 × 1\n\n| time &lt;drtn&gt; |\n|---|\n| 18.70368 mins |\n\n",
            "text/latex": "A tibble: 1 × 1\n\\begin{tabular}{l}\n time\\\\\n <drtn>\\\\\n\\hline\n\t 18.70368 mins\\\\\n\\end{tabular}\n",
            "text/plain": [
              "  time         \n",
              "1 18.70368 mins"
            ]
          },
          "metadata": {}
        }
      ]
    },
    {
      "cell_type": "code",
      "source": [
        "#-----summer------\n",
        "\n",
        "#average ride length by member type for summer\n",
        "cyclistic_date %>%\n",
        "  group_by(member_casual) %>%\n",
        "  filter(season == \"Summer\") %>%\n",
        "  summarise_at(vars(ride_length),\n",
        "               list(time = mean))"
      ],
      "metadata": {
        "colab": {
          "base_uri": "https://localhost:8080/",
          "height": 161
        },
        "id": "6ulDofL4DvdL",
        "outputId": "60e10ba5-b58f-4a80-8b55-434845231bff"
      },
      "execution_count": 156,
      "outputs": [
        {
          "output_type": "display_data",
          "data": {
            "text/html": [
              "<table class=\"dataframe\">\n",
              "<caption>A tibble: 2 × 2</caption>\n",
              "<thead>\n",
              "\t<tr><th scope=col>member_casual</th><th scope=col>time</th></tr>\n",
              "\t<tr><th scope=col>&lt;chr&gt;</th><th scope=col>&lt;drtn&gt;</th></tr>\n",
              "</thead>\n",
              "<tbody>\n",
              "\t<tr><td>casual</td><td>25.90238 mins</td></tr>\n",
              "\t<tr><td>member</td><td>13.44702 mins</td></tr>\n",
              "</tbody>\n",
              "</table>\n"
            ],
            "text/markdown": "\nA tibble: 2 × 2\n\n| member_casual &lt;chr&gt; | time &lt;drtn&gt; |\n|---|---|\n| casual | 25.90238 mins |\n| member | 13.44702 mins |\n\n",
            "text/latex": "A tibble: 2 × 2\n\\begin{tabular}{ll}\n member\\_casual & time\\\\\n <chr> & <drtn>\\\\\n\\hline\n\t casual & 25.90238 mins\\\\\n\t member & 13.44702 mins\\\\\n\\end{tabular}\n",
            "text/plain": [
              "  member_casual time         \n",
              "1 casual        25.90238 mins\n",
              "2 member        13.44702 mins"
            ]
          },
          "metadata": {}
        }
      ]
    },
    {
      "cell_type": "code",
      "source": [
        "#average ride length for summer\n",
        "cyclistic_date %>%\n",
        "  filter(season == \"Summer\") %>%\n",
        "  summarise_at(vars(ride_length),\n",
        "               list(time = mean))\n"
      ],
      "metadata": {
        "colab": {
          "base_uri": "https://localhost:8080/",
          "height": 129
        },
        "id": "N3-f_f1KDzeY",
        "outputId": "e3bd0ac7-d1a1-4dc1-d603-d506b90b681e"
      },
      "execution_count": 158,
      "outputs": [
        {
          "output_type": "display_data",
          "data": {
            "text/html": [
              "<table class=\"dataframe\">\n",
              "<caption>A tibble: 1 × 1</caption>\n",
              "<thead>\n",
              "\t<tr><th scope=col>time</th></tr>\n",
              "\t<tr><th scope=col>&lt;drtn&gt;</th></tr>\n",
              "</thead>\n",
              "<tbody>\n",
              "\t<tr><td>18.73128 mins</td></tr>\n",
              "</tbody>\n",
              "</table>\n"
            ],
            "text/markdown": "\nA tibble: 1 × 1\n\n| time &lt;drtn&gt; |\n|---|\n| 18.73128 mins |\n\n",
            "text/latex": "A tibble: 1 × 1\n\\begin{tabular}{l}\n time\\\\\n <drtn>\\\\\n\\hline\n\t 18.73128 mins\\\\\n\\end{tabular}\n",
            "text/plain": [
              "  time         \n",
              "1 18.73128 mins"
            ]
          },
          "metadata": {}
        }
      ]
    },
    {
      "cell_type": "code",
      "source": [
        "#-----fall------\n",
        "\n",
        "#average ride length by member type\n",
        "cyclistic_date %>%\n",
        "  group_by(member_casual) %>%\n",
        "  filter(season == \"Fall\") %>%\n",
        "  summarise_at(vars(ride_length),\n",
        "               list(time = mean))\n"
      ],
      "metadata": {
        "colab": {
          "base_uri": "https://localhost:8080/",
          "height": 161
        },
        "id": "p8K42kBhD4kO",
        "outputId": "46a650a0-de46-4f1a-89ea-3785554758ed"
      },
      "execution_count": 159,
      "outputs": [
        {
          "output_type": "display_data",
          "data": {
            "text/html": [
              "<table class=\"dataframe\">\n",
              "<caption>A tibble: 2 × 2</caption>\n",
              "<thead>\n",
              "\t<tr><th scope=col>member_casual</th><th scope=col>time</th></tr>\n",
              "\t<tr><th scope=col>&lt;chr&gt;</th><th scope=col>&lt;drtn&gt;</th></tr>\n",
              "</thead>\n",
              "<tbody>\n",
              "\t<tr><td>casual</td><td>22.27626 mins</td></tr>\n",
              "\t<tr><td>member</td><td>12.08802 mins</td></tr>\n",
              "</tbody>\n",
              "</table>\n"
            ],
            "text/markdown": "\nA tibble: 2 × 2\n\n| member_casual &lt;chr&gt; | time &lt;drtn&gt; |\n|---|---|\n| casual | 22.27626 mins |\n| member | 12.08802 mins |\n\n",
            "text/latex": "A tibble: 2 × 2\n\\begin{tabular}{ll}\n member\\_casual & time\\\\\n <chr> & <drtn>\\\\\n\\hline\n\t casual & 22.27626 mins\\\\\n\t member & 12.08802 mins\\\\\n\\end{tabular}\n",
            "text/plain": [
              "  member_casual time         \n",
              "1 casual        22.27626 mins\n",
              "2 member        12.08802 mins"
            ]
          },
          "metadata": {}
        }
      ]
    },
    {
      "cell_type": "code",
      "source": [
        "#average ride length\n",
        "cyclistic_date %>%\n",
        "  filter(season == \"Fall\") %>%\n",
        "  summarise_at(vars(ride_length),\n",
        "               list(time = mean))\n"
      ],
      "metadata": {
        "colab": {
          "base_uri": "https://localhost:8080/",
          "height": 129
        },
        "id": "3NrhtETdD8eh",
        "outputId": "06dab92a-3c40-4a5f-d95e-10e503fbc925"
      },
      "execution_count": 160,
      "outputs": [
        {
          "output_type": "display_data",
          "data": {
            "text/html": [
              "<table class=\"dataframe\">\n",
              "<caption>A tibble: 1 × 1</caption>\n",
              "<thead>\n",
              "\t<tr><th scope=col>time</th></tr>\n",
              "\t<tr><th scope=col>&lt;drtn&gt;</th></tr>\n",
              "</thead>\n",
              "<tbody>\n",
              "\t<tr><td>15.96756 mins</td></tr>\n",
              "</tbody>\n",
              "</table>\n"
            ],
            "text/markdown": "\nA tibble: 1 × 1\n\n| time &lt;drtn&gt; |\n|---|\n| 15.96756 mins |\n\n",
            "text/latex": "A tibble: 1 × 1\n\\begin{tabular}{l}\n time\\\\\n <drtn>\\\\\n\\hline\n\t 15.96756 mins\\\\\n\\end{tabular}\n",
            "text/plain": [
              "  time         \n",
              "1 15.96756 mins"
            ]
          },
          "metadata": {}
        }
      ]
    },
    {
      "cell_type": "code",
      "source": [
        "#-----winter-----\n",
        "\n",
        "#average ride length by member type\n",
        "cyclistic_date %>%\n",
        "  group_by(member_casual) %>%\n",
        "  filter(season == \"Winter\") %>%\n",
        "  summarise_at(vars(ride_length),\n",
        "               list(time = mean))\n"
      ],
      "metadata": {
        "colab": {
          "base_uri": "https://localhost:8080/",
          "height": 161
        },
        "id": "AO4yozAxEBV1",
        "outputId": "2ed27431-16e4-4e4c-9af8-254cf7129275"
      },
      "execution_count": 161,
      "outputs": [
        {
          "output_type": "display_data",
          "data": {
            "text/html": [
              "<table class=\"dataframe\">\n",
              "<caption>A tibble: 2 × 2</caption>\n",
              "<thead>\n",
              "\t<tr><th scope=col>member_casual</th><th scope=col>time</th></tr>\n",
              "\t<tr><th scope=col>&lt;chr&gt;</th><th scope=col>&lt;drtn&gt;</th></tr>\n",
              "</thead>\n",
              "<tbody>\n",
              "\t<tr><td>casual</td><td>18.46602 mins</td></tr>\n",
              "\t<tr><td>member</td><td>11.67015 mins</td></tr>\n",
              "</tbody>\n",
              "</table>\n"
            ],
            "text/markdown": "\nA tibble: 2 × 2\n\n| member_casual &lt;chr&gt; | time &lt;drtn&gt; |\n|---|---|\n| casual | 18.46602 mins |\n| member | 11.67015 mins |\n\n",
            "text/latex": "A tibble: 2 × 2\n\\begin{tabular}{ll}\n member\\_casual & time\\\\\n <chr> & <drtn>\\\\\n\\hline\n\t casual & 18.46602 mins\\\\\n\t member & 11.67015 mins\\\\\n\\end{tabular}\n",
            "text/plain": [
              "  member_casual time         \n",
              "1 casual        18.46602 mins\n",
              "2 member        11.67015 mins"
            ]
          },
          "metadata": {}
        }
      ]
    },
    {
      "cell_type": "code",
      "source": [
        "#average ride length\n",
        "cyclistic_date %>%\n",
        "  filter(season == \"Winter\") %>%\n",
        "  summarise_at(vars(ride_length),\n",
        "               list(time = mean))\n"
      ],
      "metadata": {
        "colab": {
          "base_uri": "https://localhost:8080/",
          "height": 129
        },
        "id": "E_nQEyR2EGbK",
        "outputId": "0edc3a8c-1612-4946-d6cc-b41da8bc00d8"
      },
      "execution_count": 162,
      "outputs": [
        {
          "output_type": "display_data",
          "data": {
            "text/html": [
              "<table class=\"dataframe\">\n",
              "<caption>A tibble: 1 × 1</caption>\n",
              "<thead>\n",
              "\t<tr><th scope=col>time</th></tr>\n",
              "\t<tr><th scope=col>&lt;drtn&gt;</th></tr>\n",
              "</thead>\n",
              "<tbody>\n",
              "\t<tr><td>12.94231 mins</td></tr>\n",
              "</tbody>\n",
              "</table>\n"
            ],
            "text/markdown": "\nA tibble: 1 × 1\n\n| time &lt;drtn&gt; |\n|---|\n| 12.94231 mins |\n\n",
            "text/latex": "A tibble: 1 × 1\n\\begin{tabular}{l}\n time\\\\\n <drtn>\\\\\n\\hline\n\t 12.94231 mins\\\\\n\\end{tabular}\n",
            "text/plain": [
              "  time         \n",
              "1 12.94231 mins"
            ]
          },
          "metadata": {}
        }
      ]
    },
    {
      "cell_type": "code",
      "source": [
        "#----all seasons----\n",
        "\n",
        "#average ride length by member type\n",
        "cyclistic_date %>%\n",
        "  group_by(season, member_casual) %>%\n",
        "  summarise_at(vars(ride_length),\n",
        "               list(time = mean))"
      ],
      "metadata": {
        "colab": {
          "base_uri": "https://localhost:8080/",
          "height": 349
        },
        "id": "iExN-cdFELpb",
        "outputId": "b2e27bab-1677-4dce-ecf8-abf620d08937"
      },
      "execution_count": 163,
      "outputs": [
        {
          "output_type": "display_data",
          "data": {
            "text/html": [
              "<table class=\"dataframe\">\n",
              "<caption>A grouped_df: 8 × 3</caption>\n",
              "<thead>\n",
              "\t<tr><th scope=col>season</th><th scope=col>member_casual</th><th scope=col>time</th></tr>\n",
              "\t<tr><th scope=col>&lt;chr&gt;</th><th scope=col>&lt;chr&gt;</th><th scope=col>&lt;drtn&gt;</th></tr>\n",
              "</thead>\n",
              "<tbody>\n",
              "\t<tr><td>Fall  </td><td>casual</td><td>22.27626 mins</td></tr>\n",
              "\t<tr><td>Fall  </td><td>member</td><td>12.08802 mins</td></tr>\n",
              "\t<tr><td>Spring</td><td>casual</td><td>28.92840 mins</td></tr>\n",
              "\t<tr><td>Spring</td><td>member</td><td>13.04024 mins</td></tr>\n",
              "\t<tr><td>Summer</td><td>casual</td><td>25.90238 mins</td></tr>\n",
              "\t<tr><td>Summer</td><td>member</td><td>13.44702 mins</td></tr>\n",
              "\t<tr><td>Winter</td><td>casual</td><td>18.46602 mins</td></tr>\n",
              "\t<tr><td>Winter</td><td>member</td><td>11.67015 mins</td></tr>\n",
              "</tbody>\n",
              "</table>\n"
            ],
            "text/markdown": "\nA grouped_df: 8 × 3\n\n| season &lt;chr&gt; | member_casual &lt;chr&gt; | time &lt;drtn&gt; |\n|---|---|---|\n| Fall   | casual | 22.27626 mins |\n| Fall   | member | 12.08802 mins |\n| Spring | casual | 28.92840 mins |\n| Spring | member | 13.04024 mins |\n| Summer | casual | 25.90238 mins |\n| Summer | member | 13.44702 mins |\n| Winter | casual | 18.46602 mins |\n| Winter | member | 11.67015 mins |\n\n",
            "text/latex": "A grouped\\_df: 8 × 3\n\\begin{tabular}{lll}\n season & member\\_casual & time\\\\\n <chr> & <chr> & <drtn>\\\\\n\\hline\n\t Fall   & casual & 22.27626 mins\\\\\n\t Fall   & member & 12.08802 mins\\\\\n\t Spring & casual & 28.92840 mins\\\\\n\t Spring & member & 13.04024 mins\\\\\n\t Summer & casual & 25.90238 mins\\\\\n\t Summer & member & 13.44702 mins\\\\\n\t Winter & casual & 18.46602 mins\\\\\n\t Winter & member & 11.67015 mins\\\\\n\\end{tabular}\n",
            "text/plain": [
              "  season member_casual time         \n",
              "1 Fall   casual        22.27626 mins\n",
              "2 Fall   member        12.08802 mins\n",
              "3 Spring casual        28.92840 mins\n",
              "4 Spring member        13.04024 mins\n",
              "5 Summer casual        25.90238 mins\n",
              "6 Summer member        13.44702 mins\n",
              "7 Winter casual        18.46602 mins\n",
              "8 Winter member        11.67015 mins"
            ]
          },
          "metadata": {}
        }
      ]
    },
    {
      "cell_type": "code",
      "source": [
        "#average ride length\n",
        "cyclistic_date %>%\n",
        "  group_by(season) %>%\n",
        "  summarise_at(vars(ride_length),\n",
        "               list(time = mean))"
      ],
      "metadata": {
        "colab": {
          "base_uri": "https://localhost:8080/",
          "height": 224
        },
        "id": "c9HVHBiGERGr",
        "outputId": "aa7f12ca-dc52-4710-92d3-e0f83228973e"
      },
      "execution_count": 164,
      "outputs": [
        {
          "output_type": "display_data",
          "data": {
            "text/html": [
              "<table class=\"dataframe\">\n",
              "<caption>A tibble: 4 × 2</caption>\n",
              "<thead>\n",
              "\t<tr><th scope=col>season</th><th scope=col>time</th></tr>\n",
              "\t<tr><th scope=col>&lt;chr&gt;</th><th scope=col>&lt;drtn&gt;</th></tr>\n",
              "</thead>\n",
              "<tbody>\n",
              "\t<tr><td>Fall  </td><td>15.96756 mins</td></tr>\n",
              "\t<tr><td>Spring</td><td>18.70368 mins</td></tr>\n",
              "\t<tr><td>Summer</td><td>18.73128 mins</td></tr>\n",
              "\t<tr><td>Winter</td><td>12.94231 mins</td></tr>\n",
              "</tbody>\n",
              "</table>\n"
            ],
            "text/markdown": "\nA tibble: 4 × 2\n\n| season &lt;chr&gt; | time &lt;drtn&gt; |\n|---|---|\n| Fall   | 15.96756 mins |\n| Spring | 18.70368 mins |\n| Summer | 18.73128 mins |\n| Winter | 12.94231 mins |\n\n",
            "text/latex": "A tibble: 4 × 2\n\\begin{tabular}{ll}\n season & time\\\\\n <chr> & <drtn>\\\\\n\\hline\n\t Fall   & 15.96756 mins\\\\\n\t Spring & 18.70368 mins\\\\\n\t Summer & 18.73128 mins\\\\\n\t Winter & 12.94231 mins\\\\\n\\end{tabular}\n",
            "text/plain": [
              "  season time         \n",
              "1 Fall   15.96756 mins\n",
              "2 Spring 18.70368 mins\n",
              "3 Summer 18.73128 mins\n",
              "4 Winter 12.94231 mins"
            ]
          },
          "metadata": {}
        }
      ]
    }
  ]
}